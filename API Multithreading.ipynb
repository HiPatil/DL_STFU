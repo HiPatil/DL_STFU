{
 "cells": [
  {
   "cell_type": "markdown",
   "id": "e9fb19f2",
   "metadata": {},
   "source": [
    "# API Multithreading\n",
    "\n",
    "This notebook is to speed up the process of API calls being made, by using a threadpool\n",
    "\n",
    "## Imports"
   ]
  },
  {
   "cell_type": "code",
   "execution_count": 12,
   "id": "4ba6e8c2",
   "metadata": {},
   "outputs": [],
   "source": [
    "import concurrent.futures\n",
    "import pandas as pd\n",
    "import requests\n",
    "import os\n",
    "import json\n",
    "\n",
    "## Dallin's imports \n",
    "import google.cloud.texttospeech as tts\n",
    "import matplotlib.pyplot as plt\n",
    "from scipy import signal\n",
    "from scipy.io import wavfile\n",
    "import numpy as np\n",
    "import random\n",
    "import string\n"
   ]
  },
  {
   "cell_type": "markdown",
   "id": "e525b41d",
   "metadata": {},
   "source": [
    "## API Function\n",
    "\n",
    "#### Contants"
   ]
  },
  {
   "cell_type": "code",
   "execution_count": 2,
   "id": "c567d8fc",
   "metadata": {},
   "outputs": [],
   "source": [
    "voice_list = [('en-US-Neural2-A', 'MALE'),\n",
    " ('en-US-Neural2-C', 'FEMALE'),\n",
    " ('en-US-Neural2-D', 'MALE'),\n",
    " ('en-US-Neural2-E', 'FEMALE'),\n",
    " ('en-US-Neural2-F', 'FEMALE'),\n",
    " ('en-US-Neural2-G', 'FEMALE'),\n",
    " ('en-US-Neural2-H', 'FEMALE'),\n",
    " ('en-US-Neural2-I', 'MALE'),\n",
    " ('en-US-Neural2-J', 'MALE'),\n",
    " ('en-US-News-K', 'FEMALE'),\n",
    " ('en-US-News-L', 'FEMALE'),\n",
    " ('en-US-News-M', 'MALE'),\n",
    " ('en-US-News-N', 'MALE'),\n",
    " ('en-US-Standard-A', 'MALE'),\n",
    " ('en-US-Standard-B', 'MALE'),\n",
    " ('en-US-Standard-C', 'FEMALE'),\n",
    " ('en-US-Standard-D', 'MALE'),\n",
    " ('en-US-Standard-E', 'FEMALE'),\n",
    " ('en-US-Standard-F', 'FEMALE'),\n",
    " ('en-US-Standard-G', 'FEMALE'),\n",
    " ('en-US-Standard-H', 'FEMALE'),\n",
    " ('en-US-Standard-I', 'MALE'),\n",
    " ('en-US-Standard-J', 'MALE'),\n",
    " ('en-US-Studio-M', 'MALE'),\n",
    " ('en-US-Studio-O', 'FEMALE'),\n",
    " ('en-US-Wavenet-A', 'MALE'),\n",
    " ('en-US-Wavenet-B', 'MALE'),\n",
    " ('en-US-Wavenet-C', 'FEMALE'),\n",
    " ('en-US-Wavenet-D', 'MALE'),\n",
    " ('en-US-Wavenet-E', 'FEMALE'),\n",
    " ('en-US-Wavenet-F', 'FEMALE'),\n",
    " ('en-US-Wavenet-G', 'FEMALE'),\n",
    " ('en-US-Wavenet-H', 'FEMALE'),\n",
    " ('en-US-Wavenet-I', 'MALE'),\n",
    " ('en-US-Wavenet-J', 'MALE')]\n",
    "\n",
    "profile_id_list = ['wearable-class-device'##\tSmart watches and other wearables, like Apple Watch, Wear OS watch\n",
    ",'handset-class-device'##\tSmartphones, like Google Pixel, Samsung Galaxy, Apple iPhone\n",
    ",'headphone-class-device'##\tEarbuds or headphones for audio playback, like Sennheiser headphones\n",
    ",'small-bluetooth-speaker-class-device'#\tSmall home speakers, like Google Home Mini\n",
    ",'medium-bluetooth-speaker-class-device'#\tSmart home speakers, like Google Home\n",
    ",'large-home-entertainment-class-device'#\tHome entertainment systems or smart TVs, like Google Home Max, LG TV\n",
    ",'large-automotive-class-device'#\tCar speakers\n",
    ",'telephony-class-application'#\tInteractive Voice Response (IVR) systems\n",
    "]"
   ]
  },
  {
   "cell_type": "code",
   "execution_count": 37,
   "id": "2422549c",
   "metadata": {},
   "outputs": [],
   "source": [
    "def random_settings_text_to_wav( text: str, idx: int, label: bool, voice_list,profile_list):\n",
    "    \"\"\"Mock function that doesn't make API call, just returns filename.\"\"\"\n",
    "    voice = random.choice(voice_list)\n",
    "    voice_name = voice[0]\n",
    "    gender = voice[1]\n",
    "    speaking_rate = random.uniform(0.8,1.2)\n",
    "    pitch = random.uniform(-5,5)\n",
    "    profile = random.choice(profile_list)\n",
    "    language_code = \"-\".join(voice_name.split(\"-\")[:2])\n",
    "    code = ''.join(random.choice(string.ascii_uppercase + string.digits) for _ in range(10)) \n",
    "    filename = f\"{language_code}_{code}_{str(idx)}_{str(label)}.wav\"\n",
    "    return filename"
   ]
  },
  {
   "cell_type": "markdown",
   "id": "f3fce2d3",
   "metadata": {},
   "source": [
    "#### Read in the dataframe"
   ]
  },
  {
   "cell_type": "code",
   "execution_count": 38,
   "id": "6daf2b54",
   "metadata": {},
   "outputs": [
    {
     "name": "stdout",
     "output_type": "stream",
     "text": [
      "(472674, 3)\n",
      "   Unnamed: 0                            0      1\n",
      "0         131        worst hook in history  False\n",
      "1         181      man that silence on axe  False\n",
      "2         212  you better call your mom od  False\n",
      "3         213        u need her breastfeed  False\n",
      "4         331        remember me last game  False\n"
     ]
    }
   ],
   "source": [
    "df = pd.read_csv('labeled_augmented.csv')\n",
    "print(df.shape)\n",
    "print(df.head())"
   ]
  },
  {
   "cell_type": "markdown",
   "id": "d5c89651",
   "metadata": {},
   "source": [
    "#### Rename dataframe columns"
   ]
  },
  {
   "cell_type": "code",
   "execution_count": 39,
   "id": "f30b21dd",
   "metadata": {},
   "outputs": [
    {
     "name": "stdout",
     "output_type": "stream",
     "text": [
      "Index(['Unnamed: 0', '0', '1'], dtype='object')\n",
      "Index(['idx', 'Text', 'Flag'], dtype='object')\n",
      "   idx                         Text   Flag\n",
      "0  131        worst hook in history  False\n",
      "1  181      man that silence on axe  False\n",
      "2  212  you better call your mom od  False\n",
      "3  213        u need her breastfeed  False\n",
      "4  331        remember me last game  False\n"
     ]
    }
   ],
   "source": [
    "print(df.columns)\n",
    "df = df.rename(columns={'Unnamed: 0': 'idx', '0': 'Text', '1': 'Flag'})\n",
    "print(df.columns)\n",
    "print(df.head())"
   ]
  },
  {
   "cell_type": "markdown",
   "id": "0ca6a466",
   "metadata": {},
   "source": [
    "### Check getting the filename"
   ]
  },
  {
   "cell_type": "code",
   "execution_count": 40,
   "id": "20acea8a",
   "metadata": {},
   "outputs": [
    {
     "name": "stdout",
     "output_type": "stream",
     "text": [
      "en-US_JQXLXV4AQO_0_False.wav\n"
     ]
    }
   ],
   "source": [
    "test = df.iloc[0]\n",
    "\n",
    "filename = random_settings_text_to_wav( test['Text'], 0, test['Flag'], voice_list,profile_id_list)\n",
    "print(filename)"
   ]
  },
  {
   "cell_type": "markdown",
   "id": "4eee9dd8",
   "metadata": {},
   "source": [
    "#### Helper Functions"
   ]
  },
  {
   "cell_type": "code",
   "execution_count": 48,
   "id": "2abc34a1",
   "metadata": {},
   "outputs": [],
   "source": [
    "def get_filename(index, df_row):\n",
    "    \"\"\"This function takes in a single row of the dataframe, and \n",
    "          outputs a dict of {index: filename}\"\"\"\n",
    "    filename = random_settings_text_to_wav(df_row['Text'], index, df_row['Flag'], voice_list,profile_id_list)\n",
    "    return {index: filename}\n",
    "\n",
    "def thread_process_dataframe(df, num_threads=4):\n",
    "    \"\"\"This function takes in a df & number of threads, and appends the filename from the api to the df\"\"\"\n",
    "    filename_dict = {}\n",
    "    error_dict = []\n",
    "    \n",
    "    # Create a thread pool \n",
    "    with concurrent.futures.ThreadPoolExecutor(max_workers=num_threads) as executor:\n",
    "        # Submit a job for each row of the threadpool\n",
    "        jobs_list = {executor.submit(get_filename, index, row): row for index, row in df.iterrows()}\n",
    "        \n",
    "        # Wait for all jobs to finish\n",
    "        for job in concurrent.futures.as_completed(jobs_list):\n",
    "            try:\n",
    "                # get result of the job\n",
    "                result = job.result()\n",
    "\n",
    "                # update filename dict\n",
    "                filename_dict.update(result)\n",
    "            except Exception as e:\n",
    "                # Save the dict if we have an exception\n",
    "                error_filename = f'filename_dict_error_{os.getpid()}.json'\n",
    "                with open(error_filename, 'w') as file:\n",
    "                    json.dump(filename_dict, file)\n",
    "                    error_dict.append(error_filename)\n",
    "    # Next step:\n",
    "    #  if a filename_dict_error exists, read the last one\n",
    "\n",
    "    # Once all iterations done, add filenames to the dataframe\n",
    "    df['Filename'] = df.index.map(lambda x: filename_dict[x])\n",
    "    \n",
    "    # Next step:\n",
    "    #   Delete the fict json files\n",
    "    \n",
    "    return df"
   ]
  },
  {
   "cell_type": "code",
   "execution_count": 45,
   "id": "38e22fb6",
   "metadata": {},
   "outputs": [
    {
     "name": "stdout",
     "output_type": "stream",
     "text": [
      "   idx                         Text   Flag\n",
      "0  131        worst hook in history  False\n",
      "1  181      man that silence on axe  False\n",
      "2  212  you better call your mom od  False\n",
      "3  213        u need her breastfeed  False\n",
      "--------------------------------------------------------------\n",
      "   idx                         Text   Flag                      Filename\n",
      "0  131        worst hook in history  False  en-US_C5VH2DYTTZ_0_False.wav\n",
      "1  181      man that silence on axe  False  en-US_EI2TJFJPXV_1_False.wav\n",
      "2  212  you better call your mom od  False  en-US_GKVSI44UAJ_2_False.wav\n",
      "3  213        u need her breastfeed  False  en-US_DQ48D9643G_3_False.wav\n"
     ]
    },
    {
     "name": "stderr",
     "output_type": "stream",
     "text": [
      "C:\\Users\\konic\\AppData\\Local\\Temp\\ipykernel_26100\\1420473399.py:35: SettingWithCopyWarning: \n",
      "A value is trying to be set on a copy of a slice from a DataFrame.\n",
      "Try using .loc[row_indexer,col_indexer] = value instead\n",
      "\n",
      "See the caveats in the documentation: https://pandas.pydata.org/pandas-docs/stable/user_guide/indexing.html#returning-a-view-versus-a-copy\n",
      "  df['Filename'] = df.index.map(lambda x: filename_dict[x])\n"
     ]
    }
   ],
   "source": [
    "# Number of workers for multithreading\n",
    "NUM_WORKERS = 4\n",
    "\n",
    "test_df = df.iloc[0:4]\n",
    "print(test_df)\n",
    "print('--------------------------------------------------------------')\n",
    "test_df = thread_process_dataframe(test_df, NUM_WORKERS)\n",
    "print(test_df)"
   ]
  }
 ],
 "metadata": {
  "kernelspec": {
   "display_name": "Python 3 (ipykernel)",
   "language": "python",
   "name": "python3"
  },
  "language_info": {
   "codemirror_mode": {
    "name": "ipython",
    "version": 3
   },
   "file_extension": ".py",
   "mimetype": "text/x-python",
   "name": "python",
   "nbconvert_exporter": "python",
   "pygments_lexer": "ipython3",
   "version": "3.9.13"
  }
 },
 "nbformat": 4,
 "nbformat_minor": 5
}
