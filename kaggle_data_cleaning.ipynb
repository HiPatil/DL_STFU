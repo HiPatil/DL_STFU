{
 "cells": [
  {
   "cell_type": "code",
   "execution_count": 1,
   "id": "9bf90994",
   "metadata": {},
   "outputs": [
    {
     "data": {
      "text/plain": [
       "'\\nThis is just going to make data to turn into audio.  sentence splitting can happen here i think.\\n'"
      ]
     },
     "execution_count": 1,
     "metadata": {},
     "output_type": "execute_result"
    }
   ],
   "source": [
    "import pandas as pd\n",
    "import numpy as np\n",
    "from nltk.corpus import stopwords\n",
    "\n",
    "\"\"\"\n",
    "This is just going to make data to turn into audio.  sentence splitting can happen here i think.\n",
    "\"\"\""
   ]
  },
  {
   "cell_type": "code",
   "execution_count": 2,
   "id": "67012835",
   "metadata": {},
   "outputs": [],
   "source": [
    "cuss_words = [\n",
    "    \"fuck\"\n",
    "    ,\"fucking\"\n",
    "    ,\"ass\"\n",
    "    ,\"bitch\"\n",
    "    ,\"dick\"\n",
    "    ,\"fag\"\n",
    "    ,\"faggot\"\n",
    "    ,\"nigger\"\n",
    "    ,\"shit\"\n",
    "    ,\"cunt\"\n",
    "    ,\"whore\"\n",
    "    ,\"cock\"\n",
    "    ,\"pussy\"\n",
    "    ,\"cocksucker\"\n",
    "    \n",
    "]"
   ]
  },
  {
   "cell_type": "code",
   "execution_count": 3,
   "id": "e4a979ac",
   "metadata": {},
   "outputs": [],
   "source": [
    "stops = set(stopwords.words('english'))"
   ]
  },
  {
   "cell_type": "code",
   "execution_count": 4,
   "id": "3dc273eb",
   "metadata": {},
   "outputs": [],
   "source": [
    "data = pd.read_csv('dota2_chat_messages.csv')\n",
    "data['text'] = data['text'].apply(str)\n",
    "data['text'] = data['text'].apply(str.lower)"
   ]
  },
  {
   "cell_type": "code",
   "execution_count": 40,
   "id": "e9a0e5f6",
   "metadata": {},
   "outputs": [],
   "source": [
    "def maxscii(string):\n",
    "    \"\"\"\n",
    "    returns true if the proportion of characters that are in [a-z] or [A-Z] are over cutoff\n",
    "    \"\"\"\n",
    "    letter_ascii = [i for i in range(65,91)] + [i for i in range(97,123)]\n",
    "    string_ascii = [ord(i) for i in str(string)]\n",
    "    letter_list = [ 1 if i in letter_ascii else 0 for i in string_ascii]\n",
    "    \n",
    "    return float(sum(letter_list))/float(len(letter_list))\n",
    "\n",
    "def space_ratio(string):\n",
    "    str_string = str(string)\n",
    "    return str_string.count(\" \")/len(str_string)\n",
    "    \n",
    "def total_stop_words(string,stop_words):\n",
    "    \"\"\"\n",
    "    count how many english stop words are present\n",
    "    returns word level ratio\n",
    "    \"\"\"\n",
    "    text_list = string.split(\" \")\n",
    "    stop_counts = len([i for i in text_list if i in stop_words])\n",
    "    return stop_counts/len(text_list)\n",
    "\n",
    "def augment_with_non_final_cuss_words(df,cuss_words):\n",
    "    \"\"\"\n",
    "    This is a data augmentation function that looks for cuss_words in the middle of the sentence, slices the sentence \n",
    "    and makes another sentence with a terminal position cussword. \n",
    "    \"\"\"\n",
    "    word_split = [i.split(' ')[:-1] for i in df] #not the first and not the last\n",
    "\n",
    "    truth_table = [ [x  in cuss_words for x in i ] for i in word_split  ] ## all but last\n",
    "    final_idx = [[j for j,k in enumerate(i) if k] for i in truth_table]\n",
    "    extra_words = [i for i in list(zip(word_split, final_idx)) if len(i[1]) > 0]\n",
    "    df_aug = pd.Series( [' '.join(i[0][:j+1]) for i in extra_words for j in i[1]])\n",
    "    return pd.concat([df,df_aug])\n",
    "\n",
    "def bleep(string,cuss_words):\n",
    "    \"\"\"\n",
    "    more robust than just matching.  this sees if any of the cusswords exist in the last word\n",
    "    so, fucko will match with fuck.  \n",
    "    \"\"\"\n",
    "    last_word = string.split(' ')[-1]\n",
    "    return any([i in last_word for i in cuss_words ])\n",
    "    "
   ]
  },
  {
   "cell_type": "code",
   "execution_count": 6,
   "id": "d10b623d",
   "metadata": {},
   "outputs": [],
   "source": [
    "data['maxscii'] = data.apply(lambda x : maxscii(x['text']), axis =1) #proportion of letters in text\n",
    "data['len'] = data.apply(lambda x : len(str(x['text'])), axis =1) #len in char\n",
    "data['space_ratio'] = data.apply(lambda x: space_ratio(x['text']), axis = 1)\n",
    "data['stop_percent'] = data.apply(lambda x : total_stop_words(x['text'],stops), axis = 1 )"
   ]
  },
  {
   "cell_type": "code",
   "execution_count": 7,
   "id": "a3e42038",
   "metadata": {},
   "outputs": [
    {
     "data": {
      "text/plain": [
       "<AxesSubplot:>"
      ]
     },
     "execution_count": 7,
     "metadata": {},
     "output_type": "execute_result"
    },
    {
     "data": {
      "image/png": "[encoded data removed]",
      "text/plain": [
       "<Figure size 432x288 with 1 Axes>"
      ]
     },
     "metadata": {
      "needs_background": "light"
     },
     "output_type": "display_data"
    }
   ],
   "source": [
    "data[\"space_ratio\"].hist(bins = 20)"
   ]
  },
  {
   "cell_type": "code",
   "execution_count": 8,
   "id": "5da1815e",
   "metadata": {},
   "outputs": [
    {
     "data": {
      "text/plain": [
       "<AxesSubplot:>"
      ]
     },
     "execution_count": 8,
     "metadata": {},
     "output_type": "execute_result"
    },
    {
     "data": {
      "image/png": "[encoded data removed]",
      "text/plain": [
       "<Figure size 432x288 with 1 Axes>"
      ]
     },
     "metadata": {
      "needs_background": "light"
     },
     "output_type": "display_data"
    }
   ],
   "source": [
    "data[\"stop_percent\"].hist(bins = 20)"
   ]
  },
  {
   "cell_type": "code",
   "execution_count": 9,
   "id": "9fdef5d6",
   "metadata": {},
   "outputs": [
    {
     "data": {
      "text/plain": [
       "<AxesSubplot:>"
      ]
     },
     "execution_count": 9,
     "metadata": {},
     "output_type": "execute_result"
    },
    {
     "data": {
      "image/png": "[encoded data removed]",
      "text/plain": [
       "<Figure size 432x288 with 1 Axes>"
      ]
     },
     "metadata": {
      "needs_background": "light"
     },
     "output_type": "display_data"
    }
   ],
   "source": [
    "data.loc[data['maxscii'] > 0.8]['space_ratio'].hist(bins=20)"
   ]
  },
  {
   "cell_type": "code",
   "execution_count": 10,
   "id": "00d4bb41",
   "metadata": {},
   "outputs": [
    {
     "data": {
      "text/plain": [
       "array([[<AxesSubplot:title={'center':'maxscii'}>,\n",
       "        <AxesSubplot:title={'center':'len'}>]], dtype=object)"
      ]
     },
     "execution_count": 10,
     "metadata": {},
     "output_type": "execute_result"
    },
    {
     "data": {
      "image/png": "[encoded data removed]",
      "text/plain": [
       "<Figure size 432x288 with 2 Axes>"
      ]
     },
     "metadata": {
      "needs_background": "light"
     },
     "output_type": "display_data"
    }
   ],
   "source": [
    "data[['maxscii','len']].hist(bins = 20) ## looks like above 0.8 will do nice"
   ]
  },
  {
   "cell_type": "code",
   "execution_count": 11,
   "id": "e054a616",
   "metadata": {},
   "outputs": [
    {
     "data": {
      "text/plain": [
       "<AxesSubplot:xlabel='maxscii', ylabel='len'>"
      ]
     },
     "execution_count": 11,
     "metadata": {},
     "output_type": "execute_result"
    },
    {
     "data": {
      "image/png": "[encoded data removed]",
      "text/plain": [
       "<Figure size 432x288 with 1 Axes>"
      ]
     },
     "metadata": {
      "needs_background": "light"
     },
     "output_type": "display_data"
    }
   ],
   "source": [
    "data.plot.scatter(x='maxscii',y='len',c='red')"
   ]
  },
  {
   "cell_type": "code",
   "execution_count": 12,
   "id": "24e58a78",
   "metadata": {},
   "outputs": [],
   "source": [
    "good_data = data['text']\n",
    "good_data = good_data.loc[data['maxscii']>0.8]\n",
    "good_data = good_data.loc[data['len']>20]\n",
    "good_data = good_data.loc[data['space_ratio']>0.05]\n",
    "good_data = good_data.loc[data['stop_percent']>0.2] #0 was too low, was getting tagalog\n"
   ]
  },
  {
   "cell_type": "code",
   "execution_count": 28,
   "id": "556e5900",
   "metadata": {},
   "outputs": [],
   "source": [
    "good_data_augmented = augment_with_non_final_cuss_words(good_data,cuss_words)"
   ]
  },
  {
   "cell_type": "code",
   "execution_count": 43,
   "id": "6b10f5ba",
   "metadata": {},
   "outputs": [],
   "source": [
    "labeled = pd.DataFrame(good_data_augmented)\n",
    "labeled[1] = labeled.apply(lambda x : bleep(x[0],cuss_words),axis = 1)"
   ]
  },
  {
   "cell_type": "code",
   "execution_count": 48,
   "id": "e1744c44",
   "metadata": {},
   "outputs": [
    {
     "data": {
      "text/plain": [
       "(False    422675\n",
       " True      49999\n",
       " Name: 1, dtype: int64,\n",
       "                                  0      1\n",
       " 131          worst hook in history  False\n",
       " 181        man that silence on axe  False\n",
       " 212    you better call your mom od  False\n",
       " 213          u need her breastfeed  False\n",
       " 331          remember me last game  False\n",
       " ...                            ...    ...\n",
       " 34537       we won bot you fucking   True\n",
       " 34538              are you fucking   True\n",
       " 34539            you are a fucking   True\n",
       " 34540                         fuck   True\n",
       " 34541                shut the fuck   True\n",
       " \n",
       " [472674 rows x 2 columns])"
      ]
     },
     "execution_count": 48,
     "metadata": {},
     "output_type": "execute_result"
    }
   ],
   "source": [
    "labeled[1].value_counts(), labeled"
   ]
  },
  {
   "cell_type": "code",
   "execution_count": 49,
   "id": "acf4a5e2",
   "metadata": {},
   "outputs": [],
   "source": [
    "labeled.to_csv(\"labeled_augmented.csv\")"
   ]
  },
  {
   "cell_type": "code",
   "execution_count": 2,
   "id": "fc0ec0d7",
   "metadata": {},
   "outputs": [
    {
     "data": {
      "text/html": [
       "<div>\n",
       "<style scoped>\n",
       "    .dataframe tbody tr th:only-of-type {\n",
       "        vertical-align: middle;\n",
       "    }\n",
       "\n",
       "    .dataframe tbody tr th {\n",
       "        vertical-align: top;\n",
       "    }\n",
       "\n",
       "    .dataframe thead th {\n",
       "        text-align: right;\n",
       "    }\n",
       "</style>\n",
       "<table border=\"1\" class=\"dataframe\">\n",
       "  <thead>\n",
       "    <tr style=\"text-align: right;\">\n",
       "      <th></th>\n",
       "      <th>Unnamed: 0</th>\n",
       "      <th>0</th>\n",
       "      <th>1</th>\n",
       "    </tr>\n",
       "  </thead>\n",
       "  <tbody>\n",
       "    <tr>\n",
       "      <th>0</th>\n",
       "      <td>131</td>\n",
       "      <td>worst hook in history</td>\n",
       "      <td>False</td>\n",
       "    </tr>\n",
       "    <tr>\n",
       "      <th>1</th>\n",
       "      <td>181</td>\n",
       "      <td>man that silence on axe</td>\n",
       "      <td>False</td>\n",
       "    </tr>\n",
       "    <tr>\n",
       "      <th>2</th>\n",
       "      <td>212</td>\n",
       "      <td>you better call your mom od</td>\n",
       "      <td>False</td>\n",
       "    </tr>\n",
       "    <tr>\n",
       "      <th>3</th>\n",
       "      <td>213</td>\n",
       "      <td>u need her breastfeed</td>\n",
       "      <td>False</td>\n",
       "    </tr>\n",
       "    <tr>\n",
       "      <th>4</th>\n",
       "      <td>331</td>\n",
       "      <td>remember me last game</td>\n",
       "      <td>False</td>\n",
       "    </tr>\n",
       "    <tr>\n",
       "      <th>...</th>\n",
       "      <td>...</td>\n",
       "      <td>...</td>\n",
       "      <td>...</td>\n",
       "    </tr>\n",
       "    <tr>\n",
       "      <th>472669</th>\n",
       "      <td>34537</td>\n",
       "      <td>we won bot you fucking</td>\n",
       "      <td>True</td>\n",
       "    </tr>\n",
       "    <tr>\n",
       "      <th>472670</th>\n",
       "      <td>34538</td>\n",
       "      <td>are you fucking</td>\n",
       "      <td>True</td>\n",
       "    </tr>\n",
       "    <tr>\n",
       "      <th>472671</th>\n",
       "      <td>34539</td>\n",
       "      <td>you are a fucking</td>\n",
       "      <td>True</td>\n",
       "    </tr>\n",
       "    <tr>\n",
       "      <th>472672</th>\n",
       "      <td>34540</td>\n",
       "      <td>fuck</td>\n",
       "      <td>True</td>\n",
       "    </tr>\n",
       "    <tr>\n",
       "      <th>472673</th>\n",
       "      <td>34541</td>\n",
       "      <td>shut the fuck</td>\n",
       "      <td>True</td>\n",
       "    </tr>\n",
       "  </tbody>\n",
       "</table>\n",
       "<p>472674 rows × 3 columns</p>\n",
       "</div>"
      ],
      "text/plain": [
       "        Unnamed: 0                            0      1\n",
       "0              131        worst hook in history  False\n",
       "1              181      man that silence on axe  False\n",
       "2              212  you better call your mom od  False\n",
       "3              213        u need her breastfeed  False\n",
       "4              331        remember me last game  False\n",
       "...            ...                          ...    ...\n",
       "472669       34537       we won bot you fucking   True\n",
       "472670       34538              are you fucking   True\n",
       "472671       34539            you are a fucking   True\n",
       "472672       34540                         fuck   True\n",
       "472673       34541                shut the fuck   True\n",
       "\n",
       "[472674 rows x 3 columns]"
      ]
     },
     "execution_count": 2,
     "metadata": {},
     "output_type": "execute_result"
    }
   ],
   "source": [
    "pd.read_csv('labeled_augmented.csv')"
   ]
  },
  {
   "cell_type": "code",
   "execution_count": null,
   "id": "5d320ffe",
   "metadata": {},
   "outputs": [],
   "source": []
  }
 ],
 "metadata": {
  "kernelspec": {
   "display_name": "Python 3 (ipykernel)",
   "language": "python",
   "name": "python3"
  },
  "language_info": {
   "codemirror_mode": {
    "name": "ipython",
    "version": 3
   },
   "file_extension": ".py",
   "mimetype": "text/x-python",
   "name": "python",
   "nbconvert_exporter": "python",
   "pygments_lexer": "ipython3",
   "version": "3.9.12"
  }
 },
 "nbformat": 4,
 "nbformat_minor": 5
}
