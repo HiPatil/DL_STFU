{
 "cells": [
  {
   "cell_type": "code",
   "execution_count": 44,
   "id": "9bf90994",
   "metadata": {},
   "outputs": [
    {
     "ename": "ModuleNotFoundError",
     "evalue": "No module named 'indexer'",
     "output_type": "error",
     "traceback": [
      "\u001b[0;31m---------------------------------------------------------------------------\u001b[0m",
      "\u001b[0;31mModuleNotFoundError\u001b[0m                       Traceback (most recent call last)",
      "Input \u001b[0;32mIn [44]\u001b[0m, in \u001b[0;36m<cell line: 4>\u001b[0;34m()\u001b[0m\n\u001b[1;32m      2\u001b[0m \u001b[38;5;28;01mimport\u001b[39;00m \u001b[38;5;21;01mnumpy\u001b[39;00m \u001b[38;5;28;01mas\u001b[39;00m \u001b[38;5;21;01mnp\u001b[39;00m\n\u001b[1;32m      3\u001b[0m \u001b[38;5;28;01mfrom\u001b[39;00m \u001b[38;5;21;01mnltk\u001b[39;00m\u001b[38;5;21;01m.\u001b[39;00m\u001b[38;5;21;01mcorpus\u001b[39;00m \u001b[38;5;28;01mimport\u001b[39;00m stopwords\n\u001b[0;32m----> 4\u001b[0m \u001b[38;5;28;01mfrom\u001b[39;00m \u001b[38;5;21;01mspellchecker\u001b[39;00m \u001b[38;5;28;01mimport\u001b[39;00m SpellChecker\n\u001b[1;32m      6\u001b[0m \u001b[38;5;124;03m\"\"\"\u001b[39;00m\n\u001b[1;32m      7\u001b[0m \u001b[38;5;124;03mThis is just going to make data to turn into audio.  sentence splitting can happen here i think.\u001b[39;00m\n\u001b[1;32m      8\u001b[0m \u001b[38;5;124;03m\"\"\"\u001b[39;00m\n",
      "File \u001b[0;32m~/opt/anaconda3/lib/python3.9/site-packages/spellchecker/__init__.py:2\u001b[0m, in \u001b[0;36m<module>\u001b[0;34m\u001b[0m\n\u001b[1;32m      1\u001b[0m \u001b[38;5;66;03m# -*- coding: utf-8 -*-\u001b[39;00m\n\u001b[0;32m----> 2\u001b[0m \u001b[38;5;28;01mfrom\u001b[39;00m  \u001b[38;5;21;01mspellchecker\u001b[39;00m\u001b[38;5;21;01m.\u001b[39;00m\u001b[38;5;21;01mcore\u001b[39;00m \u001b[38;5;28;01mimport\u001b[39;00m Spellchecker,getInstance\n",
      "File \u001b[0;32m~/opt/anaconda3/lib/python3.9/site-packages/spellchecker/core.py:26\u001b[0m, in \u001b[0;36m<module>\u001b[0;34m\u001b[0m\n\u001b[1;32m     23\u001b[0m \u001b[38;5;28;01mimport\u001b[39;00m \u001b[38;5;21;01minexactsearch\u001b[39;00m\n\u001b[1;32m     24\u001b[0m \u001b[38;5;28;01mimport\u001b[39;00m \u001b[38;5;21;01murllib\u001b[39;00m\n\u001b[0;32m---> 26\u001b[0m \u001b[38;5;28;01mfrom\u001b[39;00m \u001b[38;5;21;01mindexer\u001b[39;00m \u001b[38;5;28;01mimport\u001b[39;00m DictionaryIndex\n\u001b[1;32m     27\u001b[0m \u001b[38;5;28;01mfrom\u001b[39;00m \u001b[38;5;21;01mlangdetect\u001b[39;00m \u001b[38;5;28;01mimport\u001b[39;00m _detect_lang\n\u001b[1;32m     29\u001b[0m __all__ \u001b[38;5;241m=\u001b[39m [\u001b[38;5;124m'\u001b[39m\u001b[38;5;124mSpellchecker\u001b[39m\u001b[38;5;124m'\u001b[39m, \u001b[38;5;124m'\u001b[39m\u001b[38;5;124mgetInstance\u001b[39m\u001b[38;5;124m'\u001b[39m]\n",
      "\u001b[0;31mModuleNotFoundError\u001b[0m: No module named 'indexer'"
     ]
    }
   ],
   "source": [
    "import pandas as pd\n",
    "import numpy as np\n",
    "from nltk.corpus import stopwords\n",
    "\n",
    "\"\"\"\n",
    "This is just going to make data to turn into audio.  sentence splitting can happen here i think.\n",
    "\"\"\""
   ]
  },
  {
   "cell_type": "code",
   "execution_count": 49,
   "id": "67012835",
   "metadata": {},
   "outputs": [],
   "source": [
    "cuss_words = [\n",
    "    \"fuck\"\n",
    "    ,\"fucking\"\n",
    "    ,\"ass\"\n",
    "    ,\"bitch\"\n",
    "    ,\"dick\"\n",
    "    ,\"fag\"\n",
    "    ,\"faggot\"\n",
    "    ,\"nigger\"\n",
    "    ,\"shit\"\n",
    "    ,\"cunt\"\n",
    "    ,\"whore\"\n",
    "    ,\"cock\"\n",
    "    ,\"pussy\"\n",
    "    ,\"cocksucker\"\n",
    "    \n",
    "]"
   ]
  },
  {
   "cell_type": "code",
   "execution_count": 23,
   "id": "e4a979ac",
   "metadata": {},
   "outputs": [
    {
     "name": "stdout",
     "output_type": "stream",
     "text": [
      "{'t', 'o', 'aren', 'her', 'weren', 'this', 've', 'their', \"hadn't\", 'and', 'them', 'into', 'him', 'yourselves', 'now', 'itself', 'which', 'ours', 'when', 'or', 'very', \"wasn't\", 'you', 'how', 'more', 'each', 'from', 'are', 'all', 'will', 'm', 'these', 'those', 'they', 'no', 'here', 'i', 'a', 'yourself', 'while', 'our', 'hasn', \"you'd\", 'needn', 'before', 'what', 'did', 'yours', 'be', 'to', 'again', 'of', 'some', 'haven', 'my', 'out', 'couldn', \"hasn't\", 'then', 'not', 'on', \"wouldn't\", \"doesn't\", 'further', 'an', 'mustn', 'wasn', 'shouldn', 'ain', 'most', 'had', 'do', 'as', 'hadn', 'in', 'because', 'why', 'herself', \"didn't\", 'over', 'does', 'didn', 'by', 'he', 'it', 're', 'mightn', 'hers', 'ma', 'but', 'should', 'after', 'just', 'any', 'that', 'few', 'below', 'at', \"haven't\", 'shan', \"won't\", 'd', \"weren't\", 'with', 'against', 'there', \"aren't\", 'won', 'whom', 'only', 'your', 'his', 'above', 'under', \"that'll\", 'such', 'both', \"needn't\", 'nor', 'same', 'me', 'y', 'doesn', 'we', 'once', 'so', \"you're\", 'down', \"shan't\", 'have', 'having', 'if', 'himself', \"you've\", \"she's\", 'between', 'own', 'wouldn', \"couldn't\", 's', \"isn't\", \"it's\", 'can', \"shouldn't\", 'off', 'were', 'through', 'where', 'other', 'than', 'who', \"mightn't\", \"you'll\", 'she', 'its', 'was', 'during', 'been', 'about', 'too', 'am', 'until', 'isn', 'doing', \"should've\", 'being', 'up', 'don', 'is', 'll', 'the', 'theirs', 'myself', 'themselves', 'ourselves', \"mustn't\", \"don't\", 'for', 'has'}\n"
     ]
    }
   ],
   "source": [
    "stops = set(stopwords.words('english'))"
   ]
  },
  {
   "cell_type": "code",
   "execution_count": 4,
   "id": "3dc273eb",
   "metadata": {},
   "outputs": [],
   "source": [
    "data = pd.read_csv('dota2_chat_messages.csv')\n",
    "data['text'] = data['text'].apply(str)\n",
    "data['text'] = data['text'].apply(str.lower)"
   ]
  },
  {
   "cell_type": "code",
   "execution_count": 26,
   "id": "e9a0e5f6",
   "metadata": {},
   "outputs": [],
   "source": [
    "def maxscii(string):\n",
    "    \"\"\"\n",
    "    returns true if the proportion of characters that are in [a-z] or [A-Z] are over cutoff\n",
    "    \"\"\"\n",
    "    letter_ascii = [i for i in range(65,91)] + [i for i in range(97,123)]\n",
    "    string_ascii = [ord(i) for i in str(string)]\n",
    "    letter_list = [ 1 if i in letter_ascii else 0 for i in string_ascii]\n",
    "    \n",
    "    return float(sum(letter_list))/float(len(letter_list))\n",
    "\n",
    "def space_ratio(string):\n",
    "    str_string = str(string)\n",
    "    return str_string.count(\" \")/len(str_string)\n",
    "    \n",
    "def total_stop_words(string,stop_words):\n",
    "    \"\"\"\n",
    "    count how many english stop words are present\n",
    "    returns word level ratio\n",
    "    \"\"\"\n",
    "    text_list = string.split(\" \")\n",
    "    stop_counts = len([i for i in text_list if i in stop_words])\n",
    "    return stop_counts/len(text_list)\n",
    "    "
   ]
  },
  {
   "cell_type": "code",
   "execution_count": 13,
   "id": "d10b623d",
   "metadata": {},
   "outputs": [],
   "source": [
    "data['maxscii'] = data.apply(lambda x : maxscii(x['text']), axis =1) #proportion of letters in text\n",
    "data['len'] = data.apply(lambda x : len(str(x['text'])), axis =1) #len in char\n",
    "data['space_ratio'] = data.apply(lambda x: space_ratio(x['text']), axis = 1)\n",
    "data['stop_percent'] = data.apply(lambda x : total_stop_words(x['text'],stops), axis = 1 )"
   ]
  },
  {
   "cell_type": "code",
   "execution_count": 14,
   "id": "a3e42038",
   "metadata": {},
   "outputs": [
    {
     "data": {
      "text/plain": [
       "<AxesSubplot:>"
      ]
     },
     "execution_count": 14,
     "metadata": {},
     "output_type": "execute_result"
    },
    {
     "data": {
      "image/png": "[encoded data removed]",
      "text/plain": [
       "<Figure size 432x288 with 1 Axes>"
      ]
     },
     "metadata": {
      "needs_background": "light"
     },
     "output_type": "display_data"
    }
   ],
   "source": [
    "data[\"space_ratio\"].hist(bins = 20)"
   ]
  },
  {
   "cell_type": "code",
   "execution_count": 32,
   "id": "5da1815e",
   "metadata": {},
   "outputs": [
    {
     "data": {
      "text/plain": [
       "<AxesSubplot:>"
      ]
     },
     "execution_count": 32,
     "metadata": {},
     "output_type": "execute_result"
    },
    {
     "data": {
      "image/png": "[encoded data removed]",
      "text/plain": [
       "<Figure size 432x288 with 1 Axes>"
      ]
     },
     "metadata": {
      "needs_background": "light"
     },
     "output_type": "display_data"
    }
   ],
   "source": [
    "data[\"stop_percent\"].hist(bins = 20)"
   ]
  },
  {
   "cell_type": "code",
   "execution_count": 19,
   "id": "9fdef5d6",
   "metadata": {},
   "outputs": [
    {
     "data": {
      "text/plain": [
       "<AxesSubplot:>"
      ]
     },
     "execution_count": 19,
     "metadata": {},
     "output_type": "execute_result"
    },
    {
     "data": {
      "image/png": "[encoded data removed]",
      "text/plain": [
       "<Figure size 432x288 with 1 Axes>"
      ]
     },
     "metadata": {
      "needs_background": "light"
     },
     "output_type": "display_data"
    }
   ],
   "source": [
    "data.loc[data['maxscii'] > 0.8]['space_ratio'].hist(bins=20)"
   ]
  },
  {
   "cell_type": "code",
   "execution_count": 15,
   "id": "00d4bb41",
   "metadata": {},
   "outputs": [
    {
     "data": {
      "text/plain": [
       "array([[<AxesSubplot:title={'center':'maxscii'}>,\n",
       "        <AxesSubplot:title={'center':'len'}>]], dtype=object)"
      ]
     },
     "execution_count": 15,
     "metadata": {},
     "output_type": "execute_result"
    },
    {
     "data": {
      "image/png": "[encoded data removed]",
      "text/plain": [
       "<Figure size 432x288 with 2 Axes>"
      ]
     },
     "metadata": {
      "needs_background": "light"
     },
     "output_type": "display_data"
    }
   ],
   "source": [
    "data[['maxscii','len']].hist(bins = 20) ## looks like above 0.8 will do nice"
   ]
  },
  {
   "cell_type": "code",
   "execution_count": 16,
   "id": "e054a616",
   "metadata": {},
   "outputs": [
    {
     "data": {
      "text/plain": [
       "<AxesSubplot:xlabel='maxscii', ylabel='len'>"
      ]
     },
     "execution_count": 16,
     "metadata": {},
     "output_type": "execute_result"
    },
    {
     "data": {
      "image/png": "[encoded data removed]",
      "text/plain": [
       "<Figure size 432x288 with 1 Axes>"
      ]
     },
     "metadata": {
      "needs_background": "light"
     },
     "output_type": "display_data"
    }
   ],
   "source": [
    "data.plot.scatter(x='maxscii',y='len',c='red')"
   ]
  },
  {
   "cell_type": "code",
   "execution_count": 40,
   "id": "24e58a78",
   "metadata": {},
   "outputs": [],
   "source": [
    "good_data = data['text']\n",
    "good_data = good_data.loc[data['maxscii']>0.8]\n",
    "good_data = good_data.loc[data['len']>20]\n",
    "good_data = good_data.loc[data['space_ratio']>0.05]\n",
    "good_data = good_data.loc[data['stop_percent']>0.2] #0 was too low, was getting tagalog\n"
   ]
  },
  {
   "cell_type": "code",
   "execution_count": 89,
   "id": "58713a49",
   "metadata": {},
   "outputs": [],
   "source": [
    "tiny = good_data[0:1000]"
   ]
  },
  {
   "cell_type": "code",
   "execution_count": 96,
   "id": "c96883aa",
   "metadata": {},
   "outputs": [
    {
     "data": {
      "text/plain": [
       "[(['yuou', 'just', 'fuck', 'your', 'ulti', 'as'], [2]),\n",
       " (['this', 'is', 'fucking'], [2]),\n",
       " (['fuck', 'you', 'for', 'playing'], [0]),\n",
       " (['support', 'my', 'ass'], [2]),\n",
       " (['let', 'the', 'faggot', 'be', 'happy', 'with', 'his', 'imba', 'hero'], [2]),\n",
       " (['are', 'fucking', 'retard'], [1]),\n",
       " (['where', 'the', 'fuck', 'is'], [2]),\n",
       " (['raport', 'this', 'shit'], [2]),\n",
       " (['spe', 'is', 'so', 'fucking', 'over'], [3]),\n",
       " (['gg', 'this', 'omni', 'watches', 'too', 'much', 'fucking'], [6]),\n",
       " (['get', 'off', 'my', 'dick'], [3]),\n",
       " (['fucking', 'trash', 'of'], [0]),\n",
       " (['fucking', 'pieces', 'of'], [0]),\n",
       " (['this', 'lineup', 'is', 'fucking'], [3]),\n",
       " (['why', 'you', 'play', 'whis', 'shit'], [4]),\n",
       " (['cannot', 'even', 'fucking', 'finish', 'a', 'game', 'already'], [2]),\n",
       " (['dude',\n",
       "   'the',\n",
       "   'other',\n",
       "   'team',\n",
       "   'doesnt',\n",
       "   'wanna',\n",
       "   'hear',\n",
       "   'you',\n",
       "   'be',\n",
       "   'a',\n",
       "   'little',\n",
       "   'bitch'],\n",
       "  [11]),\n",
       " (['cant', 'fuck', 'with'], [1]),\n",
       " (['i', 'commend', 'your', 'fucking'], [3]),\n",
       " (['we', 'w8ed', 'your', 'fucking'], [3]),\n",
       " (['btw',\n",
       "   'dont',\n",
       "   'report',\n",
       "   'my',\n",
       "   'steam',\n",
       "   'acc',\n",
       "   'for',\n",
       "   'containing',\n",
       "   'nigger',\n",
       "   'in'],\n",
       "  [8]),\n",
       " (['tell', 'pduge', 'to', 'go', 'fuck', 'his'], [4]),\n",
       " (['fuck', 'its', 'my', 'first', 'time', 'seeing'], [0]),\n",
       " (['so', 'fucking', 'noisy', 'but', 'just', 'a', 'piece', 'of'], [1]),\n",
       " (['jugg', 'you', 'fucking'], [2]),\n",
       " (['gengar', 'is', 'a', 'shit'], [3]),\n",
       " (['u', 'can', 'do', 'better', 'just', 'ass', 'blocking'], [5]),\n",
       " (['out', 'roll', 'is', 'fucking'], [3]),\n",
       " (['dude', 'meepo', 'is', 'a', 'fucking'], [4]),\n",
       " (['fuck', 'that', 'invoker'], [0]),\n",
       " (['i', 'fuck', 'your', 'young'], [1]),\n",
       " (['execpt', 'am', 'fuck', 'that'], [2]),\n",
       " (['suck', 'dazzle', 'dick', 'after', 'game', 'for'], [2]),\n",
       " (['check', 'his', 'fucking'], [2]),\n",
       " (['that', 'mirana', 'is', 'shit'], [3]),\n",
       " (['already',\n",
       "   'pick',\n",
       "   'first',\n",
       "   'invoker',\n",
       "   'and',\n",
       "   'i',\n",
       "   'playing',\n",
       "   'my',\n",
       "   'role.',\n",
       "   'picking',\n",
       "   'fucking',\n",
       "   'ck',\n",
       "   'and',\n",
       "   'go',\n",
       "   'mid',\n",
       "   'againist',\n",
       "   'tinker',\n",
       "   'what',\n",
       "   'an'],\n",
       "  [10]),\n",
       " (['my', 'piece', 'of', 'shit'], [3]),\n",
       " (['these', 'guys', 'are', 'fucking'], [3]),\n",
       " (['thats', 'what', 'i', 'fucking'], [3]),\n",
       " (['razer', 'sf', 'too', 'fucking', 'strong', 'right', 'now'], [3]),\n",
       " (['why', 'the', 'fuck', 'are', 'you'], [2]),\n",
       " (['fuck', 'that', 'necro', 'he', 'sucks'], [0]),\n",
       " (['just', 'get', 'fucking'], [2]),\n",
       " (['you', 'fuck', 'only', 'your'], [1]),\n",
       " (['report', 'my', 'fucking'], [2]),\n",
       " (['idk', 'why', 'he', 'cant', 'just', 'pick', 'fucking'], [6]),\n",
       " (['fucking', 'asshole', 'mid'], [0]),\n",
       " (['plz',\n",
       "   'report',\n",
       "   'bounty',\n",
       "   'the',\n",
       "   'cunt',\n",
       "   'has',\n",
       "   'blocked',\n",
       "   'all',\n",
       "   'our',\n",
       "   'camps',\n",
       "   'with',\n",
       "   'sentrys'],\n",
       "  [4]),\n",
       " (['this', 'pudge', 'so', 'fucking'], [3]),\n",
       " (['shut', 'the', 'fuck', 'up'], [2]),\n",
       " (['this', 'invo', 'so', 'fucking'], [3]),\n",
       " (['who', 'will', 'suck', 'dick'], [3]),\n",
       " (['contest', 'on', 'fucking'], [2]),\n",
       " (['just', 'end', 'this', 'shit', 'game'], [3]),\n",
       " (['i',\n",
       "   'have',\n",
       "   'no',\n",
       "   'idea',\n",
       "   'how',\n",
       "   'peoples',\n",
       "   'life',\n",
       "   'can',\n",
       "   'be',\n",
       "   'so',\n",
       "   'miserable',\n",
       "   'they',\n",
       "   'need',\n",
       "   'to',\n",
       "   'talk',\n",
       "   'shit',\n",
       "   'constantly',\n",
       "   'over',\n",
       "   'the'],\n",
       "  [15]),\n",
       " (['gonna', 'keep', 'shit', 'tlaking', 'about', 'knowing', 'i', 'can'], [2]),\n",
       " (['that', 'cm', 'most', 'useless', 'shit', 'i', 'ever'], [4]),\n",
       " (['this', 'fucking', 'team', 'always', 'want', 'to'], [1]),\n",
       " (['fucking', 'brain', 'is'], [0]),\n",
       " (['nigger', 'taint', 'is', 'a', 'compliment', 'in', 'my'], [0]),\n",
       " (['end', 'this', 'fucking'], [2]),\n",
       " (['hate', 'me', 'so', 'fucking'], [3]),\n",
       " (['who', 'the', 'fuck', 'is', 'this', 'invoker'], [2]),\n",
       " (['waiting', 'for', 'void', 'to', 'fucking'], [4]),\n",
       " (['fucking', 'carry', 'so'], [0]),\n",
       " (['who', 'the', 'fuck', 'needs'], [2]),\n",
       " (['who', 'the', 'fuck', 'needs'], [2]),\n",
       " (['fuck', 'that', 'dark'], [0]),\n",
       " (['alright,', 'fuck', 'you'], [1]),\n",
       " (['this', 'earth', 'cunt'], [2]),\n",
       " (['but', 'he', 'keeps', 'going', 'on', 'that', 'fucking'], [6]),\n",
       " (['we', 'did', 'evry', 'fucking', 'shit', 'for'], [3, 4]),\n",
       " (['he', 'is', 'a', 'fucking'], [3]),\n",
       " (['sven', 'fuck', 'your'], [1]),\n",
       " (['stay', 'in', 'your', 'lane', 'fucking'], [4]),\n",
       " (['hey',\n",
       "   'faggot',\n",
       "   'ass',\n",
       "   'woo',\n",
       "   'ima',\n",
       "   'show',\n",
       "   'your',\n",
       "   'stupid',\n",
       "   'fuck',\n",
       "   'how',\n",
       "   'to'],\n",
       "  [1, 2, 8]),\n",
       " (['maybe', 'you', 'were', 'playing', 'like', 'shit', 'and', 'he'], [5]),\n",
       " (['will', 'fuck', 'you', 'again'], [1]),\n",
       " (['if', 'we', 'didnt', 'have', 'fucking', 'useless', 'mid', 'nd'], [4]),\n",
       " (['if', 'you', 'dont', 'report', 'this', 'fucking'], [5]),\n",
       " (['fuck', 'u', 'and', 'your', 'potato'], [0]),\n",
       " (['focus', 'me', 'more', 'pussy'], [3]),\n",
       " (['the', 'fuck', 'are', 'you'], [1]),\n",
       " (['shut', 'the', 'fuck', 'up'], [2]),\n",
       " (['shaman',\n",
       "   'went',\n",
       "   'to',\n",
       "   'pray',\n",
       "   'allah',\n",
       "   'to',\n",
       "   'fucking',\n",
       "   'blow',\n",
       "   'up',\n",
       "   'your',\n",
       "   'stupid',\n",
       "   'country',\n",
       "   'and',\n",
       "   'your'],\n",
       "  [6]),\n",
       " (['i', 'm', 'a', 'fucking'], [3]),\n",
       " (['no', 'way', 'with', 'this', 'fucking'], [4]),\n",
       " (['so', 'go', 'fuck'], [2]),\n",
       " (['think', 'ur', 'some', 'shit', 'with', 'wombo'], [3])]"
      ]
     },
     "execution_count": 96,
     "metadata": {},
     "output_type": "execute_result"
    }
   ],
   "source": [
    "word_split = [i.split(' ')[:-1] for i in tiny]\n",
    "\n",
    "truth_table = [ [x  in cuss_words for x in i ] for i in word_split  ] ## all but last\n",
    "final_idx = [[j for j,k in enumerate(i) if k] for i in truth_table]\n",
    "[i for i in list(zip(word_split, final_idx)) if len(i[1]) > 0]"
   ]
  },
  {
   "cell_type": "code",
   "execution_count": null,
   "id": "4474aadd",
   "metadata": {},
   "outputs": [],
   "source": [
    "#needs spell check\n",
    "def augment_with_non_final_cuss_words(df,cuss_words):\n",
    "    \"\"\"\n",
    "    This is a data augmentation function that looks for cuss_words in the middle of the sentence, slices the sentence \n",
    "    and makes another sentence with a terminal position cussword. \n",
    "    \"\"\"\n",
    "    res_list = []\n",
    "    \n",
    "    "
   ]
  }
 ],
 "metadata": {
  "kernelspec": {
   "display_name": "Python 3 (ipykernel)",
   "language": "python",
   "name": "python3"
  },
  "language_info": {
   "codemirror_mode": {
    "name": "ipython",
    "version": 3
   },
   "file_extension": ".py",
   "mimetype": "text/x-python",
   "name": "python",
   "nbconvert_exporter": "python",
   "pygments_lexer": "ipython3",
   "version": "3.9.12"
  }
 },
 "nbformat": 4,
 "nbformat_minor": 5
}
