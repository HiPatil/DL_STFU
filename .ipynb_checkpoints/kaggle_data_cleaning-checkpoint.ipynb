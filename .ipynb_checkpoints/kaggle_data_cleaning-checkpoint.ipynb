{
 "cells": [
  {
   "cell_type": "code",
   "execution_count": 85,
   "id": "9bf90994",
   "metadata": {},
   "outputs": [
    {
     "data": {
      "text/plain": [
       "'\\nThis is just going to make data to turn into audio.  sentence splitting can happen here i think.\\n'"
      ]
     },
     "execution_count": 85,
     "metadata": {},
     "output_type": "execute_result"
    }
   ],
   "source": [
    "import pandas as pd\n",
    "import numpy as np\n",
    "from nltk.corpus import stopwords\n",
    "\n",
    "\"\"\"\n",
    "This is just going to make data to turn into audio.  sentence splitting can happen here i think.\n",
    "\"\"\""
   ]
  },
  {
   "cell_type": "code",
   "execution_count": 87,
   "id": "e4a979ac",
   "metadata": {},
   "outputs": [
    {
     "name": "stdout",
     "output_type": "stream",
     "text": [
      "{'o', 'she', 'these', 'until', 's', 'can', 'does', 'the', 'yourselves', 'any', 'through', 'such', 'them', 'some', 'd', 'hadn', \"needn't\", 'myself', 'against', 'didn', \"that'll\", 'because', 'now', 'theirs', 'ain', 'hers', 'most', \"should've\", 'do', 'should', 'down', 'no', 'being', 'their', 'off', 'has', \"mightn't\", 'each', 'mustn', 'and', 'itself', 'y', 'herself', 'will', 'won', 'wouldn', 'or', 'to', 'what', \"aren't\", \"you'd\", \"won't\", 'shan', \"wasn't\", 'we', 'yourself', 'themselves', \"hadn't\", 'during', \"shouldn't\", 'whom', 'this', 'where', 'weren', 'was', 'his', 'doing', 'our', 'been', \"isn't\", 'here', 'him', 'same', 'after', 'wasn', 'too', 'if', 'her', 't', 'few', 'ours', 'have', 'on', 'yours', 'had', 'be', 'again', 'when', 'all', 'who', \"you're\", 'of', 'me', 'between', 'it', \"hasn't\", \"haven't\", 'my', 'himself', 'those', \"you've\", 'doesn', 'did', 'nor', 'both', 'hasn', 'into', 'above', 'more', 'am', 'm', \"didn't\", 'at', 'a', 'shouldn', 'why', 'by', 'own', 'but', 'isn', 'than', 'haven', \"shan't\", 'while', 'out', 'how', 'you', 'about', 'not', 'further', 'your', 'don', 'is', 'very', \"she's\", \"you'll\", 'its', 'couldn', 'once', 'he', 'mightn', 'll', 'then', 'that', 'just', \"don't\", 'are', 'needn', 're', \"couldn't\", 'other', 'in', 'only', 'aren', 'over', 've', 'under', 'ma', \"weren't\", \"it's\", 'an', \"doesn't\", 'up', 'for', 'having', 'were', \"wouldn't\", 'below', 'from', 'which', 'ourselves', \"mustn't\", 'before', 'i', 'as', 'with', 'there', 'they', 'so'}\n"
     ]
    }
   ],
   "source": [
    "stops = set(stopwords.words('english'))\n",
    "print(stops)"
   ]
  },
  {
   "cell_type": "code",
   "execution_count": 39,
   "id": "3dc273eb",
   "metadata": {},
   "outputs": [],
   "source": [
    "data = pd.read_csv('dota2_chat_messages.csv')"
   ]
  },
  {
   "cell_type": "code",
   "execution_count": 68,
   "id": "e9a0e5f6",
   "metadata": {},
   "outputs": [],
   "source": [
    "def maxscii(string):\n",
    "    \"\"\"\n",
    "    returns true if the proportion of characters that are in [a-z] or [A-Z] are over cutoff\n",
    "    \"\"\"\n",
    "    letter_ascii = [i for i in range(65,91)] + [i for i in range(97,123)]\n",
    "    string_ascii = [ord(i) for i in str(string)]\n",
    "    letter_list = [ 1 if i in letter_ascii else 0 for i in string_ascii]\n",
    "    \n",
    "    return float(sum(letter_list))/float(len(letter_list))\n",
    "\n",
    "def english_stops(string):\n",
    "    "
   ]
  },
  {
   "cell_type": "code",
   "execution_count": 69,
   "id": "d10b623d",
   "metadata": {},
   "outputs": [],
   "source": [
    "data['maxscii'] = data.apply(lambda x : maxscii(x['text']), axis =1)"
   ]
  },
  {
   "cell_type": "code",
   "execution_count": 73,
   "id": "a3e42038",
   "metadata": {},
   "outputs": [],
   "source": [
    "data['len'] = data.apply(lambda x : len(str(x['text'])), axis =1)"
   ]
  },
  {
   "cell_type": "code",
   "execution_count": 74,
   "id": "00d4bb41",
   "metadata": {},
   "outputs": [
    {
     "data": {
      "text/plain": [
       "array([[<AxesSubplot:title={'center':'maxscii'}>,\n",
       "        <AxesSubplot:title={'center':'len'}>]], dtype=object)"
      ]
     },
     "execution_count": 74,
     "metadata": {},
     "output_type": "execute_result"
    },
    {
     "data": {
      "image/png": "[encoded data removed]",
      "text/plain": [
       "<Figure size 432x288 with 2 Axes>"
      ]
     },
     "metadata": {
      "needs_background": "light"
     },
     "output_type": "display_data"
    }
   ],
   "source": [
    "data[['maxscii','len']].hist(bins = 20) ## looks like above 0.8 will do nice"
   ]
  },
  {
   "cell_type": "code",
   "execution_count": 75,
   "id": "e054a616",
   "metadata": {},
   "outputs": [
    {
     "data": {
      "text/plain": [
       "<AxesSubplot:xlabel='maxscii', ylabel='len'>"
      ]
     },
     "execution_count": 75,
     "metadata": {},
     "output_type": "execute_result"
    },
    {
     "data": {
      "image/png": "[encoded data removed]",
      "text/plain": [
       "<Figure size 432x288 with 1 Axes>"
      ]
     },
     "metadata": {
      "needs_background": "light"
     },
     "output_type": "display_data"
    }
   ],
   "source": [
    "data.plot.scatter(x='maxscii',y='len',c='red')"
   ]
  },
  {
   "cell_type": "code",
   "execution_count": 82,
   "id": "24e58a78",
   "metadata": {},
   "outputs": [],
   "source": [
    "good_data = data['text'].loc[data['maxscii']>0.8].loc[data['len']>20] ##this still has like, french and stuff\n",
    "##also, we need to make sure there are some spaces.  no links.."
   ]
  },
  {
   "cell_type": "code",
   "execution_count": 91,
   "id": "c224cf60",
   "metadata": {},
   "outputs": [],
   "source": [
    "good_data = good_data.apply(str.lower)"
   ]
  },
  {
   "cell_type": "code",
   "execution_count": 95,
   "id": "824e8bc2",
   "metadata": {},
   "outputs": [
    {
     "data": {
      "text/plain": [
       "0.14285714285714285"
      ]
     },
     "execution_count": 95,
     "metadata": {},
     "output_type": "execute_result"
    }
   ],
   "source": [
    "good_data[131].count(' ')/len(good_data[131])  ##this is space percent.  do this hist"
   ]
  },
  {
   "cell_type": "code",
   "execution_count": null,
   "id": "58713a49",
   "metadata": {},
   "outputs": [],
   "source": []
  }
 ],
 "metadata": {
  "kernelspec": {
   "display_name": "Python 3 (ipykernel)",
   "language": "python",
   "name": "python3"
  },
  "language_info": {
   "codemirror_mode": {
    "name": "ipython",
    "version": 3
   },
   "file_extension": ".py",
   "mimetype": "text/x-python",
   "name": "python",
   "nbconvert_exporter": "python",
   "pygments_lexer": "ipython3",
   "version": "3.9.12"
  }
 },
 "nbformat": 4,
 "nbformat_minor": 5
}
