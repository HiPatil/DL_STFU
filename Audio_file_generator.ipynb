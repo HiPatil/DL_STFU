{
 "cells": [
  {
   "cell_type": "code",
   "execution_count": null,
   "id": "ce06927e",
   "metadata": {},
   "outputs": [],
   "source": [
    "\"\"\"\n",
    "This is going to take the cleaned dota data and generate a file as well as a csv that shows where everything is\n",
    "\"\"\""
   ]
  }
 ],
 "metadata": {
  "kernelspec": {
   "display_name": "Python 3 (ipykernel)",
   "language": "python",
   "name": "python3"
  },
  "language_info": {
   "codemirror_mode": {
    "name": "ipython",
    "version": 3
   },
   "file_extension": ".py",
   "mimetype": "text/x-python",
   "name": "python",
   "nbconvert_exporter": "python",
   "pygments_lexer": "ipython3",
   "version": "3.9.12"
  }
 },
 "nbformat": 4,
 "nbformat_minor": 5
}
