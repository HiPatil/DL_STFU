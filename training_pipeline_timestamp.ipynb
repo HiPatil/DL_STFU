{
 "cells": [
  {
   "cell_type": "code",
   "execution_count": 7,
   "id": "7cd423b4",
   "metadata": {},
   "outputs": [],
   "source": [
    "import pandas as pd\n",
    "import numpy as np\n",
    "import librosa\n",
    "import librosa.display\n",
    "import soundfile\n",
    "\n",
    "import torch\n",
    "import torch.utils.data as tud\n",
    "import torch.nn as nn\n",
    "import torch.nn.functional as F\n",
    "from torchsummary import summary\n",
    "from torchaudio.transforms import MelSpectrogram, ComputeDeltas\n",
    "\n",
    "from torch.optim.adamw import AdamW\n",
    "\n",
    "\n",
    "import re\n",
    "import json\n",
    "\n",
    "import os\n",
    "from os import listdir\n",
    "from os.path import isfile, join\n",
    "\n",
    "import math\n",
    "import random\n",
    "\n",
    "from pathlib import Path\n",
    "from IPython.display import Audio\n",
    "\n",
    "from tqdm import tqdm\n",
    "tqdm.pandas()\n",
    "\n",
    "import matplotlib.pyplot as plt\n",
    "\n",
    "\n",
    "import wave\n",
    "\n",
    "from fastprogress import master_bar, progress_bar\n",
    "\n",
    "import pandas as pd \n",
    "import os\n",
    "\n",
    "from scipy.io import wavfile\n",
    "from scipy import signal\n",
    "import tqdm\n",
    "import IPython\n",
    "import re\n",
    "\n",
    "import librosa\n",
    "\n",
    "from torch.utils.data import DataLoader\n",
    "import ast\n",
    "\n",
    "import glob\n",
    "import difflib"
   ]
  },
  {
   "cell_type": "code",
   "execution_count": 8,
   "id": "84c093b3",
   "metadata": {},
   "outputs": [],
   "source": [
    "wake_words = [\n",
    "    \"fuck\"\n",
    "    ,\"fucking\"\n",
    "    ,\"ass\"\n",
    "    ,\"bitch\"\n",
    "    ,\"dick\"\n",
    "    ,\"fag\"\n",
    "    ,\"faggot\"\n",
    "    ,\"shit\"\n",
    "    ,\"cunt\"\n",
    "    ,\"whore\"\n",
    "    ,\"cock\"\n",
    "    ,\"pussy\"\n",
    "    ,\"cocksucker\"\n",
    "\n",
    "]\n",
    "\n",
    "wake_words_sequence = [\"0\", \"1\", \"2\",\"3\",\"4\",\"5\",\"6\",\"7\",\"8\",\"9\",\"10\",\"11\",\"12\",\"13\"]\n"
   ]
  },
  {
   "cell_type": "code",
   "execution_count": 9,
   "id": "f85c694a",
   "metadata": {},
   "outputs": [],
   "source": [
    "wake_word_seq_map = dict(zip(wake_words, wake_words_sequence))\n",
    "regex_pattern = r\"\\b(?:{})\\b\".format(\"|\".join(map(re.escape, wake_words)))\n",
    "pattern = re.compile(regex_pattern, flags=re.IGNORECASE)\n",
    "\n",
    "\n",
    "def wake_words_search(pattern, word):\n",
    "    try:\n",
    "        return bool(pattern.search(word))\n",
    "    except TypeError:\n",
    "        return False"
   ]
  },
  {
   "cell_type": "code",
   "execution_count": 113,
   "id": "5e5827fa",
   "metadata": {},
   "outputs": [],
   "source": [
    "positive_train_data = pd.read_csv('cuss_word_time_stamp_wisper_true_1.csv')\n",
    "\n",
    "negative_train_data = pd.read_csv('cuss_word_time_stamp_wisper_false.csv')\n",
    "\n",
    "negative_train_data['timestamps'].apply(lambda x: {})\n",
    "\n",
    "combined_train_data = pd.concat([positive_train_data, negative_train_data])\n",
    "\n",
    "\n",
    "combined_train_data['timestamps'] = combined_train_data['timestamps'].apply(ast.literal_eval)\n",
    "combined_train_data['timestamps'] = combined_train_data['timestamps'].apply(lambda x: {re.sub('[^\\w\\s]', '', key): value for key, value in x.items()})\n"
   ]
  },
  {
   "cell_type": "code",
   "execution_count": 114,
   "id": "02f13a12",
   "metadata": {},
   "outputs": [],
   "source": [
    "test_ds = pd.read_csv('cuss_word_time_stamp_wisper.csv')\n",
    "test_ds['timestamps'] = test_ds['timestamps'].apply(ast.literal_eval)\n",
    "test_ds['timestamps'] = test_ds['timestamps'].apply(lambda x: {re.sub('[^\\w\\s]', '', key): value for key, value in x.items()})\n"
   ]
  },
  {
   "cell_type": "code",
   "execution_count": 115,
   "id": "7fbba97f",
   "metadata": {},
   "outputs": [],
   "source": [
    "def similar(a,b):\n",
    "    seq = difflib.SequenceMatcher(None,a,b)\n",
    "    return seq.ratio()"
   ]
  },
  {
   "cell_type": "code",
   "execution_count": 116,
   "id": "9391ca2f",
   "metadata": {},
   "outputs": [],
   "source": [
    "data_path = 'dataset/Data/'"
   ]
  },
  {
   "cell_type": "code",
   "execution_count": 117,
   "id": "109fd8b5",
   "metadata": {},
   "outputs": [],
   "source": [
    "key_pattern = re.compile(r\"'(?P<key>[^']+)'\")\n",
    "\n",
    "def compute_labels(metadata, audio_data):\n",
    "    label = 0 # by default negative label\n",
    "\n",
    "    # if it is generated data then \n",
    "    if metadata['sentence'].lower() in wake_words:\n",
    "        label = int(wake_word_seq_map[metadata['sentence'].lower()])\n",
    "    else:\n",
    "        # if the sentence has one wakeword get label and end timestamp\n",
    "        wake_word_found = False\n",
    "        for word in metadata['sentence'].lower().split():\n",
    "            word = re.sub('\\W+', '', word)\n",
    "            for wake_word in wake_words:\n",
    "                if similar(word, wake_word.lower()) >= 0.8 or word in wake_word.lower() or wake_word.lower() in word.lower(): \n",
    "                    wake_word_found = True\n",
    "\n",
    "                    label = 1\n",
    "                    if word in  metadata['timestamps']:\n",
    "                        timestamps = metadata['timestamps']\n",
    "                        if type(timestamps) == str:\n",
    "                          #timestamps = json.loads(key_pattern.sub(r'\"\\g\"', timestamps))\n",
    "                            timestamps = eval(timestamps)\n",
    "                        word_ts = timestamps[word]\n",
    "                        audio_start_idx = int((word_ts['start'] * 1000) * sr / 1000)\n",
    "                        audio_end_idx = int((word_ts['end'] * 1000) * sr / 1000)\n",
    "                        audio_data = audio_data[audio_start_idx:audio_end_idx]\n",
    "                    else: # if there are issues with word alignment, we might not get ts\n",
    "                        label = 0 \n",
    "            if label == 1:\n",
    "                break\n",
    "    return label, audio_data\n",
    "\n",
    "class AudioCollator(object):\n",
    "  def __init__(self, noise_set=None):\n",
    "    self.noise_set = noise_set\n",
    "\n",
    "  def __call__(self, batch):\n",
    "    batch_tensor = {}\n",
    "    window_size_ms = 750\n",
    "    max_length = int(window_size_ms/1000 * sr)\n",
    "    audio_tensors = []\n",
    "    labels = []\n",
    "    for sample in batch:\n",
    "      # get audio_data in tensor format\n",
    "      audio_data = librosa.core.load(data_path+sample['path'], sr=sr, mono=True)[0]\n",
    "      # get the label and its audio\n",
    "      label, audio_data = compute_labels(sample, audio_data)\n",
    "      audio_data_length = audio_data.size / sr * 1000 #ms\n",
    "  \n",
    "      # below is to make sure that we always got length of 12000 \n",
    "      # i.e 750 ms with sr 16000\n",
    "      # trim to max_length\n",
    "      if audio_data_length > window_size_ms:\n",
    "        # randomly trim either at start and end\n",
    "        if random.random() < 0.5:\n",
    "          audio_data = audio_data[:max_length]\n",
    "        else:\n",
    "          audio_data = audio_data[audio_data.size-max_length:]\n",
    "  \n",
    "      # pad with zeros\n",
    "      if audio_data_length < window_size_ms:\n",
    "        # randomly either append or prepend\n",
    "        if random.random() < 0.5:\n",
    "          audio_data = np.append(audio_data, np.zeros(int(max_length - audio_data.size)))\n",
    "        else:\n",
    "          audio_data = np.append(np.zeros(int(max_length - audio_data.size)), audio_data)\n",
    "\n",
    "      # Add noise\n",
    "      if self.noise_set:\n",
    "        noise_level =  random.randint(1, 5)/10 # 10 to 50%\n",
    "        noise_sample = librosa.core.load(self.noise_set[random.randint(0,len(self.noise_set)-1)], sr=sr, mono=True)[0]\n",
    "        # randomly select first or last seq of noise\n",
    "        if random.random() < 0.5:\n",
    "          audio_data = (1 - noise_level) * audio_data +  noise_level * noise_sample[:max_length]\n",
    "        else:\n",
    "          audio_data = (1 - noise_level) * audio_data +  noise_level * noise_sample[-max_length:]\n",
    "  \n",
    "      audio_tensors.append(torch.from_numpy(audio_data))\n",
    "      labels.append(label)\n",
    "  \n",
    "    batch_tensor = {\n",
    "        'audio': torch.stack(audio_tensors),\n",
    "        'labels': torch.tensor(labels) \n",
    "    }\n",
    "    \n",
    "    return batch_tensor\n",
    "     "
   ]
  },
  {
   "cell_type": "code",
   "execution_count": 118,
   "id": "efc9f7c4",
   "metadata": {},
   "outputs": [],
   "source": [
    "train_ds = combined_train_data"
   ]
  },
  {
   "cell_type": "code",
   "execution_count": 119,
   "id": "adc9d4bb",
   "metadata": {},
   "outputs": [
    {
     "name": "stdout",
     "output_type": "stream",
     "text": [
      "Total fuck word 11.79841833957673 %\n",
      "Total ass word 1.2486792815291519 %\n",
      "Total fucking word 26.254282329587298 %\n"
     ]
    }
   ],
   "source": [
    "hey_pattern = re.compile(r'\\bfuck\\b', flags=re.IGNORECASE)\n",
    "fourth_pattern = re.compile(r'\\bass\\b', flags=re.IGNORECASE)\n",
    "brain_pattern = re.compile(r'\\bfucking\\b', flags=re.IGNORECASE)\n",
    "\n",
    "print(f\"Total fuck word {(train_ds[[wake_words_search(hey_pattern, sentence) for sentence in train_ds['sentence']]].size/train_ds.size) * 100} %\")\n",
    "print(f\"Total ass word {(train_ds[[wake_words_search(fourth_pattern, sentence) for sentence in train_ds['sentence']]].size/train_ds.size) * 100} %\")\n",
    "print(f\"Total fucking word {(train_ds[[wake_words_search(brain_pattern, sentence) for sentence in train_ds['sentence']]].size/train_ds.size) * 100} %\")\n",
    "\n"
   ]
  },
  {
   "cell_type": "code",
   "execution_count": 120,
   "id": "a985ec45",
   "metadata": {},
   "outputs": [],
   "source": [
    "noise_test = glob.glob('dataset/MS-SNSD/noise_test/*.wav')\n",
    "noise_train = glob.glob('dataset/MS-SNSD/noise_train/*.wav')\n"
   ]
  },
  {
   "cell_type": "code",
   "execution_count": 121,
   "id": "9805489b",
   "metadata": {},
   "outputs": [],
   "source": [
    "batch_size = 64\n",
    "num_workers = 16\n",
    "\n",
    "train_audio_collator = AudioCollator(noise_set=noise_train)\n",
    "train_dl = tud.DataLoader(train_ds.to_dict(orient='records'),\n",
    "                  batch_size=batch_size,\n",
    "                  drop_last=True,\n",
    "                  shuffle=True,\n",
    "                  num_workers=num_workers,collate_fn=train_audio_collator)\n",
    "\n",
    "\n",
    "\n",
    "test_audio_collator = AudioCollator(noise_set=noise_test)\n",
    "test_dl = tud.DataLoader(test_ds.to_dict(orient='records'),\n",
    "                  batch_size=batch_size,\n",
    "                  num_workers=num_workers,\n",
    "                  collate_fn=test_audio_collator)\n"
   ]
  },
  {
   "cell_type": "code",
   "execution_count": 122,
   "id": "a433614a",
   "metadata": {},
   "outputs": [],
   "source": [
    "sr = 24000\n",
    "\n",
    "num_mels = 40 # https://en.wikipedia.org/wiki/Mel_scale\n",
    "num_fft = 512 # window length - Fast Fourier Transform\n",
    "hop_length = 200  # making hops of size hop_length each time to sample the next window\n",
    "\n",
    "def audio_transform(audio_data):\n",
    "  # Transformations\n",
    "  # Mel-scale spectrogram is a combination of Spectrogram and mel scale conversion\n",
    "  # 1. compute FFT - for each window to transform from time domain to frequency domain\n",
    "  # 2. Generate Mel Scale - Take entire freq spectrum & seperate to n_mels evenly spaced\n",
    "  #    frequencies. (not by distance on freq domain but distance as it is heard by human ear)\n",
    "  # 3. Generate Spectrogram - For each window, decompose the magnitude of the signal\n",
    "  #    into its components, corresponding to the frequencies in the mel scale. \n",
    "  mel_spectrogram  = MelSpectrogram(n_mels=num_mels,\n",
    "                                    sample_rate=sr,\n",
    "                                    n_fft=num_fft,\n",
    "                                    hop_length=hop_length,\n",
    "                                    norm='slaney')\n",
    "  mel_spectrogram.to(device)\n",
    "  log_mels = mel_spectrogram(audio_data.float()).add_(1e-7).log_().contiguous()\n",
    "  # returns (channel, n_mels, time) \n",
    "  return log_mels.to(device)\n",
    "     \n"
   ]
  },
  {
   "cell_type": "code",
   "execution_count": 123,
   "id": "6f53c925",
   "metadata": {},
   "outputs": [],
   "source": [
    "from typing import Iterable\n",
    "class ZmuvTransform(nn.Module):\n",
    "    def __init__(self):\n",
    "        super().__init__()\n",
    "        self.register_buffer('total', torch.zeros(1))\n",
    "        self.register_buffer('mean', torch.zeros(1))\n",
    "        self.register_buffer('mean2', torch.zeros(1))\n",
    "\n",
    "    def update(self, data, mask=None):\n",
    "        with torch.no_grad():\n",
    "            if mask is not None:\n",
    "                data = data * mask\n",
    "                mask_size = mask.sum().item()\n",
    "            else:\n",
    "                mask_size = data.numel()\n",
    "            self.mean = (data.sum() + self.mean * self.total) / (self.total + mask_size)\n",
    "            self.mean2 = ((data ** 2).sum() + self.mean2 * self.total) / (self.total + mask_size)\n",
    "            self.total += mask_size\n",
    "\n",
    "    def initialize(self, iterable: Iterable[torch.Tensor]):\n",
    "        for ex in iterable:\n",
    "            self.update(ex)\n",
    "\n",
    "    @property\n",
    "    def std(self):\n",
    "        return (self.mean2 - self.mean ** 2).sqrt()\n",
    "\n",
    "    def forward(self, x):\n",
    "        return (x - self.mean) / self.std\n"
   ]
  },
  {
   "cell_type": "code",
   "execution_count": 124,
   "id": "26e713ae",
   "metadata": {},
   "outputs": [],
   "source": [
    "device = torch.device(\"cuda:0\" if torch.cuda.is_available() else \"cpu\")"
   ]
  },
  {
   "cell_type": "code",
   "execution_count": 125,
   "id": "19fc3b33",
   "metadata": {},
   "outputs": [
    {
     "name": "stdout",
     "output_type": "stream",
     "text": [
      "Mean is 0.000009\n",
      "Standard Deviation is 0.099586\n"
     ]
    }
   ],
   "source": [
    "zmuv_audio_collator = AudioCollator()\n",
    "zmuv_dl = tud.DataLoader(train_ds.to_dict(orient='records'),\n",
    "                  batch_size=1,\n",
    "                  num_workers=num_workers,\n",
    "                  collate_fn=zmuv_audio_collator)\n",
    "\n",
    "zmuv_transform = ZmuvTransform().to(device)\n",
    "if Path(\"zmuv.pt.bin\").exists():\n",
    "    zmuv_transform.load_state_dict(torch.load(str(\"zmuv.pt.bin\")))\n",
    "else:\n",
    "  for idx, batch in enumerate(zmuv_dl):\n",
    "    zmuv_transform.update(batch['audio'].to(device))\n",
    "  print(dict(zmuv_mean=zmuv_transform.mean, zmuv_std=zmuv_transform.std))\n",
    "  torch.save(zmuv_transform.state_dict(), str(\"zmuv.pt.bin\"))\n",
    "\n",
    "print(f\"Mean is {zmuv_transform.mean.item():0.6f}\")\n",
    "print(f\"Standard Deviation is {zmuv_transform.std.item():0.6f}\")\n"
   ]
  },
  {
   "cell_type": "code",
   "execution_count": 126,
   "id": "0fef5b81",
   "metadata": {},
   "outputs": [],
   "source": [
    "class CNN(nn.Module):\n",
    "    def __init__(self, num_labels, num_maps1, num_maps2, num_hidden_input, hidden_size):\n",
    "        super(CNN, self).__init__()\n",
    "        conv0 = nn.Conv2d(1, num_maps1, (8, 16), padding=(4, 0), stride=(2, 2), bias=True)\n",
    "        pool = nn.MaxPool2d(2)\n",
    "        conv1 = nn.Conv2d(num_maps1, num_maps2, (5, 5), padding=2, stride=(2, 1), bias=True)\n",
    "        self.num_hidden_input = num_hidden_input\n",
    "        self.encoder1 = nn.Sequential(conv0,\n",
    "                                      nn.ReLU(),\n",
    "                                      pool,\n",
    "                                      nn.BatchNorm2d(num_maps1, affine=True))\n",
    "        self.encoder2 = nn.Sequential(conv1,\n",
    "                                      nn.ReLU(),\n",
    "                                      pool,\n",
    "                                      nn.BatchNorm2d(num_maps2, affine=True))\n",
    "        self.output = nn.Sequential(nn.Linear(num_hidden_input, hidden_size),\n",
    "                                    nn.ReLU(),\n",
    "                                    nn.Dropout(0.1),\n",
    "                                    nn.Linear(hidden_size, num_labels))\n",
    "        \n",
    "    def forward(self, x):\n",
    "        x = x.permute(0, 1, 3, 2)  # change to (time, n_mels)\n",
    "        # pass through first conv layer\n",
    "        x1 = self.encoder1(x)\n",
    "        # pass through second conv layer\n",
    "        x2 = self.encoder2(x1)\n",
    "        # flattening - keep first dim batch same, flatten last 3 dims\n",
    "        x = x2.view(x2.size(0), -1)\n",
    "        return self.output(x)"
   ]
  },
  {
   "cell_type": "code",
   "execution_count": 181,
   "id": "e8b308c0",
   "metadata": {},
   "outputs": [],
   "source": [
    "num_labels = 1 # oov\n",
    "num_maps1  = 48\n",
    "num_maps2  = 64\n",
    "num_hidden_input =  1152\n",
    "hidden_size = 128\n",
    "model = CNN(num_labels, num_maps1, num_maps2, num_hidden_input, hidden_size)\n"
   ]
  },
  {
   "cell_type": "code",
   "execution_count": 182,
   "id": "8909dbdb",
   "metadata": {},
   "outputs": [
    {
     "data": {
      "text/plain": [
       "CNN(\n",
       "  (encoder1): Sequential(\n",
       "    (0): Conv2d(1, 48, kernel_size=(8, 16), stride=(2, 2), padding=(4, 0))\n",
       "    (1): ReLU()\n",
       "    (2): MaxPool2d(kernel_size=2, stride=2, padding=0, dilation=1, ceil_mode=False)\n",
       "    (3): BatchNorm2d(48, eps=1e-05, momentum=0.1, affine=True, track_running_stats=True)\n",
       "  )\n",
       "  (encoder2): Sequential(\n",
       "    (0): Conv2d(48, 64, kernel_size=(5, 5), stride=(2, 1), padding=(2, 2))\n",
       "    (1): ReLU()\n",
       "    (2): MaxPool2d(kernel_size=2, stride=2, padding=0, dilation=1, ceil_mode=False)\n",
       "    (3): BatchNorm2d(64, eps=1e-05, momentum=0.1, affine=True, track_running_stats=True)\n",
       "  )\n",
       "  (output): Sequential(\n",
       "    (0): Linear(in_features=1152, out_features=128, bias=True)\n",
       "    (1): ReLU()\n",
       "    (2): Dropout(p=0.1, inplace=False)\n",
       "    (3): Linear(in_features=128, out_features=1, bias=True)\n",
       "  )\n",
       ")"
      ]
     },
     "execution_count": 182,
     "metadata": {},
     "output_type": "execute_result"
    }
   ],
   "source": [
    "model.to(device)\n",
    "model"
   ]
  },
  {
   "cell_type": "code",
   "execution_count": 36,
   "id": "78ac017e",
   "metadata": {},
   "outputs": [
    {
     "name": "stdout",
     "output_type": "stream",
     "text": [
      "----------------------------------------------------------------\n",
      "        Layer (type)               Output Shape         Param #\n",
      "================================================================\n",
      "            Conv2d-1           [-1, 48, 46, 13]           6,192\n",
      "              ReLU-2           [-1, 48, 46, 13]               0\n",
      "         MaxPool2d-3            [-1, 48, 23, 6]               0\n",
      "         MaxPool2d-4            [-1, 48, 23, 6]               0\n",
      "       BatchNorm2d-5            [-1, 48, 23, 6]              96\n",
      "            Conv2d-6            [-1, 64, 12, 6]          76,864\n",
      "              ReLU-7            [-1, 64, 12, 6]               0\n",
      "         MaxPool2d-8             [-1, 64, 6, 3]               0\n",
      "         MaxPool2d-9             [-1, 64, 6, 3]               0\n",
      "      BatchNorm2d-10             [-1, 64, 6, 3]             128\n",
      "           Linear-11                  [-1, 128]         147,584\n",
      "             ReLU-12                  [-1, 128]               0\n",
      "          Dropout-13                  [-1, 128]               0\n",
      "           Linear-14                    [-1, 2]             258\n",
      "================================================================\n",
      "Total params: 231,122\n",
      "Trainable params: 231,122\n",
      "Non-trainable params: 0\n",
      "----------------------------------------------------------------\n",
      "Input size (MB): 0.01\n",
      "Forward/backward pass size (MB): 0.69\n",
      "Params size (MB): 0.88\n",
      "Estimated Total Size (MB): 1.58\n",
      "----------------------------------------------------------------\n"
     ]
    }
   ],
   "source": [
    "summary(model.to('cuda'), input_size=(1,40,91))"
   ]
  },
  {
   "cell_type": "code",
   "execution_count": 183,
   "id": "2a2b065d",
   "metadata": {},
   "outputs": [],
   "source": [
    "learning_rate = 0.001\n",
    "weight_decay = 0.0001 # Weight regularization\n",
    "lr_decay = 0.95\n",
    "\n",
    "criterion = nn.BCEWithLogitsLoss()\n",
    "params = list(filter(lambda x: x.requires_grad, model.parameters()))\n",
    "\n",
    "optimizer = AdamW(model.parameters(), learning_rate, weight_decay=weight_decay)"
   ]
  },
  {
   "cell_type": "code",
   "execution_count": 130,
   "id": "0844664c",
   "metadata": {
    "collapsed": true
   },
   "outputs": [
    {
     "data": {
      "text/html": [
       "\n",
       "<style>\n",
       "    /* Turns off some styling */\n",
       "    progress {\n",
       "        /* gets rid of default border in Firefox and Opera. */\n",
       "        border: none;\n",
       "        /* Needs to be in here for Safari polyfill so background images work as expected. */\n",
       "        background-size: auto;\n",
       "    }\n",
       "    progress:not([value]), progress:not([value])::-webkit-progress-bar {\n",
       "        background: repeating-linear-gradient(45deg, #7e7e7e, #7e7e7e 10px, #5c5c5c 10px, #5c5c5c 20px);\n",
       "    }\n",
       "    .progress-bar-interrupted, .progress-bar-interrupted::-webkit-progress-bar {\n",
       "        background: #F44336;\n",
       "    }\n",
       "</style>\n"
      ],
      "text/plain": [
       "<IPython.core.display.HTML object>"
      ]
     },
     "metadata": {},
     "output_type": "display_data"
    },
    {
     "data": {
      "text/html": [
       "\n",
       "    <div>\n",
       "      <progress value='1' class='' max='20' style='width:300px; height:20px; vertical-align: middle;'></progress>\n",
       "      5.00% [1/20 01:17&lt;24:26]\n",
       "    </div>\n",
       "    \n",
       "\n",
       "\n",
       "    <div>\n",
       "      <progress value='16' class='' max='488' style='width:300px; height:20px; vertical-align: middle;'></progress>\n",
       "      3.28% [16/488 00:04&lt;02:08]\n",
       "    </div>\n",
       "    "
      ],
      "text/plain": [
       "<IPython.core.display.HTML object>"
      ]
     },
     "metadata": {},
     "output_type": "display_data"
    },
    {
     "name": "stdout",
     "output_type": "stream",
     "text": [
      "epoch: 0 loss: 0.16042566299438477\n"
     ]
    },
    {
     "ename": "KeyboardInterrupt",
     "evalue": "",
     "output_type": "error",
     "traceback": [
      "\u001b[0;31m---------------------------------------------------------------------------\u001b[0m",
      "\u001b[0;31mKeyboardInterrupt\u001b[0m                         Traceback (most recent call last)",
      "\u001b[0;32m/scratch/7325553.1.academic-gpu/ipykernel_147104/3861549465.py\u001b[0m in \u001b[0;36m<module>\u001b[0;34m\u001b[0m\n\u001b[1;32m     17\u001b[0m   \u001b[0mtotal_loss\u001b[0m \u001b[0;34m=\u001b[0m \u001b[0mtorch\u001b[0m\u001b[0;34m.\u001b[0m\u001b[0mTensor\u001b[0m\u001b[0;34m(\u001b[0m\u001b[0;34m[\u001b[0m\u001b[0;36m0.0\u001b[0m\u001b[0;34m]\u001b[0m\u001b[0;34m)\u001b[0m\u001b[0;34m.\u001b[0m\u001b[0mto\u001b[0m\u001b[0;34m(\u001b[0m\u001b[0mdevice\u001b[0m\u001b[0;34m)\u001b[0m\u001b[0;34m\u001b[0m\u001b[0;34m\u001b[0m\u001b[0m\n\u001b[1;32m     18\u001b[0m   \u001b[0;31m#pbar = tqdm(train_dl, total=len(train_dl), position=0, desc=\"Training\", leave=True)\u001b[0m\u001b[0;34m\u001b[0m\u001b[0;34m\u001b[0m\u001b[0;34m\u001b[0m\u001b[0m\n\u001b[0;32m---> 19\u001b[0;31m   \u001b[0;32mfor\u001b[0m \u001b[0mbatch\u001b[0m \u001b[0;32min\u001b[0m \u001b[0mprogress_bar\u001b[0m\u001b[0;34m(\u001b[0m\u001b[0mtrain_dl\u001b[0m\u001b[0;34m,\u001b[0m \u001b[0mparent\u001b[0m\u001b[0;34m=\u001b[0m\u001b[0mmb\u001b[0m\u001b[0;34m)\u001b[0m\u001b[0;34m:\u001b[0m\u001b[0;34m\u001b[0m\u001b[0;34m\u001b[0m\u001b[0m\n\u001b[0m\u001b[1;32m     20\u001b[0m     \u001b[0maudio_data\u001b[0m \u001b[0;34m=\u001b[0m \u001b[0mbatch\u001b[0m\u001b[0;34m[\u001b[0m\u001b[0;34m'audio'\u001b[0m\u001b[0;34m]\u001b[0m\u001b[0;34m.\u001b[0m\u001b[0mto\u001b[0m\u001b[0;34m(\u001b[0m\u001b[0mdevice\u001b[0m\u001b[0;34m)\u001b[0m\u001b[0;34m\u001b[0m\u001b[0;34m\u001b[0m\u001b[0m\n\u001b[1;32m     21\u001b[0m     \u001b[0mlabels\u001b[0m \u001b[0;34m=\u001b[0m \u001b[0mbatch\u001b[0m\u001b[0;34m[\u001b[0m\u001b[0;34m'labels'\u001b[0m\u001b[0;34m]\u001b[0m\u001b[0;34m.\u001b[0m\u001b[0mto\u001b[0m\u001b[0;34m(\u001b[0m\u001b[0mdevice\u001b[0m\u001b[0;34m)\u001b[0m\u001b[0;34m\u001b[0m\u001b[0;34m\u001b[0m\u001b[0m\n",
      "\u001b[0;32m~/.conda/envs/carla/lib/python3.7/site-packages/fastprogress/fastprogress.py\u001b[0m in \u001b[0;36m__iter__\u001b[0;34m(self)\u001b[0m\n\u001b[1;32m     39\u001b[0m         \u001b[0;32mif\u001b[0m \u001b[0mself\u001b[0m\u001b[0;34m.\u001b[0m\u001b[0mtotal\u001b[0m \u001b[0;34m!=\u001b[0m \u001b[0;36m0\u001b[0m\u001b[0;34m:\u001b[0m \u001b[0mself\u001b[0m\u001b[0;34m.\u001b[0m\u001b[0mupdate\u001b[0m\u001b[0;34m(\u001b[0m\u001b[0;36m0\u001b[0m\u001b[0;34m)\u001b[0m\u001b[0;34m\u001b[0m\u001b[0;34m\u001b[0m\u001b[0m\n\u001b[1;32m     40\u001b[0m         \u001b[0;32mtry\u001b[0m\u001b[0;34m:\u001b[0m\u001b[0;34m\u001b[0m\u001b[0;34m\u001b[0m\u001b[0m\n\u001b[0;32m---> 41\u001b[0;31m             \u001b[0;32mfor\u001b[0m \u001b[0mi\u001b[0m\u001b[0;34m,\u001b[0m\u001b[0mo\u001b[0m \u001b[0;32min\u001b[0m \u001b[0menumerate\u001b[0m\u001b[0;34m(\u001b[0m\u001b[0mself\u001b[0m\u001b[0;34m.\u001b[0m\u001b[0mgen\u001b[0m\u001b[0;34m)\u001b[0m\u001b[0;34m:\u001b[0m\u001b[0;34m\u001b[0m\u001b[0;34m\u001b[0m\u001b[0m\n\u001b[0m\u001b[1;32m     42\u001b[0m                 \u001b[0;32mif\u001b[0m \u001b[0mself\u001b[0m\u001b[0;34m.\u001b[0m\u001b[0mtotal\u001b[0m \u001b[0;32mand\u001b[0m \u001b[0mi\u001b[0m \u001b[0;34m>=\u001b[0m \u001b[0mself\u001b[0m\u001b[0;34m.\u001b[0m\u001b[0mtotal\u001b[0m\u001b[0;34m:\u001b[0m \u001b[0;32mbreak\u001b[0m\u001b[0;34m\u001b[0m\u001b[0;34m\u001b[0m\u001b[0m\n\u001b[1;32m     43\u001b[0m                 \u001b[0;32myield\u001b[0m \u001b[0mo\u001b[0m\u001b[0;34m\u001b[0m\u001b[0;34m\u001b[0m\u001b[0m\n",
      "\u001b[0;32m~/.conda/envs/carla/lib/python3.7/site-packages/torch/utils/data/dataloader.py\u001b[0m in \u001b[0;36m__next__\u001b[0;34m(self)\u001b[0m\n\u001b[1;32m    626\u001b[0m                 \u001b[0;31m# TODO(https://github.com/pytorch/pytorch/issues/76750)\u001b[0m\u001b[0;34m\u001b[0m\u001b[0;34m\u001b[0m\u001b[0;34m\u001b[0m\u001b[0m\n\u001b[1;32m    627\u001b[0m                 \u001b[0mself\u001b[0m\u001b[0;34m.\u001b[0m\u001b[0m_reset\u001b[0m\u001b[0;34m(\u001b[0m\u001b[0;34m)\u001b[0m  \u001b[0;31m# type: ignore[call-arg]\u001b[0m\u001b[0;34m\u001b[0m\u001b[0;34m\u001b[0m\u001b[0m\n\u001b[0;32m--> 628\u001b[0;31m             \u001b[0mdata\u001b[0m \u001b[0;34m=\u001b[0m \u001b[0mself\u001b[0m\u001b[0;34m.\u001b[0m\u001b[0m_next_data\u001b[0m\u001b[0;34m(\u001b[0m\u001b[0;34m)\u001b[0m\u001b[0;34m\u001b[0m\u001b[0;34m\u001b[0m\u001b[0m\n\u001b[0m\u001b[1;32m    629\u001b[0m             \u001b[0mself\u001b[0m\u001b[0;34m.\u001b[0m\u001b[0m_num_yielded\u001b[0m \u001b[0;34m+=\u001b[0m \u001b[0;36m1\u001b[0m\u001b[0;34m\u001b[0m\u001b[0;34m\u001b[0m\u001b[0m\n\u001b[1;32m    630\u001b[0m             \u001b[0;32mif\u001b[0m \u001b[0mself\u001b[0m\u001b[0;34m.\u001b[0m\u001b[0m_dataset_kind\u001b[0m \u001b[0;34m==\u001b[0m \u001b[0m_DatasetKind\u001b[0m\u001b[0;34m.\u001b[0m\u001b[0mIterable\u001b[0m \u001b[0;32mand\u001b[0m\u001b[0;31m \u001b[0m\u001b[0;31m\\\u001b[0m\u001b[0;34m\u001b[0m\u001b[0;34m\u001b[0m\u001b[0m\n",
      "\u001b[0;32m~/.conda/envs/carla/lib/python3.7/site-packages/torch/utils/data/dataloader.py\u001b[0m in \u001b[0;36m_next_data\u001b[0;34m(self)\u001b[0m\n\u001b[1;32m   1314\u001b[0m \u001b[0;34m\u001b[0m\u001b[0m\n\u001b[1;32m   1315\u001b[0m             \u001b[0;32massert\u001b[0m \u001b[0;32mnot\u001b[0m \u001b[0mself\u001b[0m\u001b[0;34m.\u001b[0m\u001b[0m_shutdown\u001b[0m \u001b[0;32mand\u001b[0m \u001b[0mself\u001b[0m\u001b[0;34m.\u001b[0m\u001b[0m_tasks_outstanding\u001b[0m \u001b[0;34m>\u001b[0m \u001b[0;36m0\u001b[0m\u001b[0;34m\u001b[0m\u001b[0;34m\u001b[0m\u001b[0m\n\u001b[0;32m-> 1316\u001b[0;31m             \u001b[0midx\u001b[0m\u001b[0;34m,\u001b[0m \u001b[0mdata\u001b[0m \u001b[0;34m=\u001b[0m \u001b[0mself\u001b[0m\u001b[0;34m.\u001b[0m\u001b[0m_get_data\u001b[0m\u001b[0;34m(\u001b[0m\u001b[0;34m)\u001b[0m\u001b[0;34m\u001b[0m\u001b[0;34m\u001b[0m\u001b[0m\n\u001b[0m\u001b[1;32m   1317\u001b[0m             \u001b[0mself\u001b[0m\u001b[0;34m.\u001b[0m\u001b[0m_tasks_outstanding\u001b[0m \u001b[0;34m-=\u001b[0m \u001b[0;36m1\u001b[0m\u001b[0;34m\u001b[0m\u001b[0;34m\u001b[0m\u001b[0m\n\u001b[1;32m   1318\u001b[0m             \u001b[0;32mif\u001b[0m \u001b[0mself\u001b[0m\u001b[0;34m.\u001b[0m\u001b[0m_dataset_kind\u001b[0m \u001b[0;34m==\u001b[0m \u001b[0m_DatasetKind\u001b[0m\u001b[0;34m.\u001b[0m\u001b[0mIterable\u001b[0m\u001b[0;34m:\u001b[0m\u001b[0;34m\u001b[0m\u001b[0;34m\u001b[0m\u001b[0m\n",
      "\u001b[0;32m~/.conda/envs/carla/lib/python3.7/site-packages/torch/utils/data/dataloader.py\u001b[0m in \u001b[0;36m_get_data\u001b[0;34m(self)\u001b[0m\n\u001b[1;32m   1280\u001b[0m         \u001b[0;32melse\u001b[0m\u001b[0;34m:\u001b[0m\u001b[0;34m\u001b[0m\u001b[0;34m\u001b[0m\u001b[0m\n\u001b[1;32m   1281\u001b[0m             \u001b[0;32mwhile\u001b[0m \u001b[0;32mTrue\u001b[0m\u001b[0;34m:\u001b[0m\u001b[0;34m\u001b[0m\u001b[0;34m\u001b[0m\u001b[0m\n\u001b[0;32m-> 1282\u001b[0;31m                 \u001b[0msuccess\u001b[0m\u001b[0;34m,\u001b[0m \u001b[0mdata\u001b[0m \u001b[0;34m=\u001b[0m \u001b[0mself\u001b[0m\u001b[0;34m.\u001b[0m\u001b[0m_try_get_data\u001b[0m\u001b[0;34m(\u001b[0m\u001b[0;34m)\u001b[0m\u001b[0;34m\u001b[0m\u001b[0;34m\u001b[0m\u001b[0m\n\u001b[0m\u001b[1;32m   1283\u001b[0m                 \u001b[0;32mif\u001b[0m \u001b[0msuccess\u001b[0m\u001b[0;34m:\u001b[0m\u001b[0;34m\u001b[0m\u001b[0;34m\u001b[0m\u001b[0m\n\u001b[1;32m   1284\u001b[0m                     \u001b[0;32mreturn\u001b[0m \u001b[0mdata\u001b[0m\u001b[0;34m\u001b[0m\u001b[0;34m\u001b[0m\u001b[0m\n",
      "\u001b[0;32m~/.conda/envs/carla/lib/python3.7/site-packages/torch/utils/data/dataloader.py\u001b[0m in \u001b[0;36m_try_get_data\u001b[0;34m(self, timeout)\u001b[0m\n\u001b[1;32m   1118\u001b[0m         \u001b[0;31m#   (bool: whether successfully get data, any: data if successful else None)\u001b[0m\u001b[0;34m\u001b[0m\u001b[0;34m\u001b[0m\u001b[0;34m\u001b[0m\u001b[0m\n\u001b[1;32m   1119\u001b[0m         \u001b[0;32mtry\u001b[0m\u001b[0;34m:\u001b[0m\u001b[0;34m\u001b[0m\u001b[0;34m\u001b[0m\u001b[0m\n\u001b[0;32m-> 1120\u001b[0;31m             \u001b[0mdata\u001b[0m \u001b[0;34m=\u001b[0m \u001b[0mself\u001b[0m\u001b[0;34m.\u001b[0m\u001b[0m_data_queue\u001b[0m\u001b[0;34m.\u001b[0m\u001b[0mget\u001b[0m\u001b[0;34m(\u001b[0m\u001b[0mtimeout\u001b[0m\u001b[0;34m=\u001b[0m\u001b[0mtimeout\u001b[0m\u001b[0;34m)\u001b[0m\u001b[0;34m\u001b[0m\u001b[0;34m\u001b[0m\u001b[0m\n\u001b[0m\u001b[1;32m   1121\u001b[0m             \u001b[0;32mreturn\u001b[0m \u001b[0;34m(\u001b[0m\u001b[0;32mTrue\u001b[0m\u001b[0;34m,\u001b[0m \u001b[0mdata\u001b[0m\u001b[0;34m)\u001b[0m\u001b[0;34m\u001b[0m\u001b[0;34m\u001b[0m\u001b[0m\n\u001b[1;32m   1122\u001b[0m         \u001b[0;32mexcept\u001b[0m \u001b[0mException\u001b[0m \u001b[0;32mas\u001b[0m \u001b[0me\u001b[0m\u001b[0;34m:\u001b[0m\u001b[0;34m\u001b[0m\u001b[0;34m\u001b[0m\u001b[0m\n",
      "\u001b[0;32m~/.conda/envs/carla/lib/python3.7/multiprocessing/queues.py\u001b[0m in \u001b[0;36mget\u001b[0;34m(self, block, timeout)\u001b[0m\n\u001b[1;32m    102\u001b[0m                 \u001b[0;32mif\u001b[0m \u001b[0mblock\u001b[0m\u001b[0;34m:\u001b[0m\u001b[0;34m\u001b[0m\u001b[0;34m\u001b[0m\u001b[0m\n\u001b[1;32m    103\u001b[0m                     \u001b[0mtimeout\u001b[0m \u001b[0;34m=\u001b[0m \u001b[0mdeadline\u001b[0m \u001b[0;34m-\u001b[0m \u001b[0mtime\u001b[0m\u001b[0;34m.\u001b[0m\u001b[0mmonotonic\u001b[0m\u001b[0;34m(\u001b[0m\u001b[0;34m)\u001b[0m\u001b[0;34m\u001b[0m\u001b[0;34m\u001b[0m\u001b[0m\n\u001b[0;32m--> 104\u001b[0;31m                     \u001b[0;32mif\u001b[0m \u001b[0;32mnot\u001b[0m \u001b[0mself\u001b[0m\u001b[0;34m.\u001b[0m\u001b[0m_poll\u001b[0m\u001b[0;34m(\u001b[0m\u001b[0mtimeout\u001b[0m\u001b[0;34m)\u001b[0m\u001b[0;34m:\u001b[0m\u001b[0;34m\u001b[0m\u001b[0;34m\u001b[0m\u001b[0m\n\u001b[0m\u001b[1;32m    105\u001b[0m                         \u001b[0;32mraise\u001b[0m \u001b[0mEmpty\u001b[0m\u001b[0;34m\u001b[0m\u001b[0;34m\u001b[0m\u001b[0m\n\u001b[1;32m    106\u001b[0m                 \u001b[0;32melif\u001b[0m \u001b[0;32mnot\u001b[0m \u001b[0mself\u001b[0m\u001b[0;34m.\u001b[0m\u001b[0m_poll\u001b[0m\u001b[0;34m(\u001b[0m\u001b[0;34m)\u001b[0m\u001b[0;34m:\u001b[0m\u001b[0;34m\u001b[0m\u001b[0;34m\u001b[0m\u001b[0m\n",
      "\u001b[0;32m~/.conda/envs/carla/lib/python3.7/multiprocessing/connection.py\u001b[0m in \u001b[0;36mpoll\u001b[0;34m(self, timeout)\u001b[0m\n\u001b[1;32m    255\u001b[0m         \u001b[0mself\u001b[0m\u001b[0;34m.\u001b[0m\u001b[0m_check_closed\u001b[0m\u001b[0;34m(\u001b[0m\u001b[0;34m)\u001b[0m\u001b[0;34m\u001b[0m\u001b[0;34m\u001b[0m\u001b[0m\n\u001b[1;32m    256\u001b[0m         \u001b[0mself\u001b[0m\u001b[0;34m.\u001b[0m\u001b[0m_check_readable\u001b[0m\u001b[0;34m(\u001b[0m\u001b[0;34m)\u001b[0m\u001b[0;34m\u001b[0m\u001b[0;34m\u001b[0m\u001b[0m\n\u001b[0;32m--> 257\u001b[0;31m         \u001b[0;32mreturn\u001b[0m \u001b[0mself\u001b[0m\u001b[0;34m.\u001b[0m\u001b[0m_poll\u001b[0m\u001b[0;34m(\u001b[0m\u001b[0mtimeout\u001b[0m\u001b[0;34m)\u001b[0m\u001b[0;34m\u001b[0m\u001b[0;34m\u001b[0m\u001b[0m\n\u001b[0m\u001b[1;32m    258\u001b[0m \u001b[0;34m\u001b[0m\u001b[0m\n\u001b[1;32m    259\u001b[0m     \u001b[0;32mdef\u001b[0m \u001b[0m__enter__\u001b[0m\u001b[0;34m(\u001b[0m\u001b[0mself\u001b[0m\u001b[0;34m)\u001b[0m\u001b[0;34m:\u001b[0m\u001b[0;34m\u001b[0m\u001b[0;34m\u001b[0m\u001b[0m\n",
      "\u001b[0;32m~/.conda/envs/carla/lib/python3.7/multiprocessing/connection.py\u001b[0m in \u001b[0;36m_poll\u001b[0;34m(self, timeout)\u001b[0m\n\u001b[1;32m    412\u001b[0m \u001b[0;34m\u001b[0m\u001b[0m\n\u001b[1;32m    413\u001b[0m     \u001b[0;32mdef\u001b[0m \u001b[0m_poll\u001b[0m\u001b[0;34m(\u001b[0m\u001b[0mself\u001b[0m\u001b[0;34m,\u001b[0m \u001b[0mtimeout\u001b[0m\u001b[0;34m)\u001b[0m\u001b[0;34m:\u001b[0m\u001b[0;34m\u001b[0m\u001b[0;34m\u001b[0m\u001b[0m\n\u001b[0;32m--> 414\u001b[0;31m         \u001b[0mr\u001b[0m \u001b[0;34m=\u001b[0m \u001b[0mwait\u001b[0m\u001b[0;34m(\u001b[0m\u001b[0;34m[\u001b[0m\u001b[0mself\u001b[0m\u001b[0;34m]\u001b[0m\u001b[0;34m,\u001b[0m \u001b[0mtimeout\u001b[0m\u001b[0;34m)\u001b[0m\u001b[0;34m\u001b[0m\u001b[0;34m\u001b[0m\u001b[0m\n\u001b[0m\u001b[1;32m    415\u001b[0m         \u001b[0;32mreturn\u001b[0m \u001b[0mbool\u001b[0m\u001b[0;34m(\u001b[0m\u001b[0mr\u001b[0m\u001b[0;34m)\u001b[0m\u001b[0;34m\u001b[0m\u001b[0;34m\u001b[0m\u001b[0m\n\u001b[1;32m    416\u001b[0m \u001b[0;34m\u001b[0m\u001b[0m\n",
      "\u001b[0;32m~/.conda/envs/carla/lib/python3.7/multiprocessing/connection.py\u001b[0m in \u001b[0;36mwait\u001b[0;34m(object_list, timeout)\u001b[0m\n\u001b[1;32m    919\u001b[0m \u001b[0;34m\u001b[0m\u001b[0m\n\u001b[1;32m    920\u001b[0m             \u001b[0;32mwhile\u001b[0m \u001b[0;32mTrue\u001b[0m\u001b[0;34m:\u001b[0m\u001b[0;34m\u001b[0m\u001b[0;34m\u001b[0m\u001b[0m\n\u001b[0;32m--> 921\u001b[0;31m                 \u001b[0mready\u001b[0m \u001b[0;34m=\u001b[0m \u001b[0mselector\u001b[0m\u001b[0;34m.\u001b[0m\u001b[0mselect\u001b[0m\u001b[0;34m(\u001b[0m\u001b[0mtimeout\u001b[0m\u001b[0;34m)\u001b[0m\u001b[0;34m\u001b[0m\u001b[0;34m\u001b[0m\u001b[0m\n\u001b[0m\u001b[1;32m    922\u001b[0m                 \u001b[0;32mif\u001b[0m \u001b[0mready\u001b[0m\u001b[0;34m:\u001b[0m\u001b[0;34m\u001b[0m\u001b[0;34m\u001b[0m\u001b[0m\n\u001b[1;32m    923\u001b[0m                     \u001b[0;32mreturn\u001b[0m \u001b[0;34m[\u001b[0m\u001b[0mkey\u001b[0m\u001b[0;34m.\u001b[0m\u001b[0mfileobj\u001b[0m \u001b[0;32mfor\u001b[0m \u001b[0;34m(\u001b[0m\u001b[0mkey\u001b[0m\u001b[0;34m,\u001b[0m \u001b[0mevents\u001b[0m\u001b[0;34m)\u001b[0m \u001b[0;32min\u001b[0m \u001b[0mready\u001b[0m\u001b[0;34m]\u001b[0m\u001b[0;34m\u001b[0m\u001b[0;34m\u001b[0m\u001b[0m\n",
      "\u001b[0;32m~/.conda/envs/carla/lib/python3.7/selectors.py\u001b[0m in \u001b[0;36mselect\u001b[0;34m(self, timeout)\u001b[0m\n\u001b[1;32m    413\u001b[0m         \u001b[0mready\u001b[0m \u001b[0;34m=\u001b[0m \u001b[0;34m[\u001b[0m\u001b[0;34m]\u001b[0m\u001b[0;34m\u001b[0m\u001b[0;34m\u001b[0m\u001b[0m\n\u001b[1;32m    414\u001b[0m         \u001b[0;32mtry\u001b[0m\u001b[0;34m:\u001b[0m\u001b[0;34m\u001b[0m\u001b[0;34m\u001b[0m\u001b[0m\n\u001b[0;32m--> 415\u001b[0;31m             \u001b[0mfd_event_list\u001b[0m \u001b[0;34m=\u001b[0m \u001b[0mself\u001b[0m\u001b[0;34m.\u001b[0m\u001b[0m_selector\u001b[0m\u001b[0;34m.\u001b[0m\u001b[0mpoll\u001b[0m\u001b[0;34m(\u001b[0m\u001b[0mtimeout\u001b[0m\u001b[0;34m)\u001b[0m\u001b[0;34m\u001b[0m\u001b[0;34m\u001b[0m\u001b[0m\n\u001b[0m\u001b[1;32m    416\u001b[0m         \u001b[0;32mexcept\u001b[0m \u001b[0mInterruptedError\u001b[0m\u001b[0;34m:\u001b[0m\u001b[0;34m\u001b[0m\u001b[0;34m\u001b[0m\u001b[0m\n\u001b[1;32m    417\u001b[0m             \u001b[0;32mreturn\u001b[0m \u001b[0mready\u001b[0m\u001b[0;34m\u001b[0m\u001b[0;34m\u001b[0m\u001b[0m\n",
      "\u001b[0;31mKeyboardInterrupt\u001b[0m: "
     ]
    }
   ],
   "source": [
    "\n",
    "epochs = 20\n",
    "\n",
    "# config for progress bar\n",
    "mb = master_bar(range(epochs))\n",
    "mb.names = ['Training loss', 'Validation loss']\n",
    "x = []\n",
    "\n",
    "training_losses = []\n",
    "validation_losses = []\n",
    "\n",
    "valid_mean_min = np.Inf\n",
    "\n",
    "for epoch in mb:\n",
    "  x.append(epoch)\n",
    "  # Evaluate\n",
    "  model.train()\n",
    "  total_loss = torch.Tensor([0.0]).to(device)\n",
    "  #pbar = tqdm(train_dl, total=len(train_dl), position=0, desc=\"Training\", leave=True)\n",
    "  for batch in progress_bar(train_dl, parent=mb):\n",
    "    audio_data = batch['audio'].to(device)\n",
    "    labels = batch['labels'].to(device)\n",
    "    # get mel spectograms\n",
    "    mel_audio_data = audio_transform(audio_data)\n",
    "    # do zmuv transform\n",
    "    mel_audio_data = zmuv_transform(mel_audio_data)\n",
    "    predicted_scores = model(mel_audio_data.unsqueeze(1))\n",
    "    # get loss\n",
    "    loss = criterion(predicted_scores, labels.long())\n",
    "\n",
    "    optimizer.zero_grad()\n",
    "    model.zero_grad()\n",
    "\n",
    "    # backward propagation\n",
    "    loss.backward()\n",
    "    optimizer.step()\n",
    "\n",
    "    with torch.no_grad():\n",
    "        total_loss += loss\n",
    "\n",
    "  for group in optimizer.param_groups:\n",
    "    group[\"lr\"] *= lr_decay\n",
    "\n",
    "  mean = total_loss / len(train_dl)\n",
    "  print('epoch:',epoch,'loss:',mean.item())\n",
    "  torch.save(model.state_dict(), 'checkpoint/checkpoint.pth')\n",
    "  training_losses.append(mean.cpu())"
   ]
  },
  {
   "cell_type": "code",
   "execution_count": 184,
   "id": "feb14cbb",
   "metadata": {
    "scrolled": true
   },
   "outputs": [
    {
     "data": {
      "text/html": [
       "\n",
       "<style>\n",
       "    /* Turns off some styling */\n",
       "    progress {\n",
       "        /* gets rid of default border in Firefox and Opera. */\n",
       "        border: none;\n",
       "        /* Needs to be in here for Safari polyfill so background images work as expected. */\n",
       "        background-size: auto;\n",
       "    }\n",
       "    progress:not([value]), progress:not([value])::-webkit-progress-bar {\n",
       "        background: repeating-linear-gradient(45deg, #7e7e7e, #7e7e7e 10px, #5c5c5c 10px, #5c5c5c 20px);\n",
       "    }\n",
       "    .progress-bar-interrupted, .progress-bar-interrupted::-webkit-progress-bar {\n",
       "        background: #F44336;\n",
       "    }\n",
       "</style>\n"
      ],
      "text/plain": [
       "<IPython.core.display.HTML object>"
      ]
     },
     "metadata": {},
     "output_type": "display_data"
    },
    {
     "data": {
      "text/html": [
       "\n",
       "Epoch 0: Training loss 0.161495 validation loss 0.723273 with lr 0.000950<p>\n",
       "Epoch 1: Training loss 0.108706 validation loss 0.528035 with lr 0.000902<p>\n",
       "Epoch 2: Training loss 0.095207 validation loss 0.494638 with lr 0.000857<p>\n",
       "Epoch 3: Training loss 0.089001 validation loss 0.623791 with lr 0.000815<p>\n",
       "Epoch 4: Training loss 0.077000 validation loss 0.910561 with lr 0.000774<p>\n",
       "Epoch 5: Training loss 0.071200 validation loss 0.707567 with lr 0.000735<p>\n",
       "Epoch 6: Training loss 0.065168 validation loss 0.637230 with lr 0.000698<p>\n",
       "Epoch 7: Training loss 0.064509 validation loss 0.586372 with lr 0.000663<p>\n",
       "Epoch 8: Training loss 0.058055 validation loss 0.664810 with lr 0.000630<p>\n",
       "Epoch 9: Training loss 0.054604 validation loss 0.683181 with lr 0.000599<p>\n",
       "Epoch 10: Training loss 0.053714 validation loss 0.518838 with lr 0.000569<p>\n",
       "Epoch 11: Training loss 0.051767 validation loss 0.671265 with lr 0.000540<p>\n",
       "Epoch 12: Training loss 0.047648 validation loss 0.587592 with lr 0.000513<p>\n",
       "Epoch 13: Training loss 0.047781 validation loss 0.761176 with lr 0.000488<p>\n",
       "Epoch 14: Training loss 0.044441 validation loss 0.600391 with lr 0.000463<p>\n",
       "Epoch 15: Training loss 0.040930 validation loss 0.617037 with lr 0.000440<p>\n",
       "Epoch 16: Training loss 0.043520 validation loss 0.584119 with lr 0.000418<p>\n",
       "Epoch 17: Training loss 0.041989 validation loss 0.533802 with lr 0.000397<p>\n",
       "Epoch 18: Training loss 0.039060 validation loss 0.566116 with lr 0.000377<p>\n",
       "Epoch 19: Training loss 0.034763 validation loss 0.686288 with lr 0.000358"
      ],
      "text/plain": [
       "<IPython.core.display.HTML object>"
      ]
     },
     "metadata": {},
     "output_type": "display_data"
    },
    {
     "name": "stderr",
     "output_type": "stream",
     "text": [
      "/usr4/ec500/vadithya/.conda/envs/carla/lib/python3.7/site-packages/ipykernel_launcher.py:61: TqdmDeprecationWarning: This function will be removed in tqdm==5.0.0\n",
      "Please use `tqdm.notebook.tqdm` instead of `tqdm.tqdm_notebook`\n"
     ]
    },
    {
     "data": {
      "application/vnd.jupyter.widget-view+json": {
       "model_id": "411d01b943c24053ae801fd9d7895fba",
       "version_major": 2,
       "version_minor": 0
      },
      "text/plain": [
       "Testing:   0%|          | 0/115 [00:00<?, ?it/s]"
      ]
     },
     "metadata": {},
     "output_type": "display_data"
    },
    {
     "name": "stdout",
     "output_type": "stream",
     "text": [
      "              precision    recall  f1-score   support\n",
      "\n",
      "      normal       0.49      0.96      0.65      1669\n",
      "        stfu       0.98      0.70      0.82      5654\n",
      "\n",
      "    accuracy                           0.76      7323\n",
      "   macro avg       0.74      0.83      0.73      7323\n",
      "weighted avg       0.87      0.76      0.78      7323\n",
      "\n"
     ]
    },
    {
     "data": {
      "image/png": "[encoded data removed]",
      "text/plain": [
       "<Figure size 600x400 with 1 Axes>"
      ]
     },
     "metadata": {},
     "output_type": "display_data"
    },
    {
     "name": "stderr",
     "output_type": "stream",
     "text": [
      "/usr4/ec500/vadithya/.conda/envs/carla/lib/python3.7/site-packages/numpy/core/shape_base.py:65: FutureWarning: The input object of type 'Tensor' is an array-like implementing one of the corresponding protocols (`__array__`, `__array_interface__` or `__array_struct__`); but not a sequence (or 0-D). In the future, this object will be coerced as if it was first converted using `np.array(obj)`. To retain the old behaviour, you have to either modify the type 'Tensor', or assign to an empty array created with `np.empty(correct_shape, dtype=object)`.\n",
      "  ary = asanyarray(ary)\n"
     ]
    },
    {
     "name": "stdout",
     "output_type": "stream",
     "text": [
      "Validation loss decreased (inf --> 0.723273).  Saving model ...\n"
     ]
    },
    {
     "name": "stderr",
     "output_type": "stream",
     "text": [
      "/usr4/ec500/vadithya/.conda/envs/carla/lib/python3.7/site-packages/ipykernel_launcher.py:61: TqdmDeprecationWarning: This function will be removed in tqdm==5.0.0\n",
      "Please use `tqdm.notebook.tqdm` instead of `tqdm.tqdm_notebook`\n"
     ]
    },
    {
     "data": {
      "application/vnd.jupyter.widget-view+json": {
       "model_id": "16c62bbe8a9046cf95704c149cb82aaf",
       "version_major": 2,
       "version_minor": 0
      },
      "text/plain": [
       "Testing:   0%|          | 0/115 [00:00<?, ?it/s]"
      ]
     },
     "metadata": {},
     "output_type": "display_data"
    },
    {
     "name": "stdout",
     "output_type": "stream",
     "text": [
      "              precision    recall  f1-score   support\n",
      "\n",
      "      normal       0.52      0.94      0.67      3338\n",
      "        stfu       0.98      0.74      0.84     11308\n",
      "\n",
      "    accuracy                           0.79     14646\n",
      "   macro avg       0.75      0.84      0.76     14646\n",
      "weighted avg       0.87      0.79      0.80     14646\n",
      "\n"
     ]
    },
    {
     "name": "stderr",
     "output_type": "stream",
     "text": [
      "/usr4/ec500/vadithya/.conda/envs/carla/lib/python3.7/site-packages/numpy/core/shape_base.py:65: FutureWarning: The input object of type 'Tensor' is an array-like implementing one of the corresponding protocols (`__array__`, `__array_interface__` or `__array_struct__`); but not a sequence (or 0-D). In the future, this object will be coerced as if it was first converted using `np.array(obj)`. To retain the old behaviour, you have to either modify the type 'Tensor', or assign to an empty array created with `np.empty(correct_shape, dtype=object)`.\n",
      "  ary = asanyarray(ary)\n",
      "/usr4/ec500/vadithya/.conda/envs/carla/lib/python3.7/site-packages/numpy/core/shape_base.py:65: VisibleDeprecationWarning: Creating an ndarray from ragged nested sequences (which is a list-or-tuple of lists-or-tuples-or ndarrays with different lengths or shapes) is deprecated. If you meant to do this, you must specify 'dtype=object' when creating the ndarray.\n",
      "  ary = asanyarray(ary)\n"
     ]
    },
    {
     "name": "stdout",
     "output_type": "stream",
     "text": [
      "Validation loss decreased (0.723273 --> 0.528035).  Saving model ...\n"
     ]
    },
    {
     "name": "stderr",
     "output_type": "stream",
     "text": [
      "/usr4/ec500/vadithya/.conda/envs/carla/lib/python3.7/site-packages/ipykernel_launcher.py:61: TqdmDeprecationWarning: This function will be removed in tqdm==5.0.0\n",
      "Please use `tqdm.notebook.tqdm` instead of `tqdm.tqdm_notebook`\n"
     ]
    },
    {
     "data": {
      "application/vnd.jupyter.widget-view+json": {
       "model_id": "674ad3d5eafa4c75ba490f43c3d11fd6",
       "version_major": 2,
       "version_minor": 0
      },
      "text/plain": [
       "Testing:   0%|          | 0/115 [00:00<?, ?it/s]"
      ]
     },
     "metadata": {},
     "output_type": "display_data"
    },
    {
     "name": "stdout",
     "output_type": "stream",
     "text": [
      "              precision    recall  f1-score   support\n",
      "\n",
      "      normal       0.54      0.93      0.68      5007\n",
      "        stfu       0.97      0.76      0.86     16962\n",
      "\n",
      "    accuracy                           0.80     21969\n",
      "   macro avg       0.76      0.85      0.77     21969\n",
      "weighted avg       0.87      0.80      0.82     21969\n",
      "\n"
     ]
    },
    {
     "name": "stderr",
     "output_type": "stream",
     "text": [
      "/usr4/ec500/vadithya/.conda/envs/carla/lib/python3.7/site-packages/numpy/core/shape_base.py:65: FutureWarning: The input object of type 'Tensor' is an array-like implementing one of the corresponding protocols (`__array__`, `__array_interface__` or `__array_struct__`); but not a sequence (or 0-D). In the future, this object will be coerced as if it was first converted using `np.array(obj)`. To retain the old behaviour, you have to either modify the type 'Tensor', or assign to an empty array created with `np.empty(correct_shape, dtype=object)`.\n",
      "  ary = asanyarray(ary)\n",
      "/usr4/ec500/vadithya/.conda/envs/carla/lib/python3.7/site-packages/numpy/core/shape_base.py:65: VisibleDeprecationWarning: Creating an ndarray from ragged nested sequences (which is a list-or-tuple of lists-or-tuples-or ndarrays with different lengths or shapes) is deprecated. If you meant to do this, you must specify 'dtype=object' when creating the ndarray.\n",
      "  ary = asanyarray(ary)\n"
     ]
    },
    {
     "name": "stdout",
     "output_type": "stream",
     "text": [
      "Validation loss decreased (0.528035 --> 0.494638).  Saving model ...\n"
     ]
    },
    {
     "name": "stderr",
     "output_type": "stream",
     "text": [
      "/usr4/ec500/vadithya/.conda/envs/carla/lib/python3.7/site-packages/ipykernel_launcher.py:61: TqdmDeprecationWarning: This function will be removed in tqdm==5.0.0\n",
      "Please use `tqdm.notebook.tqdm` instead of `tqdm.tqdm_notebook`\n"
     ]
    },
    {
     "data": {
      "application/vnd.jupyter.widget-view+json": {
       "model_id": "95d149562ae84eefb725b7952dec496f",
       "version_major": 2,
       "version_minor": 0
      },
      "text/plain": [
       "Testing:   0%|          | 0/115 [00:00<?, ?it/s]"
      ]
     },
     "metadata": {},
     "output_type": "display_data"
    },
    {
     "name": "stdout",
     "output_type": "stream",
     "text": [
      "              precision    recall  f1-score   support\n",
      "\n",
      "      normal       0.54      0.94      0.68      6676\n",
      "        stfu       0.98      0.76      0.85     22616\n",
      "\n",
      "    accuracy                           0.80     29292\n",
      "   macro avg       0.76      0.85      0.77     29292\n",
      "weighted avg       0.88      0.80      0.82     29292\n",
      "\n"
     ]
    },
    {
     "name": "stderr",
     "output_type": "stream",
     "text": [
      "/usr4/ec500/vadithya/.conda/envs/carla/lib/python3.7/site-packages/numpy/core/shape_base.py:65: FutureWarning: The input object of type 'Tensor' is an array-like implementing one of the corresponding protocols (`__array__`, `__array_interface__` or `__array_struct__`); but not a sequence (or 0-D). In the future, this object will be coerced as if it was first converted using `np.array(obj)`. To retain the old behaviour, you have to either modify the type 'Tensor', or assign to an empty array created with `np.empty(correct_shape, dtype=object)`.\n",
      "  ary = asanyarray(ary)\n",
      "/usr4/ec500/vadithya/.conda/envs/carla/lib/python3.7/site-packages/numpy/core/shape_base.py:65: VisibleDeprecationWarning: Creating an ndarray from ragged nested sequences (which is a list-or-tuple of lists-or-tuples-or ndarrays with different lengths or shapes) is deprecated. If you meant to do this, you must specify 'dtype=object' when creating the ndarray.\n",
      "  ary = asanyarray(ary)\n",
      "/usr4/ec500/vadithya/.conda/envs/carla/lib/python3.7/site-packages/ipykernel_launcher.py:61: TqdmDeprecationWarning: This function will be removed in tqdm==5.0.0\n",
      "Please use `tqdm.notebook.tqdm` instead of `tqdm.tqdm_notebook`\n"
     ]
    },
    {
     "data": {
      "application/vnd.jupyter.widget-view+json": {
       "model_id": "12f3aad1485d46d9814f79c28ab06915",
       "version_major": 2,
       "version_minor": 0
      },
      "text/plain": [
       "Testing:   0%|          | 0/115 [00:00<?, ?it/s]"
      ]
     },
     "metadata": {},
     "output_type": "display_data"
    },
    {
     "name": "stdout",
     "output_type": "stream",
     "text": [
      "              precision    recall  f1-score   support\n",
      "\n",
      "      normal       0.51      0.95      0.67      8345\n",
      "        stfu       0.98      0.74      0.84     28270\n",
      "\n",
      "    accuracy                           0.78     36615\n",
      "   macro avg       0.75      0.84      0.75     36615\n",
      "weighted avg       0.87      0.78      0.80     36615\n",
      "\n"
     ]
    },
    {
     "name": "stderr",
     "output_type": "stream",
     "text": [
      "/usr4/ec500/vadithya/.conda/envs/carla/lib/python3.7/site-packages/numpy/core/shape_base.py:65: FutureWarning: The input object of type 'Tensor' is an array-like implementing one of the corresponding protocols (`__array__`, `__array_interface__` or `__array_struct__`); but not a sequence (or 0-D). In the future, this object will be coerced as if it was first converted using `np.array(obj)`. To retain the old behaviour, you have to either modify the type 'Tensor', or assign to an empty array created with `np.empty(correct_shape, dtype=object)`.\n",
      "  ary = asanyarray(ary)\n",
      "/usr4/ec500/vadithya/.conda/envs/carla/lib/python3.7/site-packages/numpy/core/shape_base.py:65: VisibleDeprecationWarning: Creating an ndarray from ragged nested sequences (which is a list-or-tuple of lists-or-tuples-or ndarrays with different lengths or shapes) is deprecated. If you meant to do this, you must specify 'dtype=object' when creating the ndarray.\n",
      "  ary = asanyarray(ary)\n",
      "/usr4/ec500/vadithya/.conda/envs/carla/lib/python3.7/site-packages/ipykernel_launcher.py:61: TqdmDeprecationWarning: This function will be removed in tqdm==5.0.0\n",
      "Please use `tqdm.notebook.tqdm` instead of `tqdm.tqdm_notebook`\n"
     ]
    },
    {
     "data": {
      "application/vnd.jupyter.widget-view+json": {
       "model_id": "28cfb9c1dfe941999a166c2ec15b699c",
       "version_major": 2,
       "version_minor": 0
      },
      "text/plain": [
       "Testing:   0%|          | 0/115 [00:00<?, ?it/s]"
      ]
     },
     "metadata": {},
     "output_type": "display_data"
    },
    {
     "name": "stdout",
     "output_type": "stream",
     "text": [
      "              precision    recall  f1-score   support\n",
      "\n",
      "      normal       0.52      0.94      0.67     10014\n",
      "        stfu       0.98      0.74      0.84     33924\n",
      "\n",
      "    accuracy                           0.79     43938\n",
      "   macro avg       0.75      0.84      0.76     43938\n",
      "weighted avg       0.87      0.79      0.81     43938\n",
      "\n"
     ]
    },
    {
     "name": "stderr",
     "output_type": "stream",
     "text": [
      "/usr4/ec500/vadithya/.conda/envs/carla/lib/python3.7/site-packages/numpy/core/shape_base.py:65: FutureWarning: The input object of type 'Tensor' is an array-like implementing one of the corresponding protocols (`__array__`, `__array_interface__` or `__array_struct__`); but not a sequence (or 0-D). In the future, this object will be coerced as if it was first converted using `np.array(obj)`. To retain the old behaviour, you have to either modify the type 'Tensor', or assign to an empty array created with `np.empty(correct_shape, dtype=object)`.\n",
      "  ary = asanyarray(ary)\n",
      "/usr4/ec500/vadithya/.conda/envs/carla/lib/python3.7/site-packages/numpy/core/shape_base.py:65: VisibleDeprecationWarning: Creating an ndarray from ragged nested sequences (which is a list-or-tuple of lists-or-tuples-or ndarrays with different lengths or shapes) is deprecated. If you meant to do this, you must specify 'dtype=object' when creating the ndarray.\n",
      "  ary = asanyarray(ary)\n",
      "/usr4/ec500/vadithya/.conda/envs/carla/lib/python3.7/site-packages/ipykernel_launcher.py:61: TqdmDeprecationWarning: This function will be removed in tqdm==5.0.0\n",
      "Please use `tqdm.notebook.tqdm` instead of `tqdm.tqdm_notebook`\n"
     ]
    },
    {
     "data": {
      "application/vnd.jupyter.widget-view+json": {
       "model_id": "fa953c47f5c943c5aad74307ad5cf690",
       "version_major": 2,
       "version_minor": 0
      },
      "text/plain": [
       "Testing:   0%|          | 0/115 [00:00<?, ?it/s]"
      ]
     },
     "metadata": {},
     "output_type": "display_data"
    },
    {
     "name": "stdout",
     "output_type": "stream",
     "text": [
      "              precision    recall  f1-score   support\n",
      "\n",
      "      normal       0.52      0.95      0.67     11683\n",
      "        stfu       0.98      0.75      0.85     39578\n",
      "\n",
      "    accuracy                           0.79     51261\n",
      "   macro avg       0.75      0.85      0.76     51261\n",
      "weighted avg       0.88      0.79      0.81     51261\n",
      "\n"
     ]
    },
    {
     "name": "stderr",
     "output_type": "stream",
     "text": [
      "/usr4/ec500/vadithya/.conda/envs/carla/lib/python3.7/site-packages/numpy/core/shape_base.py:65: FutureWarning: The input object of type 'Tensor' is an array-like implementing one of the corresponding protocols (`__array__`, `__array_interface__` or `__array_struct__`); but not a sequence (or 0-D). In the future, this object will be coerced as if it was first converted using `np.array(obj)`. To retain the old behaviour, you have to either modify the type 'Tensor', or assign to an empty array created with `np.empty(correct_shape, dtype=object)`.\n",
      "  ary = asanyarray(ary)\n",
      "/usr4/ec500/vadithya/.conda/envs/carla/lib/python3.7/site-packages/numpy/core/shape_base.py:65: VisibleDeprecationWarning: Creating an ndarray from ragged nested sequences (which is a list-or-tuple of lists-or-tuples-or ndarrays with different lengths or shapes) is deprecated. If you meant to do this, you must specify 'dtype=object' when creating the ndarray.\n",
      "  ary = asanyarray(ary)\n",
      "/usr4/ec500/vadithya/.conda/envs/carla/lib/python3.7/site-packages/ipykernel_launcher.py:61: TqdmDeprecationWarning: This function will be removed in tqdm==5.0.0\n",
      "Please use `tqdm.notebook.tqdm` instead of `tqdm.tqdm_notebook`\n"
     ]
    },
    {
     "data": {
      "application/vnd.jupyter.widget-view+json": {
       "model_id": "d00623655238498d9d18e51a6dbfaef0",
       "version_major": 2,
       "version_minor": 0
      },
      "text/plain": [
       "Testing:   0%|          | 0/115 [00:00<?, ?it/s]"
      ]
     },
     "metadata": {},
     "output_type": "display_data"
    },
    {
     "name": "stdout",
     "output_type": "stream",
     "text": [
      "              precision    recall  f1-score   support\n",
      "\n",
      "      normal       0.53      0.95      0.68     13352\n",
      "        stfu       0.98      0.75      0.85     45232\n",
      "\n",
      "    accuracy                           0.80     58584\n",
      "   macro avg       0.76      0.85      0.77     58584\n",
      "weighted avg       0.88      0.80      0.81     58584\n",
      "\n"
     ]
    },
    {
     "name": "stderr",
     "output_type": "stream",
     "text": [
      "/usr4/ec500/vadithya/.conda/envs/carla/lib/python3.7/site-packages/numpy/core/shape_base.py:65: FutureWarning: The input object of type 'Tensor' is an array-like implementing one of the corresponding protocols (`__array__`, `__array_interface__` or `__array_struct__`); but not a sequence (or 0-D). In the future, this object will be coerced as if it was first converted using `np.array(obj)`. To retain the old behaviour, you have to either modify the type 'Tensor', or assign to an empty array created with `np.empty(correct_shape, dtype=object)`.\n",
      "  ary = asanyarray(ary)\n",
      "/usr4/ec500/vadithya/.conda/envs/carla/lib/python3.7/site-packages/numpy/core/shape_base.py:65: VisibleDeprecationWarning: Creating an ndarray from ragged nested sequences (which is a list-or-tuple of lists-or-tuples-or ndarrays with different lengths or shapes) is deprecated. If you meant to do this, you must specify 'dtype=object' when creating the ndarray.\n",
      "  ary = asanyarray(ary)\n",
      "/usr4/ec500/vadithya/.conda/envs/carla/lib/python3.7/site-packages/ipykernel_launcher.py:61: TqdmDeprecationWarning: This function will be removed in tqdm==5.0.0\n",
      "Please use `tqdm.notebook.tqdm` instead of `tqdm.tqdm_notebook`\n"
     ]
    },
    {
     "data": {
      "application/vnd.jupyter.widget-view+json": {
       "model_id": "c917a8fe97ee47b7a37b42bbfe5fd66c",
       "version_major": 2,
       "version_minor": 0
      },
      "text/plain": [
       "Testing:   0%|          | 0/115 [00:00<?, ?it/s]"
      ]
     },
     "metadata": {},
     "output_type": "display_data"
    },
    {
     "name": "stdout",
     "output_type": "stream",
     "text": [
      "              precision    recall  f1-score   support\n",
      "\n",
      "      normal       0.53      0.95      0.68     15021\n",
      "        stfu       0.98      0.75      0.85     50886\n",
      "\n",
      "    accuracy                           0.80     65907\n",
      "   macro avg       0.76      0.85      0.77     65907\n",
      "weighted avg       0.88      0.80      0.81     65907\n",
      "\n"
     ]
    },
    {
     "name": "stderr",
     "output_type": "stream",
     "text": [
      "/usr4/ec500/vadithya/.conda/envs/carla/lib/python3.7/site-packages/numpy/core/shape_base.py:65: FutureWarning: The input object of type 'Tensor' is an array-like implementing one of the corresponding protocols (`__array__`, `__array_interface__` or `__array_struct__`); but not a sequence (or 0-D). In the future, this object will be coerced as if it was first converted using `np.array(obj)`. To retain the old behaviour, you have to either modify the type 'Tensor', or assign to an empty array created with `np.empty(correct_shape, dtype=object)`.\n",
      "  ary = asanyarray(ary)\n",
      "/usr4/ec500/vadithya/.conda/envs/carla/lib/python3.7/site-packages/numpy/core/shape_base.py:65: VisibleDeprecationWarning: Creating an ndarray from ragged nested sequences (which is a list-or-tuple of lists-or-tuples-or ndarrays with different lengths or shapes) is deprecated. If you meant to do this, you must specify 'dtype=object' when creating the ndarray.\n",
      "  ary = asanyarray(ary)\n",
      "/usr4/ec500/vadithya/.conda/envs/carla/lib/python3.7/site-packages/ipykernel_launcher.py:61: TqdmDeprecationWarning: This function will be removed in tqdm==5.0.0\n",
      "Please use `tqdm.notebook.tqdm` instead of `tqdm.tqdm_notebook`\n"
     ]
    },
    {
     "data": {
      "application/vnd.jupyter.widget-view+json": {
       "model_id": "62d4c8dcb5954fd5889a0e426b5ac507",
       "version_major": 2,
       "version_minor": 0
      },
      "text/plain": [
       "Testing:   0%|          | 0/115 [00:00<?, ?it/s]"
      ]
     },
     "metadata": {},
     "output_type": "display_data"
    },
    {
     "name": "stdout",
     "output_type": "stream",
     "text": [
      "              precision    recall  f1-score   support\n",
      "\n",
      "      normal       0.53      0.95      0.68     16690\n",
      "        stfu       0.98      0.75      0.85     56540\n",
      "\n",
      "    accuracy                           0.80     73230\n",
      "   macro avg       0.76      0.85      0.77     73230\n",
      "weighted avg       0.88      0.80      0.81     73230\n",
      "\n"
     ]
    },
    {
     "name": "stderr",
     "output_type": "stream",
     "text": [
      "/usr4/ec500/vadithya/.conda/envs/carla/lib/python3.7/site-packages/numpy/core/shape_base.py:65: FutureWarning: The input object of type 'Tensor' is an array-like implementing one of the corresponding protocols (`__array__`, `__array_interface__` or `__array_struct__`); but not a sequence (or 0-D). In the future, this object will be coerced as if it was first converted using `np.array(obj)`. To retain the old behaviour, you have to either modify the type 'Tensor', or assign to an empty array created with `np.empty(correct_shape, dtype=object)`.\n",
      "  ary = asanyarray(ary)\n",
      "/usr4/ec500/vadithya/.conda/envs/carla/lib/python3.7/site-packages/numpy/core/shape_base.py:65: VisibleDeprecationWarning: Creating an ndarray from ragged nested sequences (which is a list-or-tuple of lists-or-tuples-or ndarrays with different lengths or shapes) is deprecated. If you meant to do this, you must specify 'dtype=object' when creating the ndarray.\n",
      "  ary = asanyarray(ary)\n",
      "/usr4/ec500/vadithya/.conda/envs/carla/lib/python3.7/site-packages/ipykernel_launcher.py:61: TqdmDeprecationWarning: This function will be removed in tqdm==5.0.0\n",
      "Please use `tqdm.notebook.tqdm` instead of `tqdm.tqdm_notebook`\n"
     ]
    },
    {
     "data": {
      "application/vnd.jupyter.widget-view+json": {
       "model_id": "f0e4ab51b7bc48adbb6ab86c96f264b6",
       "version_major": 2,
       "version_minor": 0
      },
      "text/plain": [
       "Testing:   0%|          | 0/115 [00:00<?, ?it/s]"
      ]
     },
     "metadata": {},
     "output_type": "display_data"
    },
    {
     "name": "stdout",
     "output_type": "stream",
     "text": [
      "              precision    recall  f1-score   support\n",
      "\n",
      "      normal       0.54      0.95      0.69     18359\n",
      "        stfu       0.98      0.76      0.86     62194\n",
      "\n",
      "    accuracy                           0.80     80553\n",
      "   macro avg       0.76      0.86      0.77     80553\n",
      "weighted avg       0.88      0.80      0.82     80553\n",
      "\n"
     ]
    },
    {
     "name": "stderr",
     "output_type": "stream",
     "text": [
      "/usr4/ec500/vadithya/.conda/envs/carla/lib/python3.7/site-packages/numpy/core/shape_base.py:65: FutureWarning: The input object of type 'Tensor' is an array-like implementing one of the corresponding protocols (`__array__`, `__array_interface__` or `__array_struct__`); but not a sequence (or 0-D). In the future, this object will be coerced as if it was first converted using `np.array(obj)`. To retain the old behaviour, you have to either modify the type 'Tensor', or assign to an empty array created with `np.empty(correct_shape, dtype=object)`.\n",
      "  ary = asanyarray(ary)\n",
      "/usr4/ec500/vadithya/.conda/envs/carla/lib/python3.7/site-packages/numpy/core/shape_base.py:65: VisibleDeprecationWarning: Creating an ndarray from ragged nested sequences (which is a list-or-tuple of lists-or-tuples-or ndarrays with different lengths or shapes) is deprecated. If you meant to do this, you must specify 'dtype=object' when creating the ndarray.\n",
      "  ary = asanyarray(ary)\n",
      "/usr4/ec500/vadithya/.conda/envs/carla/lib/python3.7/site-packages/ipykernel_launcher.py:61: TqdmDeprecationWarning: This function will be removed in tqdm==5.0.0\n",
      "Please use `tqdm.notebook.tqdm` instead of `tqdm.tqdm_notebook`\n"
     ]
    },
    {
     "data": {
      "application/vnd.jupyter.widget-view+json": {
       "model_id": "e317144c75714c07b72b37611293a82a",
       "version_major": 2,
       "version_minor": 0
      },
      "text/plain": [
       "Testing:   0%|          | 0/115 [00:00<?, ?it/s]"
      ]
     },
     "metadata": {},
     "output_type": "display_data"
    },
    {
     "name": "stdout",
     "output_type": "stream",
     "text": [
      "              precision    recall  f1-score   support\n",
      "\n",
      "      normal       0.54      0.95      0.69     20028\n",
      "        stfu       0.98      0.76      0.86     67848\n",
      "\n",
      "    accuracy                           0.81     87876\n",
      "   macro avg       0.76      0.86      0.77     87876\n",
      "weighted avg       0.88      0.81      0.82     87876\n",
      "\n"
     ]
    },
    {
     "name": "stderr",
     "output_type": "stream",
     "text": [
      "/usr4/ec500/vadithya/.conda/envs/carla/lib/python3.7/site-packages/numpy/core/shape_base.py:65: FutureWarning: The input object of type 'Tensor' is an array-like implementing one of the corresponding protocols (`__array__`, `__array_interface__` or `__array_struct__`); but not a sequence (or 0-D). In the future, this object will be coerced as if it was first converted using `np.array(obj)`. To retain the old behaviour, you have to either modify the type 'Tensor', or assign to an empty array created with `np.empty(correct_shape, dtype=object)`.\n",
      "  ary = asanyarray(ary)\n",
      "/usr4/ec500/vadithya/.conda/envs/carla/lib/python3.7/site-packages/numpy/core/shape_base.py:65: VisibleDeprecationWarning: Creating an ndarray from ragged nested sequences (which is a list-or-tuple of lists-or-tuples-or ndarrays with different lengths or shapes) is deprecated. If you meant to do this, you must specify 'dtype=object' when creating the ndarray.\n",
      "  ary = asanyarray(ary)\n",
      "/usr4/ec500/vadithya/.conda/envs/carla/lib/python3.7/site-packages/ipykernel_launcher.py:61: TqdmDeprecationWarning: This function will be removed in tqdm==5.0.0\n",
      "Please use `tqdm.notebook.tqdm` instead of `tqdm.tqdm_notebook`\n"
     ]
    },
    {
     "data": {
      "application/vnd.jupyter.widget-view+json": {
       "model_id": "1a4df83be59141359793d6c4be98f273",
       "version_major": 2,
       "version_minor": 0
      },
      "text/plain": [
       "Testing:   0%|          | 0/115 [00:00<?, ?it/s]"
      ]
     },
     "metadata": {},
     "output_type": "display_data"
    },
    {
     "name": "stdout",
     "output_type": "stream",
     "text": [
      "              precision    recall  f1-score   support\n",
      "\n",
      "      normal       0.54      0.95      0.69     21697\n",
      "        stfu       0.98      0.77      0.86     73502\n",
      "\n",
      "    accuracy                           0.81     95199\n",
      "   macro avg       0.76      0.86      0.78     95199\n",
      "weighted avg       0.88      0.81      0.82     95199\n",
      "\n"
     ]
    },
    {
     "name": "stderr",
     "output_type": "stream",
     "text": [
      "/usr4/ec500/vadithya/.conda/envs/carla/lib/python3.7/site-packages/numpy/core/shape_base.py:65: FutureWarning: The input object of type 'Tensor' is an array-like implementing one of the corresponding protocols (`__array__`, `__array_interface__` or `__array_struct__`); but not a sequence (or 0-D). In the future, this object will be coerced as if it was first converted using `np.array(obj)`. To retain the old behaviour, you have to either modify the type 'Tensor', or assign to an empty array created with `np.empty(correct_shape, dtype=object)`.\n",
      "  ary = asanyarray(ary)\n",
      "/usr4/ec500/vadithya/.conda/envs/carla/lib/python3.7/site-packages/numpy/core/shape_base.py:65: VisibleDeprecationWarning: Creating an ndarray from ragged nested sequences (which is a list-or-tuple of lists-or-tuples-or ndarrays with different lengths or shapes) is deprecated. If you meant to do this, you must specify 'dtype=object' when creating the ndarray.\n",
      "  ary = asanyarray(ary)\n",
      "/usr4/ec500/vadithya/.conda/envs/carla/lib/python3.7/site-packages/ipykernel_launcher.py:61: TqdmDeprecationWarning: This function will be removed in tqdm==5.0.0\n",
      "Please use `tqdm.notebook.tqdm` instead of `tqdm.tqdm_notebook`\n"
     ]
    },
    {
     "data": {
      "application/vnd.jupyter.widget-view+json": {
       "model_id": "d28d313f9c3f46f6bc958427848bdb87",
       "version_major": 2,
       "version_minor": 0
      },
      "text/plain": [
       "Testing:   0%|          | 0/115 [00:00<?, ?it/s]"
      ]
     },
     "metadata": {},
     "output_type": "display_data"
    },
    {
     "name": "stdout",
     "output_type": "stream",
     "text": [
      "              precision    recall  f1-score   support\n",
      "\n",
      "      normal       0.55      0.95      0.69     23366\n",
      "        stfu       0.98      0.77      0.86     79156\n",
      "\n",
      "    accuracy                           0.81    102522\n",
      "   macro avg       0.76      0.86      0.78    102522\n",
      "weighted avg       0.88      0.81      0.82    102522\n",
      "\n"
     ]
    },
    {
     "name": "stderr",
     "output_type": "stream",
     "text": [
      "/usr4/ec500/vadithya/.conda/envs/carla/lib/python3.7/site-packages/numpy/core/shape_base.py:65: FutureWarning: The input object of type 'Tensor' is an array-like implementing one of the corresponding protocols (`__array__`, `__array_interface__` or `__array_struct__`); but not a sequence (or 0-D). In the future, this object will be coerced as if it was first converted using `np.array(obj)`. To retain the old behaviour, you have to either modify the type 'Tensor', or assign to an empty array created with `np.empty(correct_shape, dtype=object)`.\n",
      "  ary = asanyarray(ary)\n",
      "/usr4/ec500/vadithya/.conda/envs/carla/lib/python3.7/site-packages/numpy/core/shape_base.py:65: VisibleDeprecationWarning: Creating an ndarray from ragged nested sequences (which is a list-or-tuple of lists-or-tuples-or ndarrays with different lengths or shapes) is deprecated. If you meant to do this, you must specify 'dtype=object' when creating the ndarray.\n",
      "  ary = asanyarray(ary)\n",
      "/usr4/ec500/vadithya/.conda/envs/carla/lib/python3.7/site-packages/ipykernel_launcher.py:61: TqdmDeprecationWarning: This function will be removed in tqdm==5.0.0\n",
      "Please use `tqdm.notebook.tqdm` instead of `tqdm.tqdm_notebook`\n"
     ]
    },
    {
     "data": {
      "application/vnd.jupyter.widget-view+json": {
       "model_id": "aabb411fb186405e90db2a5b21ab5eee",
       "version_major": 2,
       "version_minor": 0
      },
      "text/plain": [
       "Testing:   0%|          | 0/115 [00:00<?, ?it/s]"
      ]
     },
     "metadata": {},
     "output_type": "display_data"
    },
    {
     "name": "stdout",
     "output_type": "stream",
     "text": [
      "              precision    recall  f1-score   support\n",
      "\n",
      "      normal       0.55      0.95      0.70     25035\n",
      "        stfu       0.98      0.77      0.86     84810\n",
      "\n",
      "    accuracy                           0.81    109845\n",
      "   macro avg       0.77      0.86      0.78    109845\n",
      "weighted avg       0.88      0.81      0.82    109845\n",
      "\n"
     ]
    },
    {
     "name": "stderr",
     "output_type": "stream",
     "text": [
      "/usr4/ec500/vadithya/.conda/envs/carla/lib/python3.7/site-packages/numpy/core/shape_base.py:65: FutureWarning: The input object of type 'Tensor' is an array-like implementing one of the corresponding protocols (`__array__`, `__array_interface__` or `__array_struct__`); but not a sequence (or 0-D). In the future, this object will be coerced as if it was first converted using `np.array(obj)`. To retain the old behaviour, you have to either modify the type 'Tensor', or assign to an empty array created with `np.empty(correct_shape, dtype=object)`.\n",
      "  ary = asanyarray(ary)\n",
      "/usr4/ec500/vadithya/.conda/envs/carla/lib/python3.7/site-packages/numpy/core/shape_base.py:65: VisibleDeprecationWarning: Creating an ndarray from ragged nested sequences (which is a list-or-tuple of lists-or-tuples-or ndarrays with different lengths or shapes) is deprecated. If you meant to do this, you must specify 'dtype=object' when creating the ndarray.\n",
      "  ary = asanyarray(ary)\n",
      "/usr4/ec500/vadithya/.conda/envs/carla/lib/python3.7/site-packages/ipykernel_launcher.py:61: TqdmDeprecationWarning: This function will be removed in tqdm==5.0.0\n",
      "Please use `tqdm.notebook.tqdm` instead of `tqdm.tqdm_notebook`\n"
     ]
    },
    {
     "data": {
      "application/vnd.jupyter.widget-view+json": {
       "model_id": "ca5b93d120fd446dba9bbd6cf39bd085",
       "version_major": 2,
       "version_minor": 0
      },
      "text/plain": [
       "Testing:   0%|          | 0/115 [00:00<?, ?it/s]"
      ]
     },
     "metadata": {},
     "output_type": "display_data"
    },
    {
     "name": "stdout",
     "output_type": "stream",
     "text": [
      "              precision    recall  f1-score   support\n",
      "\n",
      "      normal       0.55      0.95      0.70     26704\n",
      "        stfu       0.98      0.77      0.86     90464\n",
      "\n",
      "    accuracy                           0.81    117168\n",
      "   macro avg       0.77      0.86      0.78    117168\n",
      "weighted avg       0.88      0.81      0.83    117168\n",
      "\n"
     ]
    },
    {
     "name": "stderr",
     "output_type": "stream",
     "text": [
      "/usr4/ec500/vadithya/.conda/envs/carla/lib/python3.7/site-packages/numpy/core/shape_base.py:65: FutureWarning: The input object of type 'Tensor' is an array-like implementing one of the corresponding protocols (`__array__`, `__array_interface__` or `__array_struct__`); but not a sequence (or 0-D). In the future, this object will be coerced as if it was first converted using `np.array(obj)`. To retain the old behaviour, you have to either modify the type 'Tensor', or assign to an empty array created with `np.empty(correct_shape, dtype=object)`.\n",
      "  ary = asanyarray(ary)\n",
      "/usr4/ec500/vadithya/.conda/envs/carla/lib/python3.7/site-packages/numpy/core/shape_base.py:65: VisibleDeprecationWarning: Creating an ndarray from ragged nested sequences (which is a list-or-tuple of lists-or-tuples-or ndarrays with different lengths or shapes) is deprecated. If you meant to do this, you must specify 'dtype=object' when creating the ndarray.\n",
      "  ary = asanyarray(ary)\n",
      "/usr4/ec500/vadithya/.conda/envs/carla/lib/python3.7/site-packages/ipykernel_launcher.py:61: TqdmDeprecationWarning: This function will be removed in tqdm==5.0.0\n",
      "Please use `tqdm.notebook.tqdm` instead of `tqdm.tqdm_notebook`\n"
     ]
    },
    {
     "data": {
      "application/vnd.jupyter.widget-view+json": {
       "model_id": "e38d9589c6b14314b96791aa45907825",
       "version_major": 2,
       "version_minor": 0
      },
      "text/plain": [
       "Testing:   0%|          | 0/115 [00:00<?, ?it/s]"
      ]
     },
     "metadata": {},
     "output_type": "display_data"
    },
    {
     "name": "stdout",
     "output_type": "stream",
     "text": [
      "              precision    recall  f1-score   support\n",
      "\n",
      "      normal       0.55      0.95      0.70     28373\n",
      "        stfu       0.98      0.77      0.87     96118\n",
      "\n",
      "    accuracy                           0.81    124491\n",
      "   macro avg       0.77      0.86      0.78    124491\n",
      "weighted avg       0.88      0.81      0.83    124491\n",
      "\n"
     ]
    },
    {
     "name": "stderr",
     "output_type": "stream",
     "text": [
      "/usr4/ec500/vadithya/.conda/envs/carla/lib/python3.7/site-packages/numpy/core/shape_base.py:65: FutureWarning: The input object of type 'Tensor' is an array-like implementing one of the corresponding protocols (`__array__`, `__array_interface__` or `__array_struct__`); but not a sequence (or 0-D). In the future, this object will be coerced as if it was first converted using `np.array(obj)`. To retain the old behaviour, you have to either modify the type 'Tensor', or assign to an empty array created with `np.empty(correct_shape, dtype=object)`.\n",
      "  ary = asanyarray(ary)\n",
      "/usr4/ec500/vadithya/.conda/envs/carla/lib/python3.7/site-packages/numpy/core/shape_base.py:65: VisibleDeprecationWarning: Creating an ndarray from ragged nested sequences (which is a list-or-tuple of lists-or-tuples-or ndarrays with different lengths or shapes) is deprecated. If you meant to do this, you must specify 'dtype=object' when creating the ndarray.\n",
      "  ary = asanyarray(ary)\n",
      "/usr4/ec500/vadithya/.conda/envs/carla/lib/python3.7/site-packages/ipykernel_launcher.py:61: TqdmDeprecationWarning: This function will be removed in tqdm==5.0.0\n",
      "Please use `tqdm.notebook.tqdm` instead of `tqdm.tqdm_notebook`\n"
     ]
    },
    {
     "data": {
      "application/vnd.jupyter.widget-view+json": {
       "model_id": "2b1220ed6458425295fdb11e875c8255",
       "version_major": 2,
       "version_minor": 0
      },
      "text/plain": [
       "Testing:   0%|          | 0/115 [00:00<?, ?it/s]"
      ]
     },
     "metadata": {},
     "output_type": "display_data"
    },
    {
     "name": "stdout",
     "output_type": "stream",
     "text": [
      "              precision    recall  f1-score   support\n",
      "\n",
      "      normal       0.56      0.95      0.70     30042\n",
      "        stfu       0.98      0.78      0.87    101772\n",
      "\n",
      "    accuracy                           0.82    131814\n",
      "   macro avg       0.77      0.86      0.78    131814\n",
      "weighted avg       0.88      0.82      0.83    131814\n",
      "\n"
     ]
    },
    {
     "name": "stderr",
     "output_type": "stream",
     "text": [
      "/usr4/ec500/vadithya/.conda/envs/carla/lib/python3.7/site-packages/numpy/core/shape_base.py:65: FutureWarning: The input object of type 'Tensor' is an array-like implementing one of the corresponding protocols (`__array__`, `__array_interface__` or `__array_struct__`); but not a sequence (or 0-D). In the future, this object will be coerced as if it was first converted using `np.array(obj)`. To retain the old behaviour, you have to either modify the type 'Tensor', or assign to an empty array created with `np.empty(correct_shape, dtype=object)`.\n",
      "  ary = asanyarray(ary)\n",
      "/usr4/ec500/vadithya/.conda/envs/carla/lib/python3.7/site-packages/numpy/core/shape_base.py:65: VisibleDeprecationWarning: Creating an ndarray from ragged nested sequences (which is a list-or-tuple of lists-or-tuples-or ndarrays with different lengths or shapes) is deprecated. If you meant to do this, you must specify 'dtype=object' when creating the ndarray.\n",
      "  ary = asanyarray(ary)\n",
      "/usr4/ec500/vadithya/.conda/envs/carla/lib/python3.7/site-packages/ipykernel_launcher.py:61: TqdmDeprecationWarning: This function will be removed in tqdm==5.0.0\n",
      "Please use `tqdm.notebook.tqdm` instead of `tqdm.tqdm_notebook`\n"
     ]
    },
    {
     "data": {
      "application/vnd.jupyter.widget-view+json": {
       "model_id": "3fbc8a576f904cf8a6385413235de95c",
       "version_major": 2,
       "version_minor": 0
      },
      "text/plain": [
       "Testing:   0%|          | 0/115 [00:00<?, ?it/s]"
      ]
     },
     "metadata": {},
     "output_type": "display_data"
    },
    {
     "name": "stdout",
     "output_type": "stream",
     "text": [
      "              precision    recall  f1-score   support\n",
      "\n",
      "      normal       0.56      0.95      0.70     31711\n",
      "        stfu       0.98      0.78      0.87    107426\n",
      "\n",
      "    accuracy                           0.82    139137\n",
      "   macro avg       0.77      0.86      0.79    139137\n",
      "weighted avg       0.89      0.82      0.83    139137\n",
      "\n"
     ]
    },
    {
     "name": "stderr",
     "output_type": "stream",
     "text": [
      "/usr4/ec500/vadithya/.conda/envs/carla/lib/python3.7/site-packages/numpy/core/shape_base.py:65: FutureWarning: The input object of type 'Tensor' is an array-like implementing one of the corresponding protocols (`__array__`, `__array_interface__` or `__array_struct__`); but not a sequence (or 0-D). In the future, this object will be coerced as if it was first converted using `np.array(obj)`. To retain the old behaviour, you have to either modify the type 'Tensor', or assign to an empty array created with `np.empty(correct_shape, dtype=object)`.\n",
      "  ary = asanyarray(ary)\n",
      "/usr4/ec500/vadithya/.conda/envs/carla/lib/python3.7/site-packages/numpy/core/shape_base.py:65: VisibleDeprecationWarning: Creating an ndarray from ragged nested sequences (which is a list-or-tuple of lists-or-tuples-or ndarrays with different lengths or shapes) is deprecated. If you meant to do this, you must specify 'dtype=object' when creating the ndarray.\n",
      "  ary = asanyarray(ary)\n",
      "/usr4/ec500/vadithya/.conda/envs/carla/lib/python3.7/site-packages/ipykernel_launcher.py:61: TqdmDeprecationWarning: This function will be removed in tqdm==5.0.0\n",
      "Please use `tqdm.notebook.tqdm` instead of `tqdm.tqdm_notebook`\n"
     ]
    },
    {
     "data": {
      "application/vnd.jupyter.widget-view+json": {
       "model_id": "0c4837b598084d6dab5d7eb979a637e6",
       "version_major": 2,
       "version_minor": 0
      },
      "text/plain": [
       "Testing:   0%|          | 0/115 [00:00<?, ?it/s]"
      ]
     },
     "metadata": {},
     "output_type": "display_data"
    },
    {
     "name": "stdout",
     "output_type": "stream",
     "text": [
      "              precision    recall  f1-score   support\n",
      "\n",
      "      normal       0.56      0.95      0.71     33380\n",
      "        stfu       0.98      0.78      0.87    113080\n",
      "\n",
      "    accuracy                           0.82    146460\n",
      "   macro avg       0.77      0.87      0.79    146460\n",
      "weighted avg       0.89      0.82      0.83    146460\n",
      "\n"
     ]
    },
    {
     "name": "stderr",
     "output_type": "stream",
     "text": [
      "/usr4/ec500/vadithya/.conda/envs/carla/lib/python3.7/site-packages/numpy/core/shape_base.py:65: FutureWarning: The input object of type 'Tensor' is an array-like implementing one of the corresponding protocols (`__array__`, `__array_interface__` or `__array_struct__`); but not a sequence (or 0-D). In the future, this object will be coerced as if it was first converted using `np.array(obj)`. To retain the old behaviour, you have to either modify the type 'Tensor', or assign to an empty array created with `np.empty(correct_shape, dtype=object)`.\n",
      "  ary = asanyarray(ary)\n",
      "/usr4/ec500/vadithya/.conda/envs/carla/lib/python3.7/site-packages/numpy/core/shape_base.py:65: VisibleDeprecationWarning: Creating an ndarray from ragged nested sequences (which is a list-or-tuple of lists-or-tuples-or ndarrays with different lengths or shapes) is deprecated. If you meant to do this, you must specify 'dtype=object' when creating the ndarray.\n",
      "  ary = asanyarray(ary)\n"
     ]
    },
    {
     "data": {
      "image/png": "[encoded data removed]",
      "text/plain": [
       "<Figure size 800x800 with 2 Axes>"
      ]
     },
     "metadata": {},
     "output_type": "display_data"
    },
    {
     "data": {
      "image/png": "[encoded data removed]",
      "text/plain": [
       "<Figure size 800x800 with 2 Axes>"
      ]
     },
     "metadata": {},
     "output_type": "display_data"
    },
    {
     "data": {
      "image/png": "[encoded data removed]",
      "text/plain": [
       "<Figure size 800x800 with 2 Axes>"
      ]
     },
     "metadata": {},
     "output_type": "display_data"
    },
    {
     "data": {
      "image/png": "[encoded data removed]",
      "text/plain": [
       "<Figure size 800x800 with 2 Axes>"
      ]
     },
     "metadata": {},
     "output_type": "display_data"
    },
    {
     "data": {
      "image/png": "[encoded data removed]",
      "text/plain": [
       "<Figure size 600x400 with 1 Axes>"
      ]
     },
     "metadata": {},
     "output_type": "display_data"
    },
    {
     "data": {
      "image/png": "[encoded data removed]",
      "text/plain": [
       "<Figure size 600x400 with 1 Axes>"
      ]
     },
     "metadata": {},
     "output_type": "display_data"
    },
    {
     "data": {
      "image/png": "[encoded data removed]",
      "text/plain": [
       "<Figure size 600x400 with 1 Axes>"
      ]
     },
     "metadata": {},
     "output_type": "display_data"
    },
    {
     "data": {
      "image/png": "[encoded data removed]",
      "text/plain": [
       "<Figure size 600x400 with 1 Axes>"
      ]
     },
     "metadata": {},
     "output_type": "display_data"
    },
    {
     "data": {
      "image/png": "[encoded data removed]",
      "text/plain": [
       "<Figure size 600x400 with 1 Axes>"
      ]
     },
     "metadata": {},
     "output_type": "display_data"
    },
    {
     "ename": "AttributeError",
     "evalue": "module 'matplotlib' has no attribute 'pyplot'",
     "output_type": "error",
     "traceback": [
      "\u001b[0;31m---------------------------------------------------------------------------\u001b[0m",
      "\u001b[0;31mAttributeError\u001b[0m                            Traceback (most recent call last)",
      "\u001b[0;32m~/.conda/envs/carla/lib/python3.7/site-packages/matplotlib_inline/backend_inline.py\u001b[0m in \u001b[0;36mshow\u001b[0;34m(close, block)\u001b[0m\n\u001b[1;32m     97\u001b[0m         \u001b[0;31m# close triggers gc.collect, which can be slow\u001b[0m\u001b[0;34m\u001b[0m\u001b[0;34m\u001b[0m\u001b[0;34m\u001b[0m\u001b[0m\n\u001b[1;32m     98\u001b[0m         \u001b[0;32mif\u001b[0m \u001b[0mclose\u001b[0m \u001b[0;32mand\u001b[0m \u001b[0mGcf\u001b[0m\u001b[0;34m.\u001b[0m\u001b[0mget_all_fig_managers\u001b[0m\u001b[0;34m(\u001b[0m\u001b[0;34m)\u001b[0m\u001b[0;34m:\u001b[0m\u001b[0;34m\u001b[0m\u001b[0;34m\u001b[0m\u001b[0m\n\u001b[0;32m---> 99\u001b[0;31m             \u001b[0mmatplotlib\u001b[0m\u001b[0;34m.\u001b[0m\u001b[0mpyplot\u001b[0m\u001b[0;34m.\u001b[0m\u001b[0mclose\u001b[0m\u001b[0;34m(\u001b[0m\u001b[0;34m'all'\u001b[0m\u001b[0;34m)\u001b[0m\u001b[0;34m\u001b[0m\u001b[0;34m\u001b[0m\u001b[0m\n\u001b[0m\u001b[1;32m    100\u001b[0m \u001b[0;34m\u001b[0m\u001b[0m\n\u001b[1;32m    101\u001b[0m \u001b[0;34m\u001b[0m\u001b[0m\n",
      "\u001b[0;32m~/.conda/envs/carla/lib/python3.7/site-packages/matplotlib/_api/__init__.py\u001b[0m in \u001b[0;36m__getattr__\u001b[0;34m(name)\u001b[0m\n\u001b[1;32m    221\u001b[0m             \u001b[0;32mreturn\u001b[0m \u001b[0mprops\u001b[0m\u001b[0;34m[\u001b[0m\u001b[0mname\u001b[0m\u001b[0;34m]\u001b[0m\u001b[0;34m.\u001b[0m\u001b[0m__get__\u001b[0m\u001b[0;34m(\u001b[0m\u001b[0minstance\u001b[0m\u001b[0;34m)\u001b[0m\u001b[0;34m\u001b[0m\u001b[0;34m\u001b[0m\u001b[0m\n\u001b[1;32m    222\u001b[0m         raise AttributeError(\n\u001b[0;32m--> 223\u001b[0;31m             f\"module {cls.__module__!r} has no attribute {name!r}\")\n\u001b[0m\u001b[1;32m    224\u001b[0m \u001b[0;34m\u001b[0m\u001b[0m\n\u001b[1;32m    225\u001b[0m     \u001b[0;32mreturn\u001b[0m \u001b[0m__getattr__\u001b[0m\u001b[0;34m\u001b[0m\u001b[0;34m\u001b[0m\u001b[0m\n",
      "\u001b[0;31mAttributeError\u001b[0m: module 'matplotlib' has no attribute 'pyplot'"
     ]
    }
   ],
   "source": [
    "epochs = 20\n",
    "\n",
    "# config for progress bar\n",
    "mb = master_bar(range(epochs))\n",
    "mb.names = ['Training loss', 'Validation loss']\n",
    "x = []\n",
    "\n",
    "training_losses = []\n",
    "validation_losses = []\n",
    "\n",
    "valid_mean_min = np.Inf\n",
    "classes = ['normal','stfu']\n",
    "# oov\n",
    "\n",
    "class_correct = list(0. for i in range(len(classes)))\n",
    "class_total = list(0. for i in range(len(classes)))\n",
    "\n",
    "actual = []\n",
    "predictions = []\n",
    "\n",
    "\n",
    "\n",
    "\n",
    "for epoch in mb:\n",
    "  x.append(epoch)\n",
    "  # Evaluate\n",
    "  model.train()\n",
    "  total_loss = torch.Tensor([0.0]).to(device)\n",
    "  #pbar = tqdm(train_dl, total=len(train_dl), position=0, desc=\"Training\", leave=True)\n",
    "  for batch in progress_bar(train_dl, parent=mb):\n",
    "    audio_data = batch['audio'].to(device)\n",
    "    labels = batch['labels'].to(device)\n",
    "    # get mel spectograms\n",
    "    mel_audio_data = audio_transform(audio_data)\n",
    "    # do zmuv transform\n",
    "    mel_audio_data = zmuv_transform(mel_audio_data)\n",
    "    predicted_scores = model(mel_audio_data.unsqueeze(1))\n",
    "    # get loss\n",
    "    loss = criterion(predicted_scores.squeeze(), labels.float())\n",
    "    #loss = criterion(predicted_scores, labels)\n",
    "\n",
    "    optimizer.zero_grad()\n",
    "    model.zero_grad()\n",
    "\n",
    "    # backward propagation\n",
    "    loss.backward()\n",
    "    optimizer.step()\n",
    "\n",
    "    with torch.no_grad():\n",
    "        total_loss += loss\n",
    "      \n",
    "  for group in optimizer.param_groups:\n",
    "    group[\"lr\"] *= lr_decay\n",
    "\n",
    "  mean = total_loss / len(train_dl)\n",
    "  training_losses.append(mean.cpu())\n",
    "  \n",
    "  model.eval()\n",
    "    # iterate over test data\n",
    "  test_loss = 0\n",
    "  pbar = tqdm.tqdm_notebook(test_dl, total=len(test_dl), position=0, desc=\"Testing\", leave=True)\n",
    "  for batch in pbar:\n",
    "        # move tensors to GPU if CUDA is available\n",
    "        audio_data = batch['audio'].to(device)\n",
    "        labels = batch['labels'].to(device)\n",
    "        # forward pass: compute predicted outputs by passing inputs to the model\n",
    "        mel_audio_data = audio_transform(audio_data)\n",
    "        # do zmuv transform\n",
    "        mel_audio_data = zmuv_transform(mel_audio_data)\n",
    "        output = model(mel_audio_data.unsqueeze(1))\n",
    "        # calculate the batch loss\n",
    "        \n",
    "        loss = criterion(output.squeeze(), labels.float())\n",
    "        #loss = criterion(output, labels)\n",
    "        # update test loss \n",
    "        test_loss += loss.item()\n",
    "        # convert output probabilities to predicted class\n",
    "        pred = (torch.sigmoid(output)>0.5)*1\n",
    "        #_, pred = torch.max(output, 1)    \n",
    "        # compare predictions to true label\n",
    "        correct_tensor = pred.eq(labels.data.view_as(pred))\n",
    "        correct = np.squeeze(correct_tensor.numpy()) if not train_on_gpu else np.squeeze(correct_tensor.cpu().numpy())\n",
    "        # calculate test accuracy for each object class\n",
    "        for i in range(labels.shape[0]):\n",
    "            label = labels.data[i]\n",
    "            class_correct[label.long()] += correct[i].item()\n",
    "            class_total[label.long()] += 1\n",
    "            # for confusion matrix    \n",
    "            actual.append(classes[labels.data[i].long().item()])\n",
    "            predictions.append(classes[pred.data[i].item()])\n",
    "        \n",
    "# plot confusion matrix\n",
    "  cm = confusion_matrix(actual, predictions, labels=classes)\n",
    "  print(classification_report(actual, predictions))\n",
    "  cmp = ConfusionMatrixDisplay(cm)\n",
    "  val_mean = test_loss / len(test_dl)\n",
    "  validation_losses.append(val_mean)\n",
    "\n",
    "  # Update training chart\n",
    "  mb.update_graph([[x, training_losses], [x, validation_losses]], [0,epochs])\n",
    "  mb.write(f\"\\nEpoch {epoch}: Training loss {mean.item():.6f} validation loss {val_mean:.6f} with lr {group['lr']:.6f}\")\n",
    "\n",
    "  # save model if validation loss has decreased\n",
    "  if val_mean <= valid_mean_min:\n",
    "      print('Validation loss decreased ({:.6f} --> {:.6f}).  Saving model ...'.format(\n",
    "      valid_mean_min,\n",
    "      val_mean))\n",
    "      torch.save(model.state_dict(), 'checkpoint/stfu.pt')\n",
    "      valid_mean_min = val_mean"
   ]
  },
  {
   "cell_type": "code",
   "execution_count": 76,
   "id": "96aff616",
   "metadata": {},
   "outputs": [],
   "source": [
    "train_on_gpu = 'True'"
   ]
  },
  {
   "cell_type": "code",
   "execution_count": 216,
   "id": "12c82923",
   "metadata": {},
   "outputs": [
    {
     "name": "stderr",
     "output_type": "stream",
     "text": [
      "/usr4/ec500/vadithya/.conda/envs/carla/lib/python3.7/site-packages/ipykernel_launcher.py:16: TqdmDeprecationWarning: This function will be removed in tqdm==5.0.0\n",
      "Please use `tqdm.notebook.tqdm` instead of `tqdm.tqdm_notebook`\n",
      "  \n"
     ]
    },
    {
     "data": {
      "application/vnd.jupyter.widget-view+json": {
       "model_id": "7abccadfa09d45b4aa4178b0f48c44a8",
       "version_major": 2,
       "version_minor": 0
      },
      "text/plain": [
       "Testing:   0%|          | 0/115 [00:00<?, ?it/s]"
      ]
     },
     "metadata": {},
     "output_type": "display_data"
    },
    {
     "ename": "RuntimeError",
     "evalue": "Given groups=1, weight of size [48, 1, 8, 16], expected input[1, 64, 91, 40] to have 1 channels, but got 64 channels instead",
     "output_type": "error",
     "traceback": [
      "\u001b[0;31m---------------------------------------------------------------------------\u001b[0m",
      "\u001b[0;31mRuntimeError\u001b[0m                              Traceback (most recent call last)",
      "\u001b[0;32m/scratch/7325553.1.academic-gpu/ipykernel_147104/2777645239.py\u001b[0m in \u001b[0;36m<module>\u001b[0;34m\u001b[0m\n\u001b[1;32m     23\u001b[0m     \u001b[0;31m# do zmuv transform\u001b[0m\u001b[0;34m\u001b[0m\u001b[0;34m\u001b[0m\u001b[0;34m\u001b[0m\u001b[0m\n\u001b[1;32m     24\u001b[0m     \u001b[0mmel_audio_data\u001b[0m \u001b[0;34m=\u001b[0m \u001b[0mzmuv_transform\u001b[0m\u001b[0;34m(\u001b[0m\u001b[0mmel_audio_data\u001b[0m\u001b[0;34m)\u001b[0m\u001b[0;34m\u001b[0m\u001b[0;34m\u001b[0m\u001b[0m\n\u001b[0;32m---> 25\u001b[0;31m     \u001b[0moutput\u001b[0m \u001b[0;34m=\u001b[0m \u001b[0mmodel\u001b[0m\u001b[0;34m(\u001b[0m\u001b[0mmel_audio_data\u001b[0m\u001b[0;34m.\u001b[0m\u001b[0munsqueeze\u001b[0m\u001b[0;34m(\u001b[0m\u001b[0;36m0\u001b[0m\u001b[0;34m)\u001b[0m\u001b[0;34m)\u001b[0m\u001b[0;34m\u001b[0m\u001b[0;34m\u001b[0m\u001b[0m\n\u001b[0m\u001b[1;32m     26\u001b[0m     \u001b[0;31m# calculate the batch loss\u001b[0m\u001b[0;34m\u001b[0m\u001b[0;34m\u001b[0m\u001b[0;34m\u001b[0m\u001b[0m\n\u001b[1;32m     27\u001b[0m     \u001b[0mloss\u001b[0m \u001b[0;34m=\u001b[0m \u001b[0mcriterion\u001b[0m\u001b[0;34m(\u001b[0m\u001b[0moutput\u001b[0m\u001b[0;34m.\u001b[0m\u001b[0msqueeze\u001b[0m\u001b[0;34m(\u001b[0m\u001b[0;34m)\u001b[0m\u001b[0;34m,\u001b[0m \u001b[0mlabels\u001b[0m\u001b[0;34m.\u001b[0m\u001b[0mfloat\u001b[0m\u001b[0;34m(\u001b[0m\u001b[0;34m)\u001b[0m\u001b[0;34m)\u001b[0m\u001b[0;34m\u001b[0m\u001b[0;34m\u001b[0m\u001b[0m\n",
      "\u001b[0;32m~/.conda/envs/carla/lib/python3.7/site-packages/torch/nn/modules/module.py\u001b[0m in \u001b[0;36m_call_impl\u001b[0;34m(self, *input, **kwargs)\u001b[0m\n\u001b[1;32m   1192\u001b[0m         if not (self._backward_hooks or self._forward_hooks or self._forward_pre_hooks or _global_backward_hooks\n\u001b[1;32m   1193\u001b[0m                 or _global_forward_hooks or _global_forward_pre_hooks):\n\u001b[0;32m-> 1194\u001b[0;31m             \u001b[0;32mreturn\u001b[0m \u001b[0mforward_call\u001b[0m\u001b[0;34m(\u001b[0m\u001b[0;34m*\u001b[0m\u001b[0minput\u001b[0m\u001b[0;34m,\u001b[0m \u001b[0;34m**\u001b[0m\u001b[0mkwargs\u001b[0m\u001b[0;34m)\u001b[0m\u001b[0;34m\u001b[0m\u001b[0;34m\u001b[0m\u001b[0m\n\u001b[0m\u001b[1;32m   1195\u001b[0m         \u001b[0;31m# Do not call functions when jit is used\u001b[0m\u001b[0;34m\u001b[0m\u001b[0;34m\u001b[0m\u001b[0;34m\u001b[0m\u001b[0m\n\u001b[1;32m   1196\u001b[0m         \u001b[0mfull_backward_hooks\u001b[0m\u001b[0;34m,\u001b[0m \u001b[0mnon_full_backward_hooks\u001b[0m \u001b[0;34m=\u001b[0m \u001b[0;34m[\u001b[0m\u001b[0;34m]\u001b[0m\u001b[0;34m,\u001b[0m \u001b[0;34m[\u001b[0m\u001b[0;34m]\u001b[0m\u001b[0;34m\u001b[0m\u001b[0;34m\u001b[0m\u001b[0m\n",
      "\u001b[0;32m/scratch/7325553.1.academic-gpu/ipykernel_147104/4226175876.py\u001b[0m in \u001b[0;36mforward\u001b[0;34m(self, x)\u001b[0m\n\u001b[1;32m     22\u001b[0m         \u001b[0mx\u001b[0m \u001b[0;34m=\u001b[0m \u001b[0mx\u001b[0m\u001b[0;34m.\u001b[0m\u001b[0mpermute\u001b[0m\u001b[0;34m(\u001b[0m\u001b[0;36m0\u001b[0m\u001b[0;34m,\u001b[0m \u001b[0;36m1\u001b[0m\u001b[0;34m,\u001b[0m \u001b[0;36m3\u001b[0m\u001b[0;34m,\u001b[0m \u001b[0;36m2\u001b[0m\u001b[0;34m)\u001b[0m  \u001b[0;31m# change to (time, n_mels)\u001b[0m\u001b[0;34m\u001b[0m\u001b[0;34m\u001b[0m\u001b[0m\n\u001b[1;32m     23\u001b[0m         \u001b[0;31m# pass through first conv layer\u001b[0m\u001b[0;34m\u001b[0m\u001b[0;34m\u001b[0m\u001b[0;34m\u001b[0m\u001b[0m\n\u001b[0;32m---> 24\u001b[0;31m         \u001b[0mx1\u001b[0m \u001b[0;34m=\u001b[0m \u001b[0mself\u001b[0m\u001b[0;34m.\u001b[0m\u001b[0mencoder1\u001b[0m\u001b[0;34m(\u001b[0m\u001b[0mx\u001b[0m\u001b[0;34m)\u001b[0m\u001b[0;34m\u001b[0m\u001b[0;34m\u001b[0m\u001b[0m\n\u001b[0m\u001b[1;32m     25\u001b[0m         \u001b[0;31m# pass through second conv layer\u001b[0m\u001b[0;34m\u001b[0m\u001b[0;34m\u001b[0m\u001b[0;34m\u001b[0m\u001b[0m\n\u001b[1;32m     26\u001b[0m         \u001b[0mx2\u001b[0m \u001b[0;34m=\u001b[0m \u001b[0mself\u001b[0m\u001b[0;34m.\u001b[0m\u001b[0mencoder2\u001b[0m\u001b[0;34m(\u001b[0m\u001b[0mx1\u001b[0m\u001b[0;34m)\u001b[0m\u001b[0;34m\u001b[0m\u001b[0;34m\u001b[0m\u001b[0m\n",
      "\u001b[0;32m~/.conda/envs/carla/lib/python3.7/site-packages/torch/nn/modules/module.py\u001b[0m in \u001b[0;36m_call_impl\u001b[0;34m(self, *input, **kwargs)\u001b[0m\n\u001b[1;32m   1192\u001b[0m         if not (self._backward_hooks or self._forward_hooks or self._forward_pre_hooks or _global_backward_hooks\n\u001b[1;32m   1193\u001b[0m                 or _global_forward_hooks or _global_forward_pre_hooks):\n\u001b[0;32m-> 1194\u001b[0;31m             \u001b[0;32mreturn\u001b[0m \u001b[0mforward_call\u001b[0m\u001b[0;34m(\u001b[0m\u001b[0;34m*\u001b[0m\u001b[0minput\u001b[0m\u001b[0;34m,\u001b[0m \u001b[0;34m**\u001b[0m\u001b[0mkwargs\u001b[0m\u001b[0;34m)\u001b[0m\u001b[0;34m\u001b[0m\u001b[0;34m\u001b[0m\u001b[0m\n\u001b[0m\u001b[1;32m   1195\u001b[0m         \u001b[0;31m# Do not call functions when jit is used\u001b[0m\u001b[0;34m\u001b[0m\u001b[0;34m\u001b[0m\u001b[0;34m\u001b[0m\u001b[0m\n\u001b[1;32m   1196\u001b[0m         \u001b[0mfull_backward_hooks\u001b[0m\u001b[0;34m,\u001b[0m \u001b[0mnon_full_backward_hooks\u001b[0m \u001b[0;34m=\u001b[0m \u001b[0;34m[\u001b[0m\u001b[0;34m]\u001b[0m\u001b[0;34m,\u001b[0m \u001b[0;34m[\u001b[0m\u001b[0;34m]\u001b[0m\u001b[0;34m\u001b[0m\u001b[0;34m\u001b[0m\u001b[0m\n",
      "\u001b[0;32m~/.conda/envs/carla/lib/python3.7/site-packages/torch/nn/modules/container.py\u001b[0m in \u001b[0;36mforward\u001b[0;34m(self, input)\u001b[0m\n\u001b[1;32m    202\u001b[0m     \u001b[0;32mdef\u001b[0m \u001b[0mforward\u001b[0m\u001b[0;34m(\u001b[0m\u001b[0mself\u001b[0m\u001b[0;34m,\u001b[0m \u001b[0minput\u001b[0m\u001b[0;34m)\u001b[0m\u001b[0;34m:\u001b[0m\u001b[0;34m\u001b[0m\u001b[0;34m\u001b[0m\u001b[0m\n\u001b[1;32m    203\u001b[0m         \u001b[0;32mfor\u001b[0m \u001b[0mmodule\u001b[0m \u001b[0;32min\u001b[0m \u001b[0mself\u001b[0m\u001b[0;34m:\u001b[0m\u001b[0;34m\u001b[0m\u001b[0;34m\u001b[0m\u001b[0m\n\u001b[0;32m--> 204\u001b[0;31m             \u001b[0minput\u001b[0m \u001b[0;34m=\u001b[0m \u001b[0mmodule\u001b[0m\u001b[0;34m(\u001b[0m\u001b[0minput\u001b[0m\u001b[0;34m)\u001b[0m\u001b[0;34m\u001b[0m\u001b[0;34m\u001b[0m\u001b[0m\n\u001b[0m\u001b[1;32m    205\u001b[0m         \u001b[0;32mreturn\u001b[0m \u001b[0minput\u001b[0m\u001b[0;34m\u001b[0m\u001b[0;34m\u001b[0m\u001b[0m\n\u001b[1;32m    206\u001b[0m \u001b[0;34m\u001b[0m\u001b[0m\n",
      "\u001b[0;32m~/.conda/envs/carla/lib/python3.7/site-packages/torch/nn/modules/module.py\u001b[0m in \u001b[0;36m_call_impl\u001b[0;34m(self, *input, **kwargs)\u001b[0m\n\u001b[1;32m   1192\u001b[0m         if not (self._backward_hooks or self._forward_hooks or self._forward_pre_hooks or _global_backward_hooks\n\u001b[1;32m   1193\u001b[0m                 or _global_forward_hooks or _global_forward_pre_hooks):\n\u001b[0;32m-> 1194\u001b[0;31m             \u001b[0;32mreturn\u001b[0m \u001b[0mforward_call\u001b[0m\u001b[0;34m(\u001b[0m\u001b[0;34m*\u001b[0m\u001b[0minput\u001b[0m\u001b[0;34m,\u001b[0m \u001b[0;34m**\u001b[0m\u001b[0mkwargs\u001b[0m\u001b[0;34m)\u001b[0m\u001b[0;34m\u001b[0m\u001b[0;34m\u001b[0m\u001b[0m\n\u001b[0m\u001b[1;32m   1195\u001b[0m         \u001b[0;31m# Do not call functions when jit is used\u001b[0m\u001b[0;34m\u001b[0m\u001b[0;34m\u001b[0m\u001b[0;34m\u001b[0m\u001b[0m\n\u001b[1;32m   1196\u001b[0m         \u001b[0mfull_backward_hooks\u001b[0m\u001b[0;34m,\u001b[0m \u001b[0mnon_full_backward_hooks\u001b[0m \u001b[0;34m=\u001b[0m \u001b[0;34m[\u001b[0m\u001b[0;34m]\u001b[0m\u001b[0;34m,\u001b[0m \u001b[0;34m[\u001b[0m\u001b[0;34m]\u001b[0m\u001b[0;34m\u001b[0m\u001b[0;34m\u001b[0m\u001b[0m\n",
      "\u001b[0;32m~/.conda/envs/carla/lib/python3.7/site-packages/torch/nn/modules/conv.py\u001b[0m in \u001b[0;36mforward\u001b[0;34m(self, input)\u001b[0m\n\u001b[1;32m    461\u001b[0m \u001b[0;34m\u001b[0m\u001b[0m\n\u001b[1;32m    462\u001b[0m     \u001b[0;32mdef\u001b[0m \u001b[0mforward\u001b[0m\u001b[0;34m(\u001b[0m\u001b[0mself\u001b[0m\u001b[0;34m,\u001b[0m \u001b[0minput\u001b[0m\u001b[0;34m:\u001b[0m \u001b[0mTensor\u001b[0m\u001b[0;34m)\u001b[0m \u001b[0;34m->\u001b[0m \u001b[0mTensor\u001b[0m\u001b[0;34m:\u001b[0m\u001b[0;34m\u001b[0m\u001b[0;34m\u001b[0m\u001b[0m\n\u001b[0;32m--> 463\u001b[0;31m         \u001b[0;32mreturn\u001b[0m \u001b[0mself\u001b[0m\u001b[0;34m.\u001b[0m\u001b[0m_conv_forward\u001b[0m\u001b[0;34m(\u001b[0m\u001b[0minput\u001b[0m\u001b[0;34m,\u001b[0m \u001b[0mself\u001b[0m\u001b[0;34m.\u001b[0m\u001b[0mweight\u001b[0m\u001b[0;34m,\u001b[0m \u001b[0mself\u001b[0m\u001b[0;34m.\u001b[0m\u001b[0mbias\u001b[0m\u001b[0;34m)\u001b[0m\u001b[0;34m\u001b[0m\u001b[0;34m\u001b[0m\u001b[0m\n\u001b[0m\u001b[1;32m    464\u001b[0m \u001b[0;34m\u001b[0m\u001b[0m\n\u001b[1;32m    465\u001b[0m \u001b[0;32mclass\u001b[0m \u001b[0mConv3d\u001b[0m\u001b[0;34m(\u001b[0m\u001b[0m_ConvNd\u001b[0m\u001b[0;34m)\u001b[0m\u001b[0;34m:\u001b[0m\u001b[0;34m\u001b[0m\u001b[0;34m\u001b[0m\u001b[0m\n",
      "\u001b[0;32m~/.conda/envs/carla/lib/python3.7/site-packages/torch/nn/modules/conv.py\u001b[0m in \u001b[0;36m_conv_forward\u001b[0;34m(self, input, weight, bias)\u001b[0m\n\u001b[1;32m    458\u001b[0m                             _pair(0), self.dilation, self.groups)\n\u001b[1;32m    459\u001b[0m         return F.conv2d(input, weight, bias, self.stride,\n\u001b[0;32m--> 460\u001b[0;31m                         self.padding, self.dilation, self.groups)\n\u001b[0m\u001b[1;32m    461\u001b[0m \u001b[0;34m\u001b[0m\u001b[0m\n\u001b[1;32m    462\u001b[0m     \u001b[0;32mdef\u001b[0m \u001b[0mforward\u001b[0m\u001b[0;34m(\u001b[0m\u001b[0mself\u001b[0m\u001b[0;34m,\u001b[0m \u001b[0minput\u001b[0m\u001b[0;34m:\u001b[0m \u001b[0mTensor\u001b[0m\u001b[0;34m)\u001b[0m \u001b[0;34m->\u001b[0m \u001b[0mTensor\u001b[0m\u001b[0;34m:\u001b[0m\u001b[0;34m\u001b[0m\u001b[0;34m\u001b[0m\u001b[0m\n",
      "\u001b[0;31mRuntimeError\u001b[0m: Given groups=1, weight of size [48, 1, 8, 16], expected input[1, 64, 91, 40] to have 1 channels, but got 64 channels instead"
     ]
    }
   ],
   "source": [
    "from sklearn.metrics import confusion_matrix, classification_report, ConfusionMatrixDisplay\n",
    "\n",
    "# track test loss\n",
    "test_loss = 0.0\n",
    "classes = ['normal','stfu']\n",
    "# oov\n",
    "\n",
    "class_correct = list(0. for i in range(len(classes)))\n",
    "class_total = list(0. for i in range(len(classes)))\n",
    "\n",
    "actual = []\n",
    "predictions = []\n",
    "\n",
    "model.eval()\n",
    "# iterate over test data\n",
    "pbar = tqdm.tqdm_notebook(test_dl, total=len(test_dl), position=0, desc=\"Testing\", leave=True)\n",
    "for batch in pbar:\n",
    "    # move tensors to GPU if CUDA is available\n",
    "    audio_data = batch['audio'].to(device)\n",
    "    labels = batch['labels'].to(device)\n",
    "    # forward pass: compute predicted outputs by passing inputs to the model\n",
    "    mel_audio_data = audio_transform(audio_data)\n",
    "    # do zmuv transform\n",
    "    mel_audio_data = zmuv_transform(mel_audio_data)\n",
    "    output = model(mel_audio_data.unsqueeze(1))\n",
    "    # calculate the batch loss\n",
    "    loss = criterion(output.squeeze(), labels.float())\n",
    "    # update test loss \n",
    "    test_loss += loss.item()*audio_data.size(0)\n",
    "    # convert output probabilities to predicted class\n",
    "    pred = (torch.sigmoid(output)>0.5)*1\n",
    "    #_, pred = torch.max(output, 1)    \n",
    "    # compare predictions to true label\n",
    "    correct_tensor = pred.eq(labels.data.view_as(pred))\n",
    "    correct = np.squeeze(correct_tensor.numpy()) if not train_on_gpu else np.squeeze(correct_tensor.cpu().numpy())\n",
    "    # calculate test accuracy for each object class\n",
    "    for i in range(labels.shape[0]):\n",
    "        label = labels.data[i]\n",
    "        class_correct[label.long()] += correct[i].item()\n",
    "        class_total[label.long()] += 1\n",
    "        # for confusion matrix    \n",
    "        actual.append(classes[labels.data[i].long().item()])\n",
    "        predictions.append(classes[pred.data[i].item()])\n",
    "        \n",
    "# plot confusion matrix\n",
    "cm = confusion_matrix(actual, predictions, labels=classes)\n",
    "print(classification_report(actual, predictions))\n",
    "cmp = ConfusionMatrixDisplay(cm)\n",
    "fig, ax = plt.subplots(figsize=(8,8))\n",
    "cmp.plot(ax=ax, xticks_rotation='vertical')\n",
    "\n",
    "\n",
    "# average test loss\n",
    "test_loss = test_loss/len(test_ds)\n",
    "print('Test Loss: {:.6f}\\n'.format(test_loss))\n",
    "\n",
    "for i in range(len(classes)):\n",
    "    if class_total[i] > 0:\n",
    "        print('Test Accuracy of %5s: %2d%% (%2d/%2d)' % (\n",
    "            classes[i], 100 * class_correct[i] / class_total[i],\n",
    "            np.sum(class_correct[i]), np.sum(class_total[i])))\n",
    "    else:\n",
    "        print('Test Accuracy of %5s: N/A (no training examples)' % (classes[i]))\n",
    "\n",
    "print('\\nTest Accuracy (Overall): %2d%% (%2d/%2d)' % (\n",
    "    100. * np.sum(class_correct) / np.sum(class_total),\n",
    "    np.sum(class_correct), np.sum(class_total)))"
   ]
  },
  {
   "cell_type": "code",
   "execution_count": 190,
   "id": "028f2ac9",
   "metadata": {},
   "outputs": [
    {
     "data": {
      "text/html": [
       "<div>\n",
       "<style scoped>\n",
       "    .dataframe tbody tr th:only-of-type {\n",
       "        vertical-align: middle;\n",
       "    }\n",
       "\n",
       "    .dataframe tbody tr th {\n",
       "        vertical-align: top;\n",
       "    }\n",
       "\n",
       "    .dataframe thead th {\n",
       "        text-align: right;\n",
       "    }\n",
       "</style>\n",
       "<table border=\"1\" class=\"dataframe\">\n",
       "  <thead>\n",
       "    <tr style=\"text-align: right;\">\n",
       "      <th></th>\n",
       "      <th>path</th>\n",
       "      <th>sentence</th>\n",
       "      <th>timestamps</th>\n",
       "      <th>flag</th>\n",
       "    </tr>\n",
       "  </thead>\n",
       "  <tbody>\n",
       "    <tr>\n",
       "      <th>0</th>\n",
       "      <td>en-US_004NOMVGP0_85153_True.wav</td>\n",
       "      <td>it's called ur mom being fucked</td>\n",
       "      <td>{'Its': {'start': 0.06, 'end': 0.3}, 'called':...</td>\n",
       "      <td>True</td>\n",
       "    </tr>\n",
       "    <tr>\n",
       "      <th>1</th>\n",
       "      <td>en-US_008A2TOMAT_196782_True.wav</td>\n",
       "      <td>son of a fucking whore</td>\n",
       "      <td>{'Son': {'start': 0.1, 'end': 0.32}, 'of': {'s...</td>\n",
       "      <td>True</td>\n",
       "    </tr>\n",
       "    <tr>\n",
       "      <th>2</th>\n",
       "      <td>en-US_008E2KYNNP_131758_True.wav</td>\n",
       "      <td>look at it go motherfucker</td>\n",
       "      <td>{'Look': {'start': 0.28, 'end': 0.5}, 'at': {'...</td>\n",
       "      <td>True</td>\n",
       "    </tr>\n",
       "    <tr>\n",
       "      <th>3</th>\n",
       "      <td>en-US_008KASX3NT_46781_True.wav</td>\n",
       "      <td>i hate this pinballl shit</td>\n",
       "      <td>{'I': {'start': 0.06, 'end': 0.26}, 'hate': {'...</td>\n",
       "      <td>True</td>\n",
       "    </tr>\n",
       "    <tr>\n",
       "      <th>4</th>\n",
       "      <td>en-US_00EDDNIP6X_127419_True.wav</td>\n",
       "      <td>very noob motherfucker</td>\n",
       "      <td>{'Very': {'start': 0.1, 'end': 0.4}, 'new': {'...</td>\n",
       "      <td>True</td>\n",
       "    </tr>\n",
       "    <tr>\n",
       "      <th>...</th>\n",
       "      <td>...</td>\n",
       "      <td>...</td>\n",
       "      <td>...</td>\n",
       "      <td>...</td>\n",
       "    </tr>\n",
       "    <tr>\n",
       "      <th>7318</th>\n",
       "      <td>en-US_ZYZJ351CN7_178414_True.wav</td>\n",
       "      <td>so everyone that fucks your tiny ass</td>\n",
       "      <td>{'So': {'start': 0.06, 'end': 0.26}, 'everyone...</td>\n",
       "      <td>True</td>\n",
       "    </tr>\n",
       "    <tr>\n",
       "      <th>7319</th>\n",
       "      <td>en-US_ZZKMUM4AG5_208193_True.wav</td>\n",
       "      <td>i will rape your little ass</td>\n",
       "      <td>{'I': {'start': 0.0, 'end': 0.16}, 'will': {'s...</td>\n",
       "      <td>True</td>\n",
       "    </tr>\n",
       "    <tr>\n",
       "      <th>7320</th>\n",
       "      <td>en-US_ZZNQNITLL2_179669_True.wav</td>\n",
       "      <td>wheres your meepo now cunt?</td>\n",
       "      <td>{'Wheres': {'start': 0.06, 'end': 0.36}, 'your...</td>\n",
       "      <td>True</td>\n",
       "    </tr>\n",
       "    <tr>\n",
       "      <th>7321</th>\n",
       "      <td>en-US_ZZNZU3Z3ZP_34298_True.wav</td>\n",
       "      <td>got fucked in the ass</td>\n",
       "      <td>{'got': {'start': 0.04, 'end': 0.22}, 'fucked'...</td>\n",
       "      <td>True</td>\n",
       "    </tr>\n",
       "    <tr>\n",
       "      <th>7322</th>\n",
       "      <td>en-US_ZZPSI8KG4D_107060_True.wav</td>\n",
       "      <td>ill put your sun strike in your mothers pussy</td>\n",
       "      <td>{'Ill': {'start': 0.08, 'end': 0.32}, 'put': {...</td>\n",
       "      <td>True</td>\n",
       "    </tr>\n",
       "  </tbody>\n",
       "</table>\n",
       "<p>7323 rows × 4 columns</p>\n",
       "</div>"
      ],
      "text/plain": [
       "                                  path  \\\n",
       "0      en-US_004NOMVGP0_85153_True.wav   \n",
       "1     en-US_008A2TOMAT_196782_True.wav   \n",
       "2     en-US_008E2KYNNP_131758_True.wav   \n",
       "3      en-US_008KASX3NT_46781_True.wav   \n",
       "4     en-US_00EDDNIP6X_127419_True.wav   \n",
       "...                                ...   \n",
       "7318  en-US_ZYZJ351CN7_178414_True.wav   \n",
       "7319  en-US_ZZKMUM4AG5_208193_True.wav   \n",
       "7320  en-US_ZZNQNITLL2_179669_True.wav   \n",
       "7321   en-US_ZZNZU3Z3ZP_34298_True.wav   \n",
       "7322  en-US_ZZPSI8KG4D_107060_True.wav   \n",
       "\n",
       "                                           sentence  \\\n",
       "0                   it's called ur mom being fucked   \n",
       "1                            son of a fucking whore   \n",
       "2                        look at it go motherfucker   \n",
       "3                         i hate this pinballl shit   \n",
       "4                            very noob motherfucker   \n",
       "...                                             ...   \n",
       "7318           so everyone that fucks your tiny ass   \n",
       "7319                    i will rape your little ass   \n",
       "7320                    wheres your meepo now cunt?   \n",
       "7321                          got fucked in the ass   \n",
       "7322  ill put your sun strike in your mothers pussy   \n",
       "\n",
       "                                             timestamps  flag  \n",
       "0     {'Its': {'start': 0.06, 'end': 0.3}, 'called':...  True  \n",
       "1     {'Son': {'start': 0.1, 'end': 0.32}, 'of': {'s...  True  \n",
       "2     {'Look': {'start': 0.28, 'end': 0.5}, 'at': {'...  True  \n",
       "3     {'I': {'start': 0.06, 'end': 0.26}, 'hate': {'...  True  \n",
       "4     {'Very': {'start': 0.1, 'end': 0.4}, 'new': {'...  True  \n",
       "...                                                 ...   ...  \n",
       "7318  {'So': {'start': 0.06, 'end': 0.26}, 'everyone...  True  \n",
       "7319  {'I': {'start': 0.0, 'end': 0.16}, 'will': {'s...  True  \n",
       "7320  {'Wheres': {'start': 0.06, 'end': 0.36}, 'your...  True  \n",
       "7321  {'got': {'start': 0.04, 'end': 0.22}, 'fucked'...  True  \n",
       "7322  {'Ill': {'start': 0.08, 'end': 0.32}, 'put': {...  True  \n",
       "\n",
       "[7323 rows x 4 columns]"
      ]
     },
     "execution_count": 190,
     "metadata": {},
     "output_type": "execute_result"
    }
   ],
   "source": [
    "test_ds"
   ]
  },
  {
   "cell_type": "code",
   "execution_count": 236,
   "id": "241fd079",
   "metadata": {},
   "outputs": [
    {
     "name": "stdout",
     "output_type": "stream",
     "text": [
      "look at it go motherfucker\n"
     ]
    },
    {
     "data": {
      "text/plain": [
       "tensor([[1]], device='cuda:0')"
      ]
     },
     "execution_count": 236,
     "metadata": {},
     "output_type": "execute_result"
    }
   ],
   "source": [
    "window_size_ms = 750\n",
    "max_length = int(window_size_ms/1000 * sr)\n",
    "\n",
    "sample = test_ds.iloc[2]\n",
    "print(sample['sentence'])\n",
    "audio_data = librosa.core.load(data_path+sample['path'], sr=sr, mono=True)[0]\n",
    "# get the label and its audio\n",
    "label, audio_data = compute_labels(sample, audio_data)\n",
    "audio_data_length = audio_data.size / sr * 1000 #ms\n",
    "\n",
    "if audio_data_length > window_size_ms:\n",
    "    # randomly trim either at start and end\n",
    "    if random.random() < 0.5:\n",
    "      audio_data = audio_data[:max_length]\n",
    "    else:\n",
    "      audio_data = audio_data[audio_data.size-max_length:]\n",
    "\n",
    "# pad with zeros\n",
    "if audio_data_length < window_size_ms:\n",
    "    # randomly either append or prepend\n",
    "    if random.random() < 0.5:\n",
    "      audio_data = np.append(audio_data, np.zeros(int(max_length - audio_data.size)))\n",
    "    else:\n",
    "      audio_data = np.append(np.zeros(int(max_length - audio_data.size)), audio_data)\n",
    "audio_data = torch.tensor(audio_data).to(device)\n",
    "mel_audio_data = audio_transform(audio_data)\n",
    "mel_audio_data = zmuv_transform(mel_audio_data)\n",
    "output = model(mel_audio_data.unsqueeze(0).unsqueeze(0))\n",
    "pred = (torch.sigmoid(output)>0.5)*1\n",
    "pred"
   ]
  },
  {
   "cell_type": "code",
   "execution_count": 223,
   "id": "aa87c5d3",
   "metadata": {
    "scrolled": true
   },
   "outputs": [
    {
     "data": {
      "text/plain": [
       "['normal', 'stfu']"
      ]
     },
     "execution_count": 223,
     "metadata": {},
     "output_type": "execute_result"
    }
   ],
   "source": [
    "classes"
   ]
  },
  {
   "cell_type": "code",
   "execution_count": null,
   "id": "340e74f3",
   "metadata": {},
   "outputs": [],
   "source": []
  },
  {
   "cell_type": "code",
   "execution_count": null,
   "id": "2f9a0af0",
   "metadata": {},
   "outputs": [],
   "source": []
  }
 ],
 "metadata": {
  "kernelspec": {
   "display_name": "Python 3 (ipykernel)",
   "language": "python",
   "name": "python3"
  },
  "language_info": {
   "codemirror_mode": {
    "name": "ipython",
    "version": 3
   },
   "file_extension": ".py",
   "mimetype": "text/x-python",
   "name": "python",
   "nbconvert_exporter": "python",
   "pygments_lexer": "ipython3",
   "version": "3.7.10"
  }
 },
 "nbformat": 4,
 "nbformat_minor": 5
}
